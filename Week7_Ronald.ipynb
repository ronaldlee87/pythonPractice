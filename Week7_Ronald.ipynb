{
  "nbformat": 4,
  "nbformat_minor": 0,
  "metadata": {
    "colab": {
      "name": "Week7_Mandoo.ipynb",
      "private_outputs": true,
      "provenance": [],
      "collapsed_sections": []
    },
    "kernelspec": {
      "name": "python3",
      "display_name": "Python 3"
    },
    "language_info": {
      "name": "python"
    }
  },
  "cells": [
    {
      "cell_type": "markdown",
      "metadata": {
        "id": "WagHHdoO8hmB"
      },
      "source": [
        "### **CH 12 GENERALIZED LINEAR MODELS**\n",
        "### 13.4.1 LOGISTIC REGRESSION"
      ]
    },
    {
      "cell_type": "code",
      "metadata": {
        "id": "U7yFzpWo_B_l"
      },
      "source": [
        "from google.colab import drive\n",
        "drive.mount('/gdrive')\n",
        "folder = \"/gdrive/My Drive/Python Practice/Datasets\""
      ],
      "execution_count": null,
      "outputs": []
    },
    {
      "cell_type": "code",
      "metadata": {
        "id": "VL-CWAvR8umo"
      },
      "source": [
        "import pandas as pd\n",
        "import numpy as np\n",
        "import statsmodels.api as sm\n",
        "from scipy import stats\n",
        "\n",
        "sales_train = pd.read_csv(folder + \"/clothing_sales_training.csv\")\n",
        "sales_test = pd.read_csv(folder + \"/clothing_sales_test.csv\")\n",
        "\n",
        "X = pd.DataFrame(sales_train[['Days','Web']])\n",
        "X = sm.add_constant(X)\n",
        "y = pd.DataFrame(sales_train[['CC']])"
      ],
      "execution_count": null,
      "outputs": []
    },
    {
      "cell_type": "code",
      "metadata": {
        "id": "7k5fvLLpSw1I"
      },
      "source": [
        "logreg01 = sm.Logit(y,X).fit()\n",
        "logreg01.summary2()"
      ],
      "execution_count": null,
      "outputs": []
    },
    {
      "cell_type": "code",
      "metadata": {
        "id": "ob0PuSpXwBb3"
      },
      "source": [
        "X_test = pd.DataFrame(sales_test[['Days','Web']])\n",
        "X_test = sm.add_constant(X_test)\n",
        "y_test = pd.DataFrame(sales_test[['CC']])\n",
        "logreg01_test = sm.Logit(y_test, X_test).fit()\n",
        "logreg01_test.summary2()"
      ],
      "execution_count": null,
      "outputs": []
    },
    {
      "cell_type": "markdown",
      "metadata": {
        "id": "1y_TFlGYR-nA"
      },
      "source": [
        "### 13.6.1 POISSON REGRESSION"
      ]
    },
    {
      "cell_type": "code",
      "metadata": {
        "id": "BgKbgMslSCQY"
      },
      "source": [
        "import pandas as pd\n",
        "import numpy as np\n",
        "import statsmodels.api as sm\n",
        "import statsmodels.tools.tools as stattools\n",
        "\n",
        "churn = pd.read_csv(folder + \"/churn\")\n",
        "churn_ind = pd.get_dummies(churn['Churn'], drop_first=True)\n",
        "\n",
        "X = pd.DataFrame(churn_ind)\n",
        "X = sm.add_constant(X)\n",
        "X.columns = ['const', 'Churn = True']\n",
        "y = pd.DataFrame(churn[['CustServ Calls']])\n",
        "\n",
        "poisreg01 = sm.GLM(y, X, family=sm.families.Poisson()).fit()\n",
        "poisreg01.summary()"
      ],
      "execution_count": null,
      "outputs": []
    },
    {
      "cell_type": "markdown",
      "metadata": {
        "id": "rvlMBhW-yOis"
      },
      "source": [
        "### HANDS-ON ANALYSIS\n",
        "### 20\n",
        "Build a logistic regression model to predict the income of a person based on their age, education (as a number, with variable education.num), and the hours worked per week. \n",
        "<br>Obtain the summary of the model."
      ]
    },
    {
      "cell_type": "code",
      "metadata": {
        "id": "7IW8PurSzXXi"
      },
      "source": [
        "import pandas as pd\n",
        "import numpy as np\n",
        "import statsmodels.api as sm\n",
        "import statsmodels.tools.tools as stattools\n",
        "\n",
        "adult = pd.read_csv(folder + \"/Adult\")\n",
        "\n",
        "X_names = ['age', 'education-num', 'hours-per-week']\n",
        "X = pd.DataFrame(adult[X_names])\n",
        "X = sm.add_constant(X)\n",
        "income_ind = pd.get_dummies(adult['income'], drop_first=True)\n",
        "Y = pd.DataFrame(income_ind)\n",
        "\n",
        "logreg20 = sm.Logit(Y,X).fit()\n",
        "print(logreg20.summary2())"
      ],
      "execution_count": null,
      "outputs": []
    },
    {
      "cell_type": "markdown",
      "metadata": {
        "id": "vzTcQuxL1B-M"
      },
      "source": [
        "### 21\n",
        "Are there any variables that should be removed from the model from the previous exercise? \n",
        "<br>If so, remove the variables and rerun the model."
      ]
    },
    {
      "cell_type": "code",
      "metadata": {
        "id": "gn34i89K5ree"
      },
      "source": [
        "# No remove required."
      ],
      "execution_count": null,
      "outputs": []
    },
    {
      "cell_type": "markdown",
      "metadata": {
        "id": "EX658Vnm51Kt"
      },
      "source": [
        "### 22\n",
        "Write the descriptive form of the final logistic regression model from the previous exercise."
      ]
    },
    {
      "cell_type": "code",
      "metadata": {
        "id": "sTB3YcB3543o"
      },
      "source": [
        "#p_hat(income) = exp(-8.4611 + (0.0459 * age) + (0.3449 * education-num) + (0.0423 * hours-per-week)) / ( 1 + exp(-8.4611 + (0.0459 * age) + (0.3449 * education-num) + (0.0423 * hours-per-week)) )"
      ],
      "execution_count": null,
      "outputs": []
    },
    {
      "cell_type": "markdown",
      "metadata": {
        "id": "7hubyFTj6ixZ"
      },
      "source": [
        "### 23\n",
        "Interpret the coefficient of the age variable."
      ]
    },
    {
      "cell_type": "code",
      "metadata": {
        "id": "tgd6Duyv7FUx"
      },
      "source": [
        "# As age increase by 1, probability of >50K income increase by exp(0.0459) / 1 + exp(0.0459)"
      ],
      "execution_count": null,
      "outputs": []
    },
    {
      "cell_type": "markdown",
      "metadata": {
        "id": "SL6-nuxf7vgB"
      },
      "source": [
        "### 24\n",
        "Find the impact on the probability of having high income for every 10 years a person is older."
      ]
    },
    {
      "cell_type": "code",
      "metadata": {
        "id": "J7J-ytdK74_A"
      },
      "source": [
        "#exp(0.459) / 1 + exp(0.459)"
      ],
      "execution_count": null,
      "outputs": []
    },
    {
      "cell_type": "code",
      "metadata": {
        "id": "AXEmYUk39Zi0"
      },
      "source": [
        "np.exp(10*logreg20.params[1]) # ????"
      ],
      "execution_count": null,
      "outputs": []
    },
    {
      "cell_type": "markdown",
      "metadata": {
        "id": "gMR-X2PG71Tx"
      },
      "source": [
        "### 25\n",
        "Interpret the coefficient of the education.num variable."
      ]
    },
    {
      "cell_type": "code",
      "metadata": {
        "id": "jOQ7dryf74oB"
      },
      "source": [
        "# As education-num increase by 1, probability of >50K income increase by exp(0.3449) / 1 + exp(0.3449)"
      ],
      "execution_count": null,
      "outputs": []
    },
    {
      "cell_type": "markdown",
      "metadata": {
        "id": "Q7yemsxi75wt"
      },
      "source": [
        "### 26\n",
        "Find the impact on the probability of having high income for every four more years of education a person has.\n"
      ]
    },
    {
      "cell_type": "code",
      "metadata": {
        "id": "hR3yalcK78mA"
      },
      "source": [
        "#exp(1.3796) / 1 + exp(1.3796)"
      ],
      "execution_count": null,
      "outputs": []
    },
    {
      "cell_type": "markdown",
      "metadata": {
        "id": "hOt7Lxpj79Bj"
      },
      "source": [
        "### 27\n",
        "Interpret the coefficient of the hours.per.week variable."
      ]
    },
    {
      "cell_type": "code",
      "metadata": {
        "id": "mx1kkjpS7_hJ"
      },
      "source": [
        "# As hours-per-week increase by 1, probability of >50K income increase by exp(0.0423) / 1 + exp(0.0423)"
      ],
      "execution_count": null,
      "outputs": []
    },
    {
      "cell_type": "markdown",
      "metadata": {
        "id": "reg6jbOI8ACb"
      },
      "source": [
        "### 28\n",
        "Find the impact on the probability of having high income for every five more hours per week a person works.\n"
      ]
    },
    {
      "cell_type": "code",
      "metadata": {
        "id": "HU_ftTgK8DVR"
      },
      "source": [
        "#exp(0.2115) / 1 + exp(0.2115)"
      ],
      "execution_count": null,
      "outputs": []
    },
    {
      "cell_type": "markdown",
      "metadata": {
        "id": "tcgJynMz8Dp8"
      },
      "source": [
        "### 29 \n",
        "Obtain the predicted values using the model from the previous exercise. \n",
        "<br>Compare the predicted values to the actual values."
      ]
    },
    {
      "cell_type": "code",
      "metadata": {
        "id": "WuoVABot9VHr"
      },
      "source": [
        "ypred = pd.DataFrame(logreg20.predict(X), columns=['predicted']) \n",
        "compare = pd.concat((Y, ypred), axis=1)\n",
        "compare.head()"
      ],
      "execution_count": null,
      "outputs": []
    },
    {
      "cell_type": "code",
      "metadata": {
        "id": "N5a0R3sI-ngt"
      },
      "source": [
        "Income = [\">50K.\", \"<=50K.\"]\n",
        "y_pred = pd.DataFrame([Income[i<0.5] for i in logreg20.predict(X)])\n",
        "pd.crosstab(adult[\"income\"], y_pred[0], rownames = [\"Actual Income\"], colnames = [\"Predicted Income\"], margins=True)"
      ],
      "execution_count": null,
      "outputs": []
    },
    {
      "cell_type": "markdown",
      "metadata": {
        "id": "GrAQ6CqD9Lyl"
      },
      "source": [
        "### 30\n",
        "Build a Poisson regression model to predict the years of education a person has (using the variable education.num) based on a person’s age and the hours they work per week. \n",
        "<br>Obtain the summary of the model."
      ]
    },
    {
      "cell_type": "code",
      "metadata": {
        "id": "quFCf2ZN9UFI"
      },
      "source": [
        "import pandas as pd\n",
        "import numpy as np\n",
        "import statsmodels.api as sm\n",
        "import statsmodels.tools.tools as stattools\n",
        "\n",
        "\n",
        "adult = pd.read_csv(folder + \"/Adult\")\n",
        "\n",
        "X_names = ['age', 'hours-per-week']\n",
        "X = pd.DataFrame(adult[X_names])\n",
        "X = sm.add_constant(X)\n",
        "X.columns = ['const', 'age', 'hours-per-week']\n",
        "Y = pd.DataFrame(adult[['education-num']])\n",
        "\n",
        "poisreg30 = sm.GLM(Y,X, family=sm.families.Poisson()).fit()\n",
        "print(poisreg30.summary())"
      ],
      "execution_count": null,
      "outputs": []
    },
    {
      "cell_type": "markdown",
      "metadata": {
        "id": "OIqs4Neq9Vw7"
      },
      "source": [
        "### 31\n",
        "Are there any variables that should be removed from the model from the previous exercise? \n",
        "<br>If so, remove the variables and rerun the model.\n"
      ]
    },
    {
      "cell_type": "code",
      "metadata": {
        "id": "8ydXdpbs9Z6Y"
      },
      "source": [
        "# No"
      ],
      "execution_count": null,
      "outputs": []
    },
    {
      "cell_type": "markdown",
      "metadata": {
        "id": "9gJzaAzG9aID"
      },
      "source": [
        "### 32\n",
        "Write the descriptive form of the final Poisson regression model from the previous exercise."
      ]
    },
    {
      "cell_type": "code",
      "metadata": {
        "id": "T3xF9cuT9deg"
      },
      "source": [
        "# y_hat = exp(2.1739 + (0.0004 * age) + (0.0030 * hours-per-week))"
      ],
      "execution_count": null,
      "outputs": []
    },
    {
      "cell_type": "markdown",
      "metadata": {
        "id": "j1QhQrdl9esi"
      },
      "source": [
        "### 33\n",
        "Obtain the predicted values using the model from the previous exercise. <br>Compare the predicted values to the actual values."
      ]
    },
    {
      "cell_type": "code",
      "metadata": {
        "id": "ZaohdCQq9iPI"
      },
      "source": [
        "ypred = pd.DataFrame(poisreg30.predict(X), columns=['predicted']) \n",
        "compare = pd.concat((Y, ypred), axis=1)\n",
        "compare.head()"
      ],
      "execution_count": null,
      "outputs": []
    },
    {
      "cell_type": "code",
      "metadata": {
        "id": "siVQl1moARdZ"
      },
      "source": [
        "y_pred = np.array(poisreg30.predict(X).round())\n",
        "pd.crosstab(adult['education-num'], y_pred, rownames=['Actual Edu Num'], colnames = ['Predicted Edu Num'], margins=True)"
      ],
      "execution_count": null,
      "outputs": []
    }
  ]
}