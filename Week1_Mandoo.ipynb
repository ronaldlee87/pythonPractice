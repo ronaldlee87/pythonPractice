{
  "nbformat": 4,
  "nbformat_minor": 0,
  "metadata": {
    "colab": {
      "name": "Week1_Mandoo.ipynb",
      "private_outputs": true,
      "provenance": [],
      "collapsed_sections": []
    },
    "kernelspec": {
      "name": "python3",
      "display_name": "Python 3"
    },
    "language_info": {
      "name": "python"
    },
    "accelerator": "GPU"
  },
  "cells": [
    {
      "cell_type": "code",
      "metadata": {
        "id": "MRRnp9Sg8hRi"
      },
      "source": [
        "############################################################# CH 2 #############################################################"
      ],
      "execution_count": null,
      "outputs": []
    },
    {
      "cell_type": "code",
      "metadata": {
        "id": "_QzFrxQ8hYsU"
      },
      "source": [
        "import pandas as pd\n",
        "import numpy as np "
      ],
      "execution_count": null,
      "outputs": []
    },
    {
      "cell_type": "code",
      "metadata": {
        "id": "2-0eIErZfMfM"
      },
      "source": [
        "from google.colab import drive\n",
        "drive.mount(\"/content/gdrive\")"
      ],
      "execution_count": null,
      "outputs": []
    },
    {
      "cell_type": "markdown",
      "metadata": {
        "id": "GybABbOSldzM"
      },
      "source": [
        ""
      ]
    },
    {
      "cell_type": "code",
      "metadata": {
        "id": "OU3T8jB7lerL"
      },
      "source": [
        "#2.24 "
      ],
      "execution_count": null,
      "outputs": []
    },
    {
      "cell_type": "code",
      "metadata": {
        "id": "uhJ1YQb-XWZ1"
      },
      "source": [
        "adult = pd.read_csv(\"/content/gdrive/My Drive/Python Practice/Datasets/adult_ch3_training\")\n",
        "adult[:3]"
      ],
      "execution_count": null,
      "outputs": []
    },
    {
      "cell_type": "markdown",
      "metadata": {
        "id": "oR5k7DkY6Wjd"
      },
      "source": [
        ""
      ]
    },
    {
      "cell_type": "code",
      "metadata": {
        "id": "QfwSbl3Qf8Bk"
      },
      "source": [
        "#2.25"
      ],
      "execution_count": null,
      "outputs": []
    },
    {
      "cell_type": "code",
      "metadata": {
        "id": "rLOd3LQglqDV"
      },
      "source": [
        "#change data set name from 'adult_ch3_training' to 'adult' "
      ],
      "execution_count": null,
      "outputs": []
    },
    {
      "cell_type": "code",
      "metadata": {
        "id": "yrpv5pD1lzG_"
      },
      "source": [
        "#2.26"
      ],
      "execution_count": null,
      "outputs": []
    },
    {
      "cell_type": "code",
      "metadata": {
        "id": "MZGobRWalz_w"
      },
      "source": [
        "from sklearn.tree import DecisionTreeClassifier #import Decision Tree Classifier"
      ],
      "execution_count": null,
      "outputs": []
    },
    {
      "cell_type": "code",
      "metadata": {
        "id": "VOXsOYEvl9HZ"
      },
      "source": [
        "#2.27"
      ],
      "execution_count": null,
      "outputs": []
    },
    {
      "cell_type": "code",
      "metadata": {
        "id": "c5pul3gjmdOQ"
      },
      "source": [
        "table01 = pd.crosstab(adult['workclass'], adult['sex'])\n",
        "table01"
      ],
      "execution_count": null,
      "outputs": []
    },
    {
      "cell_type": "code",
      "metadata": {
        "id": "A3KTO-xSmvG-"
      },
      "source": [
        "#2.28"
      ],
      "execution_count": null,
      "outputs": []
    },
    {
      "cell_type": "code",
      "metadata": {
        "id": "yQiMX5WWm2Sd"
      },
      "source": [
        "table02 = pd.crosstab(adult['marital-status'], adult['sex'])\n",
        "table02"
      ],
      "execution_count": null,
      "outputs": []
    },
    {
      "cell_type": "code",
      "metadata": {
        "id": "iSLo_KCjm-4q"
      },
      "source": [
        "#2.29"
      ],
      "execution_count": null,
      "outputs": []
    },
    {
      "cell_type": "code",
      "metadata": {
        "id": "wWguznGWq7xk"
      },
      "source": [
        "adult[['sex','marital-status']].loc[0]"
      ],
      "execution_count": null,
      "outputs": []
    },
    {
      "cell_type": "code",
      "metadata": {
        "id": "TmvT3NEwnNBz"
      },
      "source": [
        "adult_first = adult.loc[0]\n",
        "adult_first = adult_first[['sex','marital-status']]\n",
        "adult_first"
      ],
      "execution_count": null,
      "outputs": []
    },
    {
      "cell_type": "code",
      "metadata": {
        "id": "v2zFrpQInXU4"
      },
      "source": [
        "#Answer : Above person belong to Male and Self-emp-not-inc cell. This cell has 992 people including him."
      ],
      "execution_count": null,
      "outputs": []
    },
    {
      "cell_type": "code",
      "metadata": {
        "id": "DVrUREmKoGV6"
      },
      "source": [
        "#2.30"
      ],
      "execution_count": null,
      "outputs": []
    },
    {
      "cell_type": "code",
      "metadata": {
        "id": "O__QInC7q3aR"
      },
      "source": [
        "adult[6:11]"
      ],
      "execution_count": null,
      "outputs": []
    },
    {
      "cell_type": "code",
      "metadata": {
        "id": "_d1T4dlJqKB_"
      },
      "source": [
        "adult_sixToTen = adult[6:11]\n",
        "adult_sixToTen = adult_sixToTen[['sex','marital-status']]\n",
        "adult_sixToTen"
      ],
      "execution_count": null,
      "outputs": []
    },
    {
      "cell_type": "code",
      "metadata": {
        "id": "R9VZGog0pG_1"
      },
      "source": [
        "# Answer : The row 6 - 8, 10 belong to Male and Married-civ-spouse cell, which includes 6010 people.\n",
        "#          The row 9 belong to Male and Divorced cell, which shows 795. "
      ],
      "execution_count": null,
      "outputs": []
    },
    {
      "cell_type": "code",
      "metadata": {
        "id": "Vwm4nOhErdlR"
      },
      "source": [
        "#2.31"
      ],
      "execution_count": null,
      "outputs": []
    },
    {
      "cell_type": "code",
      "metadata": {
        "id": "VSxgzinFrseo"
      },
      "source": [
        "adultMarried = adult[(adult['marital-status'] == 'Married-civ-spouse')]\n",
        "adultMarried[:5]"
      ],
      "execution_count": null,
      "outputs": []
    },
    {
      "cell_type": "code",
      "metadata": {
        "id": "CFcKzNysKEQX"
      },
      "source": [
        "#2.32"
      ],
      "execution_count": null,
      "outputs": []
    },
    {
      "cell_type": "code",
      "metadata": {
        "id": "65jFvwolKyvK"
      },
      "source": [
        "pd.crosstab(adultMarried['workclass'], adultMarried['sex'])"
      ],
      "execution_count": null,
      "outputs": []
    },
    {
      "cell_type": "code",
      "metadata": {
        "id": "gGBaBvu5LGKa"
      },
      "source": [
        "table01"
      ],
      "execution_count": null,
      "outputs": []
    },
    {
      "cell_type": "code",
      "metadata": {
        "id": "l4w6ITdQLLyR"
      },
      "source": [
        "# The number of female decrease more than male. "
      ],
      "execution_count": null,
      "outputs": []
    },
    {
      "cell_type": "code",
      "metadata": {
        "id": "dywYtSIhPsfI"
      },
      "source": [
        "#2.33"
      ],
      "execution_count": null,
      "outputs": []
    },
    {
      "cell_type": "code",
      "metadata": {
        "id": "DFT9eECaPt50"
      },
      "source": [
        "adultOver40 = adult[(adult['age'] > 40)]\n",
        "adultOver40[:5]"
      ],
      "execution_count": null,
      "outputs": []
    },
    {
      "cell_type": "code",
      "metadata": {
        "id": "juFhRTgwQTUR"
      },
      "source": [
        "#2.34"
      ],
      "execution_count": null,
      "outputs": []
    },
    {
      "cell_type": "code",
      "metadata": {
        "id": "-70lpmvkP-XQ"
      },
      "source": [
        "pd.crosstab(adultOver40['marital-status'], adultOver40['sex'])"
      ],
      "execution_count": null,
      "outputs": []
    },
    {
      "cell_type": "code",
      "metadata": {
        "id": "y9LoX5JsQSX4"
      },
      "source": [
        "table02"
      ],
      "execution_count": null,
      "outputs": []
    },
    {
      "cell_type": "code",
      "metadata": {
        "id": "TUQuhsUpQi_Z"
      },
      "source": [
        "# The number of male decreases more than female.  "
      ],
      "execution_count": null,
      "outputs": []
    },
    {
      "cell_type": "code",
      "metadata": {
        "id": "R7LkOHZH8cWa"
      },
      "source": [
        "############################################################# CH 3 #############################################################"
      ],
      "execution_count": null,
      "outputs": []
    },
    {
      "cell_type": "code",
      "metadata": {
        "id": "tg2yf5gCRNKE"
      },
      "source": [
        "#3.21"
      ],
      "execution_count": null,
      "outputs": []
    },
    {
      "cell_type": "code",
      "metadata": {
        "id": "AwAGQIAO5t9B"
      },
      "source": [
        "nutrition = pd.read_csv(\"/content/gdrive/My Drive/Python Practice/Datasets/nutrition_subset\")\n",
        "nutrition.head(n=5)"
      ],
      "execution_count": null,
      "outputs": []
    },
    {
      "cell_type": "code",
      "metadata": {
        "id": "Q6nR6JCd5x8w"
      },
      "source": [
        "nutrition_sort = nutrition.sort_values(['saturated_fat'], ascending=False)\n",
        "nutrition_sort.head(n=5)"
      ],
      "execution_count": null,
      "outputs": []
    },
    {
      "cell_type": "code",
      "metadata": {
        "id": "MbBR6rjx6tok"
      },
      "source": [
        "# It is hard to compare saturated fat since each food has different scales and sizes.\n",
        "# We can compare saturated fat in food if saturated fat per gram is calculated.  "
      ],
      "execution_count": null,
      "outputs": []
    },
    {
      "cell_type": "code",
      "metadata": {
        "id": "LmH776f86wSy"
      },
      "source": [
        "# 3.22"
      ],
      "execution_count": null,
      "outputs": []
    },
    {
      "cell_type": "code",
      "metadata": {
        "id": "EOREkij76xuq"
      },
      "source": [
        "nutrition['saturated_fat_per_gram'] = nutrition['saturated_fat'] / nutrition['weight_in_grams']\n",
        "nutrition.head(n=5)"
      ],
      "execution_count": null,
      "outputs": []
    },
    {
      "cell_type": "code",
      "metadata": {
        "id": "tagg0NCe62Tw"
      },
      "source": [
        "nutrition_sortBy_fatPerGram = nutrition.sort_values(['saturated_fat_per_gram'], ascending=False)\n",
        "nutrition_sortBy_fatPerGram.head(n=5)"
      ],
      "execution_count": null,
      "outputs": []
    },
    {
      "cell_type": "code",
      "metadata": {
        "id": "cpKRnpNs65d_"
      },
      "source": [
        "# Butter salted has the most saturated fat per gram"
      ],
      "execution_count": null,
      "outputs": []
    },
    {
      "cell_type": "code",
      "metadata": {
        "id": "3j9pxjhP68DP"
      },
      "source": [
        "#3.23"
      ],
      "execution_count": null,
      "outputs": []
    },
    {
      "cell_type": "code",
      "metadata": {
        "id": "H0X7jm-p69CK"
      },
      "source": [
        "nutrition['cholesterol_per_gram'] = nutrition['cholesterol'] / nutrition['weight_in_grams']\n",
        "nutrition.head(n=5)"
      ],
      "execution_count": null,
      "outputs": []
    },
    {
      "cell_type": "code",
      "metadata": {
        "id": "50Sd3zL86-U2"
      },
      "source": [
        "nutrition_sortBy_cholesterolPerGram = nutrition.sort_values(['cholesterol_per_gram'], ascending=False)\n",
        "nutrition_sortBy_cholesterolPerGram.head(n=5)"
      ],
      "execution_count": null,
      "outputs": []
    },
    {
      "cell_type": "code",
      "metadata": {
        "id": "GrQEQItN7AAD"
      },
      "source": [
        "# Eggs, Raw, Yolk 1 yolk has the most cholesterol fat per gram"
      ],
      "execution_count": null,
      "outputs": []
    },
    {
      "cell_type": "code",
      "metadata": {
        "id": "7dwqvqlg7Bth"
      },
      "source": [
        "# 3.24"
      ],
      "execution_count": null,
      "outputs": []
    },
    {
      "cell_type": "code",
      "metadata": {
        "id": "o74DwVv27EoR"
      },
      "source": [
        "from scipy import stats\n",
        "nutrition['saturated_fat_per_gram_z'] = stats.zscore(nutrition['saturated_fat_per_gram'])\n",
        "nutrition.head(n=5)"
      ],
      "execution_count": null,
      "outputs": []
    },
    {
      "cell_type": "code",
      "metadata": {
        "id": "68YUdjXu7Fxu"
      },
      "source": [
        "nutrition_fat_z_sort = nutrition.sort_values(['saturated_fat_per_gram_z'], ascending=False)\n",
        "nutrition_fat_z_sort.head(n=5)"
      ],
      "execution_count": null,
      "outputs": []
    },
    {
      "cell_type": "code",
      "metadata": {
        "id": "MWKSFXj97Iyz"
      },
      "source": [
        "nutrition_outliers_fat = nutrition_fat_z_sort.query('saturated_fat_per_gram_z > 3 | saturated_fat_per_gram_z < -3')\n",
        "np.shape(nutrition_outliers_fat)"
      ],
      "execution_count": null,
      "outputs": []
    },
    {
      "cell_type": "code",
      "metadata": {
        "id": "e5dyLRRr7KwB"
      },
      "source": [
        "nutrition_outliers_fat"
      ],
      "execution_count": null,
      "outputs": []
    },
    {
      "cell_type": "code",
      "metadata": {
        "id": "c9HKfQro7MU9"
      },
      "source": [
        "# 15 foods are outliers are outliers at the high end of the scale.\n",
        "# No foods is outlier at the low end of the scale.  "
      ],
      "execution_count": null,
      "outputs": []
    },
    {
      "cell_type": "code",
      "metadata": {
        "id": "kk97GQ_97OCP"
      },
      "source": [
        "# 3.25"
      ],
      "execution_count": null,
      "outputs": []
    },
    {
      "cell_type": "code",
      "metadata": {
        "id": "SL54vEGz7QZv"
      },
      "source": [
        "from scipy import stats\n",
        "nutrition['cholesterol_per_gram_z'] = stats.zscore(nutrition['cholesterol_per_gram'])\n",
        "nutrition.head(n=5)"
      ],
      "execution_count": null,
      "outputs": []
    },
    {
      "cell_type": "code",
      "metadata": {
        "id": "rdsYSyeU7SLA"
      },
      "source": [
        "nutrition_chol_z_sort = nutrition.sort_values(['cholesterol_per_gram_z'], ascending=False)\n",
        "nutrition_chol_z_sort.head(n=5)"
      ],
      "execution_count": null,
      "outputs": []
    },
    {
      "cell_type": "code",
      "metadata": {
        "id": "Ff9DBWyN7TnH"
      },
      "source": [
        "nutrition_outliers_chol = nutrition_chol_z_sort.query('cholesterol_per_gram_z > 3')\n",
        "np.shape(nutrition_outliers_chol)"
      ],
      "execution_count": null,
      "outputs": []
    },
    {
      "cell_type": "code",
      "metadata": {
        "id": "RROS-X1L7VfH"
      },
      "source": [
        "nutrition_outliers_chol"
      ],
      "execution_count": null,
      "outputs": []
    },
    {
      "cell_type": "code",
      "metadata": {
        "id": "8O4UJ-Mm7W58"
      },
      "source": [
        "# 3.26"
      ],
      "execution_count": null,
      "outputs": []
    },
    {
      "cell_type": "code",
      "metadata": {
        "id": "7UDnnrRD7YdA"
      },
      "source": [
        "#adult = pd.read_csv(\"C:/Users/ronal/Python_Practice/DataSets/adult_ch3_training\")\n",
        "adult = pd.read_csv(\"/content/gdrive/My Drive/Python Practice/Datasets/adult_ch3_training\")\n",
        "adult.head(n=5)"
      ],
      "execution_count": null,
      "outputs": []
    },
    {
      "cell_type": "code",
      "metadata": {
        "id": "fZT88oYd7ZyX"
      },
      "source": [
        "adult.shape"
      ],
      "execution_count": null,
      "outputs": []
    },
    {
      "cell_type": "code",
      "metadata": {
        "id": "xwbduT5R7mWG"
      },
      "source": [
        "adult['index'] = pd.Series(range(0,14797))\n",
        "adult.head(n=5)"
      ],
      "execution_count": null,
      "outputs": []
    },
    {
      "cell_type": "code",
      "metadata": {
        "id": "xq9bKdy47pET"
      },
      "source": [
        "# 3.27"
      ],
      "execution_count": null,
      "outputs": []
    },
    {
      "cell_type": "code",
      "metadata": {
        "id": "aAHjx-uT7qkD"
      },
      "source": [
        "from scipy import stats\n",
        "adult['education_z'] = stats.zscore(adult['education'])\n",
        "adult.head(n=5)"
      ],
      "execution_count": null,
      "outputs": []
    },
    {
      "cell_type": "code",
      "metadata": {
        "id": "c6OwJJ497rul"
      },
      "source": [
        "adult_education_z_sort = adult.sort_values(['education_z'], ascending=False)\n",
        "adult_education_z_sort.head(n=5)"
      ],
      "execution_count": null,
      "outputs": []
    },
    {
      "cell_type": "code",
      "metadata": {
        "id": "mVgUIAJr7toZ"
      },
      "source": [
        "adult_outliers_education = adult_education_z_sort.query('education_z > 3')\n",
        "adult_outliers_education"
      ],
      "execution_count": null,
      "outputs": []
    },
    {
      "cell_type": "code",
      "metadata": {
        "id": "HerF2Jso7u86"
      },
      "source": [
        "# No outlier in education field"
      ],
      "execution_count": null,
      "outputs": []
    },
    {
      "cell_type": "code",
      "metadata": {
        "id": "6xc_iJ0B7wiO"
      },
      "source": [
        "# 3.28"
      ],
      "execution_count": null,
      "outputs": []
    },
    {
      "cell_type": "code",
      "metadata": {
        "id": "6HNq07MC7yhM"
      },
      "source": [
        "adult['age_z'] = stats.zscore(adult['age'])"
      ],
      "execution_count": null,
      "outputs": []
    },
    {
      "cell_type": "code",
      "metadata": {
        "id": "smfvHjYX7zqC"
      },
      "source": [
        "adult_age_z_sort = adult.sort_values(['age_z'], ascending=False)\n",
        "adult_age_z_sort.head(n=5)"
      ],
      "execution_count": null,
      "outputs": []
    },
    {
      "cell_type": "code",
      "metadata": {
        "id": "M5Pm0js171Ts"
      },
      "source": [
        "adult_outliers_age = adult_age_z_sort.query('age_z > 3 | age_z < -3')\n",
        "adult_outliers_age.shape"
      ],
      "execution_count": null,
      "outputs": []
    },
    {
      "cell_type": "code",
      "metadata": {
        "id": "Uc9jVYCV72zn"
      },
      "source": [
        "adult_outliers_age.head(n=5)"
      ],
      "execution_count": null,
      "outputs": []
    },
    {
      "cell_type": "code",
      "metadata": {
        "id": "FM9SVqMA730w"
      },
      "source": [
        "# There are 60 outliers in age field."
      ],
      "execution_count": null,
      "outputs": []
    },
    {
      "cell_type": "code",
      "metadata": {
        "id": "LxWN2eRz75GJ"
      },
      "source": [
        "# 3.29"
      ],
      "execution_count": null,
      "outputs": []
    },
    {
      "cell_type": "code",
      "metadata": {
        "id": "LnVYRHBO77fD"
      },
      "source": [
        "adult['capital-gain-flag'] = adult['capital-gain']\n",
        "adult.loc[adult['capital-gain-flag'] != 0, 'capital-gain-flag'] = 1\n",
        "adult.head(n=5)"
      ],
      "execution_count": null,
      "outputs": []
    },
    {
      "cell_type": "code",
      "metadata": {
        "id": "U-Wpbg6b7-lj"
      },
      "source": [
        "# 3.30"
      ],
      "execution_count": null,
      "outputs": []
    },
    {
      "cell_type": "code",
      "metadata": {
        "id": "fjI2Nkqq8AAe"
      },
      "source": [
        "age_80 = adult[(adult['age'] > 80)]\n",
        "age_80.shape"
      ],
      "execution_count": null,
      "outputs": []
    },
    {
      "cell_type": "code",
      "metadata": {
        "id": "J1onvrgx8A_u"
      },
      "source": [
        "age_80['age'].plot(kind = 'hist', title = 'Histogram of Age at least 80')"
      ],
      "execution_count": null,
      "outputs": []
    },
    {
      "cell_type": "code",
      "metadata": {
        "id": "OUNsSsch8CJH"
      },
      "source": [
        "# The age records over 88 are relatively shown more than others.\n",
        "# No idea"
      ],
      "execution_count": null,
      "outputs": []
    }
  ]
}