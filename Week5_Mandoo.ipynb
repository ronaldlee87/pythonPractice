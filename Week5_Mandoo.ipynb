{
  "nbformat": 4,
  "nbformat_minor": 0,
  "metadata": {
    "colab": {
      "name": "Week5_Mandoo.ipynb",
      "private_outputs": true,
      "provenance": [],
      "collapsed_sections": []
    },
    "kernelspec": {
      "name": "python3",
      "display_name": "Python 3"
    },
    "language_info": {
      "name": "python"
    }
  },
  "cells": [
    {
      "cell_type": "markdown",
      "metadata": {
        "id": "1e4ofHUoi8q2"
      },
      "source": [
        "### **CH 9 NEURAL NETWORKS**\n",
        "\n",
        "## No Code yet?"
      ]
    },
    {
      "cell_type": "code",
      "metadata": {
        "id": "fGdC8Q0yuhSN"
      },
      "source": [
        "#from google.colab import drive\n",
        "#drive.mount(\"/content/gdrive\")\n",
        "\n",
        "from google.colab import drive\n",
        "drive.mount('/gdrive')\n",
        "folder = \"/gdrive/My Drive/Python Practice/Datasets\""
      ],
      "execution_count": null,
      "outputs": []
    },
    {
      "cell_type": "markdown",
      "metadata": {
        "id": "EI9X4y3KlJHi"
      },
      "source": [
        "### **HANDS-ON ANALYSIS**\n"
      ]
    },
    {
      "cell_type": "code",
      "metadata": {
        "id": "_7k77T9TlJHj"
      },
      "source": [
        "from tensorflow.keras.models import Sequential\n",
        "from tensorflow.keras.layers import Dense"
      ],
      "execution_count": null,
      "outputs": []
    },
    {
      "cell_type": "code",
      "metadata": {
        "id": "eHiLqFfSlJHj"
      },
      "source": [
        "import numpy as np\n",
        "import pandas as pd\n",
        "import tensorflow as tf"
      ],
      "execution_count": null,
      "outputs": []
    },
    {
      "cell_type": "code",
      "metadata": {
        "id": "28l3VRKFlJHk"
      },
      "source": [
        "np.random.seed(3)\n",
        "tf.random.set_seed(3)"
      ],
      "execution_count": null,
      "outputs": []
    },
    {
      "cell_type": "markdown",
      "metadata": {
        "id": "SXYly4dBlJHo"
      },
      "source": [
        "### 17\n",
        "* a. Create binary variable that equals 1 if 'Cap_Gain_Losses' > 0 as 'CapGainsLossesPositive'"
      ]
    },
    {
      "cell_type": "code",
      "metadata": {
        "id": "aYNt7MXnlJHo"
      },
      "source": [
        "adult_train = pd.read_csv(folder + '/adult_ch6_training', delimiter=',')\n",
        "adult_test = pd.read_csv(folder + '/adult_ch6_test', delimiter=',')"
      ],
      "execution_count": null,
      "outputs": []
    },
    {
      "cell_type": "code",
      "metadata": {
        "id": "uqXd-_FGlJHp"
      },
      "source": [
        "import statsmodels.tools.tools as stattools\n",
        "\n",
        "# change CapGainsLosses to binary\n",
        "adult_train[\"CapGainsLossesPositive\"] = list(map(int, adult_train[\"Cap_Gains_Losses\"]>0))\n",
        "\n",
        "# change Income to numeric(binary)\n",
        "adult_train[\"Income_factor\"] = list(map(int, adult_train[\"Income\"] == '>50K'))\n",
        "#adult_train[\"Marital_factor\"] = list(map(int, adult_train[\"Marital status\"] == 'Married')) ####\n",
        "#X_adult=adult_train[['CapGainsLossesPositive','Marital_factor']]\n",
        "\n",
        "# convert 'Marital status' to factor\n",
        "mar_np = np.array(adult_train['Marital status'])\n",
        "(mar_cat, mar_cat_dict) = stattools.categorical(mar_np, drop=True, dictnames=True)"
      ],
      "execution_count": null,
      "outputs": []
    },
    {
      "cell_type": "code",
      "metadata": {
        "id": "Dv0cLOW9yGjr"
      },
      "source": [
        "mar_cat_pd = pd.DataFrame(mar_cat)\n",
        "X_adult = pd.concat((adult_train['CapGainsLossesPositive'], mar_cat_pd), axis=1)\n",
        "\n",
        "X_adult_names = ['CapGainsLossesPositive', 'Divorced', 'Married', 'Never-married', 'Separated', 'Widowed']\n",
        "Y_adult_names = ['<=50K', '>50K']"
      ],
      "execution_count": null,
      "outputs": []
    },
    {
      "cell_type": "markdown",
      "metadata": {
        "id": "BVD7lua0lJHp"
      },
      "source": [
        "* b. Convert 'Marital.status', 'Income', 'CapGainsLossesPositive' to factors"
      ]
    },
    {
      "cell_type": "code",
      "metadata": {
        "id": "GE5JIRW7lJHq"
      },
      "source": [
        "X_adult.head()"
      ],
      "execution_count": null,
      "outputs": []
    },
    {
      "cell_type": "markdown",
      "metadata": {
        "id": "wx1Io8WalJHq"
      },
      "source": [
        "### 18\n",
        "Using training set, Create Neural Network model (NNM1 : model 1) to predict customer's Income"
      ]
    },
    {
      "cell_type": "code",
      "metadata": {
        "id": "1CRTyMC9lJHr"
      },
      "source": [
        "#X_adult.head()\n",
        "y_adult = adult_train['Income_factor']"
      ],
      "execution_count": null,
      "outputs": []
    },
    {
      "cell_type": "code",
      "metadata": {
        "id": "TcxXwVCMlJHr"
      },
      "source": [
        "model1 = Sequential()\n",
        "model1.add(Dense(10, input_dim = 6, activation='relu'))\n",
        "model1.add(Dense(1, activation='sigmoid'))"
      ],
      "execution_count": null,
      "outputs": []
    },
    {
      "cell_type": "code",
      "metadata": {
        "id": "KDmoxOFelJHs"
      },
      "source": [
        "model1.compile(loss='categorical_crossentropy', optimizer='adam',metrics=['accuracy'])"
      ],
      "execution_count": null,
      "outputs": []
    },
    {
      "cell_type": "code",
      "metadata": {
        "id": "QfqJyXttlJHs"
      },
      "source": [
        "model1.fit(X_adult,y_adult, epochs=5, batch_size=1)"
      ],
      "execution_count": null,
      "outputs": []
    },
    {
      "cell_type": "code",
      "metadata": {
        "id": "EiQ9no81lJHt"
      },
      "source": [
        "print('\\n Accuracy: %.4f' % (model1.evaluate(X_adult, y_adult)[1]))"
      ],
      "execution_count": null,
      "outputs": []
    },
    {
      "cell_type": "code",
      "metadata": {
        "id": "ycroE5KrlJHt"
      },
      "source": [
        "adult_test[\"CapGainsLossesPositive\"] = list(map(int, adult_test[\"Cap_Gains_Losses\"]>0))\n",
        "adult_test[\"Income_factor\"] = list(map(int, adult_test[\"Income\"] == '>50K'))\n",
        "#adult_test[\"Marital_factor\"] = list(map(int, adult_test[\"Marital status\"] == 'Married'))\n",
        "\n",
        "mar_np_test = np.array(adult_test['Marital status'])\n",
        "(mar_cat_test, mar_cat_dict_test) = stattools.categorical(mar_np_test, drop=True, dictnames=True)"
      ],
      "execution_count": null,
      "outputs": []
    },
    {
      "cell_type": "code",
      "metadata": {
        "id": "I-PfE_0j8GG6"
      },
      "source": [
        "mar_cat_test_pd = pd.DataFrame(mar_cat_test)\n",
        "X_adult_test = pd.concat((adult_test['CapGainsLossesPositive'], mar_cat_test_pd), axis=1)\n",
        "\n",
        "X_adult_names = ['CapGainsLossesPositive', 'Divorced', 'Married', 'Never-married', 'Separated', 'Widowed']\n",
        "Y_adult_names = ['<=50K', '>50K']"
      ],
      "execution_count": null,
      "outputs": []
    },
    {
      "cell_type": "code",
      "metadata": {
        "id": "G2wq-Nk1lJHu"
      },
      "source": [
        "#X_adult.head()\n",
        "y_adult_test = adult_test['Income_factor']"
      ],
      "execution_count": null,
      "outputs": []
    },
    {
      "cell_type": "code",
      "metadata": {
        "id": "JqNFZttalJHv"
      },
      "source": [
        "print('\\n Test Accuracy: %.4f' % (model1.evaluate(X_adult_test, y_adult_test)[1]))"
      ],
      "execution_count": null,
      "outputs": []
    },
    {
      "cell_type": "code",
      "metadata": {
        "id": "QA6h3ye9lJHv"
      },
      "source": [
        "y_adult_prediction = model1.predict(X_adult_test).flatten()\n",
        "adult_pred = pd.concat((pd.DataFrame(y_adult_prediction), y_adult_test), axis=1) \n",
        "\n",
        "adult_tab = pd.crosstab(y_adult_test, y_adult_prediction, rownames=['Actual'], colnames=['Prediction'])\n",
        "adult_tab"
      ],
      "execution_count": null,
      "outputs": []
    },
    {
      "cell_type": "code",
      "metadata": {
        "id": "9pasGjqhlJHw"
      },
      "source": [
        "### not working\n",
        "y_prediction = model1.predict(X_adult_test).flatten()\n",
        "for i in range(10):\n",
        "    label = y_adult_test[i]\n",
        "    prediction = y_adult_prediction[i]\n",
        "print('actual value: {:.3f}, predicted value: {:.3f}'.format(label,prediction))"
      ],
      "execution_count": null,
      "outputs": []
    },
    {
      "cell_type": "markdown",
      "metadata": {
        "id": "slaP8uHYO_76"
      },
      "source": [
        "### 19 ???????????????????????\n",
        "Plot NNM1 "
      ]
    },
    {
      "cell_type": "code",
      "metadata": {
        "id": "FJrGp3hxPk6E"
      },
      "source": [
        "#pip install ann_visualizer"
      ],
      "execution_count": null,
      "outputs": []
    },
    {
      "cell_type": "code",
      "metadata": {
        "id": "oAwdRGnSPF3D"
      },
      "source": [
        "from ann_visualizer.visualize import ann_viz"
      ],
      "execution_count": null,
      "outputs": []
    },
    {
      "cell_type": "code",
      "metadata": {
        "id": "C1c53yk4PwdA"
      },
      "source": [
        "ann_viz(model1, title='NNM1', view=True)"
      ],
      "execution_count": null,
      "outputs": []
    },
    {
      "cell_type": "markdown",
      "metadata": {
        "id": "y3hSrJlrSjKY"
      },
      "source": [
        "### 20\n",
        "Evaluate NNM1 using Test set,Construct Contingency table to compare actual and predicted value"
      ]
    },
    {
      "cell_type": "code",
      "metadata": {
        "id": "jnP-MoONSxUR"
      },
      "source": [
        "adult_tab # All 0 on prediction??"
      ],
      "execution_count": null,
      "outputs": []
    },
    {
      "cell_type": "markdown",
      "metadata": {
        "id": "rjWdIZ1LFMqK"
      },
      "source": [
        "### 21\n",
        "Which baseline model do we compare NNM1 against?, NNM1 outperform baseline model based on accuracy?"
      ]
    },
    {
      "cell_type": "code",
      "metadata": {
        "id": "Ux8UX2Y-Fi2F"
      },
      "source": [
        "# ???"
      ],
      "execution_count": null,
      "outputs": []
    },
    {
      "cell_type": "markdown",
      "metadata": {
        "id": "ZaBEmBj-TEQn"
      },
      "source": [
        "### 22\n",
        "Gather Contingency table from CART model (CARTM1), C5.0 model (C5M1), Naive Bayes model (NBM1) from Ch6, Ch8\n"
      ]
    },
    {
      "cell_type": "markdown",
      "metadata": {
        "id": "m2iWUktuZqve"
      },
      "source": [
        "* CART (CARTM1)"
      ]
    },
    {
      "cell_type": "code",
      "metadata": {
        "id": "IAyj4FbrBwKk"
      },
      "source": [
        "import pandas as pd\n",
        "import numpy as np\n",
        "import statsmodels.tools.tools as stattools\n",
        "from sklearn.tree import DecisionTreeClassifier, export_graphviz\n",
        "from graphviz import Source\n",
        "\n",
        "#folder = \"/gdrive/My Drive/DSPR/DataSets\"\n",
        "\n",
        "adult_train = pd.read_csv(folder + \"/adult_ch6_training\", delimiter=',')\n",
        "adult_test = pd.read_csv(folder + \"/adult_ch6_test\", delimiter=',')"
      ],
      "execution_count": null,
      "outputs": []
    },
    {
      "cell_type": "code",
      "metadata": {
        "id": "l_Dh2Cv9Htbg"
      },
      "source": [
        "mar_np = np.array(adult_train['Marital status'])\n",
        "(mar_cat, mar_cat_dict) = stattools.categorical(mar_np, drop=True, dictnames=True)\n",
        "\n",
        "mar_cat_pd = pd.DataFrame(mar_cat)\n",
        "X_adult_tree = pd.concat((adult_train['Cap_Gains_Losses'], mar_cat_pd), axis=1)\n",
        "\n",
        "y_adult_tree = adult_train[['Income']]\n",
        "\n",
        "X_adult_names_tree = [\"Cap_Gains_Losses\", \"Divorced\", \"Married\",\"Never-married\",\"Separated\", \"Widowed\"]\n",
        "y_adult_names_tree = [\"<=50K\", \">50K\"]\n",
        "\n",
        "CARTM1 = DecisionTreeClassifier(criterion = \"gini\", max_leaf_nodes = 5).fit(X_adult_tree, y_adult_tree)\n",
        "export_graphviz(CARTM1, out_file = folder+\"/CARTM1.dot\", feature_names = X_adult_names_tree, class_names = adult_train['Income'].unique())\n",
        "### CART model using Training set \n",
        "Source.from_file(folder+\"/CARTM1.dot\")"
      ],
      "execution_count": null,
      "outputs": []
    },
    {
      "cell_type": "code",
      "metadata": {
        "id": "1-T17YNrg2SR"
      },
      "source": [
        "### Predict Test set\n",
        "\n",
        "mar_np_test = np.array(adult_test['Marital status'])\n",
        "(mar_cat_test, mar_cat_dict_test) = stattools.categorical(mar_np_test, drop=True, dictnames=True)"
      ],
      "execution_count": null,
      "outputs": []
    },
    {
      "cell_type": "code",
      "metadata": {
        "id": "kr_drwO2g2HM"
      },
      "source": [
        "mar_cat_test_pd = pd.DataFrame(mar_cat_test)\n",
        "X_adult_tree_test =  pd.concat((adult_test['Cap_Gains_Losses'], mar_cat_test_pd), axis=1)\n",
        "\n",
        "y_adult_tree_test = adult_test[['Income']]\n",
        "\n",
        "X_adult_names_tree = [\"Cap_Gains_Losses\", \"Divorced\", \"Married\",\"Never-married\",\"Separated\", \"Widowed\"]\n",
        "y_adult_names_tree = [\"<=50K\", \">50K\"]\n",
        "\n",
        "adult_CART_pred = CARTM1.predict(X_adult_tree_test)\n",
        "\n",
        "adult_CART_crosstab = pd.crosstab(adult_test['Income'], adult_CART_pred)\n",
        "adult_CART_crosstab"
      ],
      "execution_count": null,
      "outputs": []
    },
    {
      "cell_type": "code",
      "metadata": {
        "id": "DNL04Z3mg15z"
      },
      "source": [
        "def eval(tab, level):\n",
        "    GT = sum(tab.sum())\n",
        "    TAP = tab.sum(1)[1]\n",
        "    TAN = tab.sum(1)[0]\n",
        "    TPP = tab.sum(0)[1]\n",
        "    TP = tab[level[1]][1]\n",
        "    TN = tab[level[0]][0]\n",
        "\n",
        "    acc = (TN + TP) / GT\n",
        "    err = 1 - acc\n",
        "    sen = TP / TAP\n",
        "    spe = TN / TAN\n",
        "    pre = TP / TPP\n",
        "    \n",
        "    return [round(acc, 4), round(err,4), round(sen,4), round(spe,4), round(pre,4)]\n",
        "\n",
        "def Fscore(pre, spe, df):\n",
        "    val = ((1+df**2) * pre * spe) / ((df**2 * pre) + spe)\n",
        "    return round(val, 4)"
      ],
      "execution_count": null,
      "outputs": []
    },
    {
      "cell_type": "code",
      "metadata": {
        "id": "566QmGJ1ohp-"
      },
      "source": [
        "acc_cart, err_cart, sen_cart, spe_cart, pre_cart = eval(adult_CART_crosstab, y_adult_names_tree)\n",
        "acc_cart, err_cart, sen_cart, spe_cart, pre_cart"
      ],
      "execution_count": null,
      "outputs": []
    },
    {
      "cell_type": "code",
      "metadata": {
        "id": "Q7ZTqTCTv3O1"
      },
      "source": [
        "Fscore(pre_cart, spe_cart, 1), Fscore(pre_cart, spe_cart, 2), Fscore(pre_cart, spe_cart, 0.5)"
      ],
      "execution_count": null,
      "outputs": []
    },
    {
      "cell_type": "code",
      "metadata": {
        "id": "WANXbTAI-uBa"
      },
      "source": [
        "measure_cart_01 = pd.DataFrame(eval(adult_CART_crosstab, y_adult_names_tree))\n",
        "measure_cart_02 = Fscore(pre_cart, spe_cart, 1), Fscore(pre_cart, spe_cart, 2), Fscore(pre_cart, spe_cart, 0.5)\n",
        "measure_cart_02 = pd.DataFrame(measure_cart_02)\n",
        "measure_cart_02\n",
        "\n",
        "eval_cart = pd.concat((measure_cart_01, measure_cart_02), axis=0)\n",
        "eval_cart.columns = ['CART']\n",
        "eval_cart.index = ['Accuracy', 'Error rate', 'Sensitivity', 'Specificity', 'Precision', 'F1', 'F2', 'F0.5']\n",
        "eval_cart"
      ],
      "execution_count": null,
      "outputs": []
    },
    {
      "cell_type": "markdown",
      "metadata": {
        "id": "zsjovUW2BwTd"
      },
      "source": [
        "* C5.0 (C5M1)"
      ]
    },
    {
      "cell_type": "code",
      "metadata": {
        "id": "k7r7HnxTBweF"
      },
      "source": [
        "C5M1 = DecisionTreeClassifier(criterion=\"entropy\",max_leaf_nodes=5).fit(X_adult_tree, y_adult_tree)\n",
        "export_graphviz(C5M1, out_file = folder+\"/C5M1.dot\", feature_names = X_adult_names_tree, class_names = adult_train['Income'].unique())\n",
        "### C5.0 model using Training set \n",
        "Source.from_file(folder+\"/C5M1.dot\")"
      ],
      "execution_count": null,
      "outputs": []
    },
    {
      "cell_type": "code",
      "metadata": {
        "id": "2nwxxj9R5RxH"
      },
      "source": [
        "### Predict Test set\n",
        "\n",
        "adult_C5M1_pred = C5M1.predict(X_adult_tree_test)\n",
        "\n",
        "adult_C5M1_crosstab = pd.crosstab(adult_test['Income'], adult_C5M1_pred)\n",
        "adult_C5M1_crosstab"
      ],
      "execution_count": null,
      "outputs": []
    },
    {
      "cell_type": "code",
      "metadata": {
        "id": "mTATIR7R5Rok"
      },
      "source": [
        "acc_c5m1, err_c5m1, sen_c5m1, spe_c5m1, pre_c5m1 = eval(adult_C5M1_crosstab, y_adult_names_tree)\n",
        "acc_c5m1, err_c5m1, sen_c5m1, spe_c5m1, pre_c5m1"
      ],
      "execution_count": null,
      "outputs": []
    },
    {
      "cell_type": "code",
      "metadata": {
        "id": "vtPapP6H5Rgc"
      },
      "source": [
        "Fscore(pre_c5m1, spe_c5m1, 1), Fscore(pre_c5m1, spe_c5m1, 2), Fscore(pre_c5m1, spe_c5m1, 0.5)"
      ],
      "execution_count": null,
      "outputs": []
    },
    {
      "cell_type": "code",
      "metadata": {
        "id": "C-hGWdMU8dUO"
      },
      "source": [
        "measure_cm51_01 = pd.DataFrame(eval(adult_C5M1_crosstab, y_adult_names_tree))\n",
        "measure_cm51_02 = Fscore(pre_c5m1, spe_c5m1, 1), Fscore(pre_c5m1, spe_c5m1, 2), Fscore(pre_c5m1, spe_c5m1, 0.5)\n",
        "measure_cm51_02 = pd.DataFrame(measure_cm51_02)\n",
        "measure_cm51_02\n",
        "\n",
        "eval_cm51 = pd.concat((measure_cm51_01, measure_cm51_02), axis=0)\n",
        "eval_cm51.columns = ['C5.0']\n",
        "eval_cm51.index = ['Accuracy', 'Error rate', 'Sensitivity', 'Specificity', 'Precision', 'F1', 'F2', 'F0.5']\n",
        "eval_cm51"
      ],
      "execution_count": null,
      "outputs": []
    },
    {
      "cell_type": "markdown",
      "metadata": {
        "id": "I0PWnXSiBwod"
      },
      "source": [
        "* Naive Bayes (NBM1)"
      ]
    },
    {
      "cell_type": "code",
      "metadata": {
        "id": "-FRNOpwkJfSS"
      },
      "source": [
        "adult_train.head()"
      ],
      "execution_count": null,
      "outputs": []
    },
    {
      "cell_type": "code",
      "metadata": {
        "id": "YuIAKjS5J4fu"
      },
      "source": [
        "from sklearn.naive_bayes import MultinomialNB\n",
        "import statsmodels.tools.tools as stattools\n",
        "\n",
        "def X_ind_ftn(data, col):\n",
        "    X_ind = np.array(data[col])\n",
        "    X_ind = pd.DataFrame(stattools.categorical(X_ind,drop=True, dictnames = False))\n",
        "    return X_ind\n",
        "\n",
        "X_Mar_ind = X_ind_ftn(adult_train, \"Marital status\")\n",
        "    \n",
        "X_naive = pd.concat((X_Mar_ind, adult_train['Cap_Gains_Losses']), axis=1)\n",
        "y_naive = adult_train[\"Income\"]\n",
        "\n",
        "nb_adult = MultinomialNB().fit(X_naive,y_naive)"
      ],
      "execution_count": null,
      "outputs": []
    },
    {
      "cell_type": "code",
      "metadata": {
        "id": "lXWTJwlGBw0F"
      },
      "source": [
        "# Test NB algorithm by Test set\n",
        "X_Mar_ind_test = X_ind_ftn(adult_test, 'Marital status')\n",
        "\n",
        "X_naive_test = pd.concat((X_Mar_ind_test, adult_test['Cap_Gains_Losses']), axis=1)\n",
        "y_naive_test = adult_test['Income']\n",
        "\n",
        "adult_naive_pred = nb_adult.predict(X_naive_test)"
      ],
      "execution_count": null,
      "outputs": []
    },
    {
      "cell_type": "code",
      "metadata": {
        "id": "PzbRZ--x0Nm6"
      },
      "source": [
        "adult_naive_crosstab = pd.crosstab(y_naive_test, adult_naive_pred, rownames=['Actual'], colnames=['Predicted'])\n",
        "adult_naive_crosstab"
      ],
      "execution_count": null,
      "outputs": []
    },
    {
      "cell_type": "code",
      "metadata": {
        "id": "iAW7tu3uBxLt"
      },
      "source": [
        "acc_naive, err_naive, sen_naive, spe_naive, pre_naive = eval(adult_naive_crosstab, y_adult_names_tree)\n",
        "acc_naive, err_naive, sen_naive, spe_naive, pre_naive"
      ],
      "execution_count": null,
      "outputs": []
    },
    {
      "cell_type": "code",
      "metadata": {
        "id": "cZeugjas0wy_"
      },
      "source": [
        "Fscore(pre_naive, spe_naive, 1), Fscore(pre_naive, spe_naive, 2), Fscore(pre_naive, spe_naive, 0.5)"
      ],
      "execution_count": null,
      "outputs": []
    },
    {
      "cell_type": "code",
      "metadata": {
        "id": "R8yNpvVu0w60"
      },
      "source": [
        "measure_naive_01 = pd.DataFrame(eval(adult_naive_crosstab, y_adult_names_tree))\n",
        "measure_naive_02 = Fscore(pre_naive, spe_naive, 1), Fscore(pre_naive, spe_naive, 2), Fscore(pre_naive, spe_naive, 0.5)\n",
        "measure_naive_02 = pd.DataFrame(measure_naive_02)\n",
        "measure_naive_02\n",
        "\n",
        "eval_naive = pd.concat((measure_naive_01, measure_naive_02), axis=0)\n",
        "eval_naive.columns = ['Naive Bayes']\n",
        "eval_naive.index = ['Accuracy', 'Error rate', 'Sensitivity', 'Specificity', 'Precision', 'F1', 'F2', 'F0.5']\n",
        "eval_naive"
      ],
      "execution_count": null,
      "outputs": []
    },
    {
      "cell_type": "markdown",
      "metadata": {
        "id": "QTw6GeB_Zr_D"
      },
      "source": [
        "### 23\n",
        "Compare Accuracy, Sensitivity, Specificity for each models (CART, C5.0, NBM1, NNM1)"
      ]
    },
    {
      "cell_type": "code",
      "metadata": {
        "id": "0ug56UFf2R4v"
      },
      "source": [
        "pd.concat((eval_cart, eval_cm51, eval_naive), axis=1)\n",
        "# should have added Neural Network model...."
      ],
      "execution_count": null,
      "outputs": []
    },
    {
      "cell_type": "markdown",
      "metadata": {
        "id": "TkA7LCm9aF5E"
      },
      "source": [
        "### 24\n",
        "Prepare dataset for Neural Networks including standardizing variables "
      ]
    },
    {
      "cell_type": "code",
      "metadata": {
        "id": "T8hSxoPmbsHz"
      },
      "source": [
        "bank_train = pd.read_csv(folder + \"/bank_marketing_training\", delimiter=',')\n",
        "bank_test = pd.read_csv(folder + \"/bank_marketing_test\", delimiter=',')"
      ],
      "execution_count": null,
      "outputs": []
    },
    {
      "cell_type": "code",
      "metadata": {
        "id": "3AQdJhFlbsH0"
      },
      "source": [
        "import statsmodels.tools.tools as stattools\n",
        "\n",
        "# change 'Response' to numeric(binary)\n",
        "bank_train[\"response_factor\"] = list(map(int, bank_train[\"response\"] == 'yes'))\n",
        "\n",
        "# convert 'job', 'marital', 'education' to factor\n",
        "# job\n",
        "job_np = np.array(bank_train['job'])\n",
        "(job_cat, job_cat_dict) = stattools.categorical(job_np, drop=True, dictnames=True)\n",
        "# marital\n",
        "mari_np = np.array(bank_train['marital'])\n",
        "(mari_cat, mari_cat_dict) = stattools.categorical(mari_np, drop=True, dictnames=True)\n",
        "# education\n",
        "edu_np = np.array(bank_train['education'])\n",
        "(edu_cat, edu_cat_dict) = stattools.categorical(edu_np, drop=True, dictnames=True)"
      ],
      "execution_count": null,
      "outputs": []
    },
    {
      "cell_type": "code",
      "metadata": {
        "id": "xFutnf2i2z_J"
      },
      "source": [
        "bank_train['job'].unique()"
      ],
      "execution_count": null,
      "outputs": []
    },
    {
      "cell_type": "code",
      "metadata": {
        "id": "B5WgxziYbsH1"
      },
      "source": [
        "job_cat_pd = pd.DataFrame(job_cat)\n",
        "mari_cat_pd = pd.DataFrame(mari_cat)\n",
        "edu_cat_pd = pd.DataFrame(edu_cat)\n",
        "\n",
        "X_bank = pd.concat((bank_train['age'], job_cat_pd, mari_cat_pd, edu_cat_pd), axis=1)\n",
        "\n",
        "#X_bank_names = [ ... ]\n",
        "#Y_bank_names = ['yes', 'no']"
      ],
      "execution_count": null,
      "outputs": []
    },
    {
      "cell_type": "code",
      "metadata": {
        "id": "Opnc5__-bsH2"
      },
      "source": [
        "X_bank.head()"
      ],
      "execution_count": null,
      "outputs": []
    },
    {
      "cell_type": "code",
      "metadata": {
        "id": "UcaA8f03bsH2"
      },
      "source": [
        "#X_bank.head()\n",
        "y_bank = bank_train['response_factor']"
      ],
      "execution_count": null,
      "outputs": []
    },
    {
      "cell_type": "code",
      "metadata": {
        "id": "5MJoabKGbsH3"
      },
      "source": [
        "model2 = Sequential()\n",
        "model2.add(Dense(30, input_dim = 25, activation='relu'))\n",
        "model2.add(Dense(1, activation='sigmoid'))"
      ],
      "execution_count": null,
      "outputs": []
    },
    {
      "cell_type": "code",
      "metadata": {
        "id": "za4oUSDgbsH4"
      },
      "source": [
        "model2.compile(loss='categorical_crossentropy', optimizer='adam',metrics=['accuracy'])"
      ],
      "execution_count": null,
      "outputs": []
    },
    {
      "cell_type": "code",
      "metadata": {
        "id": "zKMlEgpFbsH4"
      },
      "source": [
        "model2.fit(X_bank, y_bank, epochs=5, batch_size=1)"
      ],
      "execution_count": null,
      "outputs": []
    },
    {
      "cell_type": "code",
      "metadata": {
        "id": "XHerhWA7bsH4"
      },
      "source": [
        "print('\\n Accuracy: %.4f' % (model2.evaluate(X_bank, y_bank)[1]))"
      ],
      "execution_count": null,
      "outputs": []
    },
    {
      "cell_type": "code",
      "metadata": {
        "id": "Jc8ZeK1IbsH5"
      },
      "source": [
        "bank_test[\"response_factor\"] = list(map(int, bank_test[\"response\"] == 'yes'))\n",
        "\n",
        "job_np_test = np.array(bank_test['job'])\n",
        "(job_cat_test, job_cat_dict_test) = stattools.categorical(job_np_test, drop=True, dictnames=True)\n",
        "\n",
        "mari_np_test = np.array(bank_test['marital'])\n",
        "(mari_cat_test, mari_cat_dict_test) = stattools.categorical(mari_np_test, drop=True, dictnames=True)\n",
        "\n",
        "edu_np_test = np.array(bank_test['education'])\n",
        "(edu_cat_test, edu_cat_dict_test) = stattools.categorical(edu_np_test, drop=True, dictnames=True)"
      ],
      "execution_count": null,
      "outputs": []
    },
    {
      "cell_type": "code",
      "metadata": {
        "id": "bn5lCPZWbsH5"
      },
      "source": [
        "job_cat_test_pd = pd.DataFrame(job_cat_test)\n",
        "mari_cat_test_pd = pd.DataFrame(mari_cat_test)\n",
        "edu_cat_test_pd = pd.DataFrame(edu_cat_test)\n",
        "\n",
        "X_bank_test = pd.concat((bank_test['age'], job_cat_test_pd, mari_cat_test_pd, edu_cat_test_pd), axis=1)\n",
        "\n",
        "#X_bank_names = [ ... ]\n",
        "#Y_bank_names = ['yes', 'no']"
      ],
      "execution_count": null,
      "outputs": []
    },
    {
      "cell_type": "code",
      "metadata": {
        "id": "9M3cKuzubsH5"
      },
      "source": [
        "#X_bank_test.head()\n",
        "y_bank_test = bank_test['response_factor']"
      ],
      "execution_count": null,
      "outputs": []
    },
    {
      "cell_type": "code",
      "metadata": {
        "id": "Xr1ua34ebsH6"
      },
      "source": [
        "print('\\n Test Accuracy: %.4f' % (model2.evaluate(X_bank_test, y_bank_test)[1]))"
      ],
      "execution_count": null,
      "outputs": []
    },
    {
      "cell_type": "code",
      "metadata": {
        "id": "k3YcTb3AbsH6"
      },
      "source": [
        "y_bank_prediction = model2.predict(X_bank_test).flatten()\n",
        "bank_pred = pd.concat((pd.DataFrame(y_bank_prediction), y_bank_test), axis=1) \n",
        "\n",
        "bank_tab = pd.crosstab(y_bank_test, y_bank_prediction, rownames=['Actual'], colnames=['Prediction'])\n",
        "bank_tab"
      ],
      "execution_count": null,
      "outputs": []
    },
    {
      "cell_type": "code",
      "metadata": {
        "id": "LdEVHnyB9Rzf"
      },
      "source": [
        "# ????????????????????????? all 1 on prediction? "
      ],
      "execution_count": null,
      "outputs": []
    },
    {
      "cell_type": "markdown",
      "metadata": {
        "id": "fXAD81akaSyd"
      },
      "source": [
        "### 25\n",
        "Using training set, create Neural Networks model, Obtain Predicted response"
      ]
    },
    {
      "cell_type": "code",
      "metadata": {
        "id": "GKWH9yOjaeh0"
      },
      "source": [
        "y_bank_prediction # all 0 ????"
      ],
      "execution_count": null,
      "outputs": []
    },
    {
      "cell_type": "markdown",
      "metadata": {
        "id": "UKVkyPqQafKj"
      },
      "source": [
        "### 26\n",
        "Plot Neural Network"
      ]
    },
    {
      "cell_type": "code",
      "metadata": {
        "id": "LG3rSZomafWF"
      },
      "source": [
        "# ????????????"
      ],
      "execution_count": null,
      "outputs": []
    },
    {
      "cell_type": "markdown",
      "metadata": {
        "id": "9zSa7N9xafei"
      },
      "source": [
        "### 27\n",
        "Evaluate NN model using Test set, Construct contingency table to compare actual and predicted value"
      ]
    },
    {
      "cell_type": "code",
      "metadata": {
        "id": "cMt6JEPQafms"
      },
      "source": [
        "bank_tab"
      ],
      "execution_count": null,
      "outputs": []
    },
    {
      "cell_type": "markdown",
      "metadata": {
        "id": "S6EW7nSKazEK"
      },
      "source": [
        "### 28\n",
        "Which baseline model do we compare NN model against?, Outperform baseline model based on accuracy? "
      ]
    },
    {
      "cell_type": "code",
      "metadata": {
        "id": "UOjCyRp-a_EU"
      },
      "source": [
        "# ???"
      ],
      "execution_count": null,
      "outputs": []
    },
    {
      "cell_type": "markdown",
      "metadata": {
        "id": "qHObpxMZa_PQ"
      },
      "source": [
        "### 29\n",
        "Build CART, C5.0, Naive Bayes model using same predictors\n",
        "* CART"
      ]
    },
    {
      "cell_type": "code",
      "metadata": {
        "id": "LfIMENlwa_Xt"
      },
      "source": [
        "bank_train.head() "
      ],
      "execution_count": null,
      "outputs": []
    },
    {
      "cell_type": "code",
      "metadata": {
        "id": "bQjqu8T4OpUq"
      },
      "source": [
        "bank_train['education'].unique()"
      ],
      "execution_count": null,
      "outputs": []
    },
    {
      "cell_type": "code",
      "metadata": {
        "id": "Cd5-YmZDAsz1"
      },
      "source": [
        "def X_ind_ftn(data, col):\n",
        "    X_ind = np.array(data[col])\n",
        "    X_ind = pd.DataFrame(stattools.categorical(X_ind,drop=True, dictnames = False))\n",
        "    return X_ind\n",
        "\n",
        "X_job_ind = X_ind_ftn(bank_train, \"job\")\n",
        "X_marital_ind = X_ind_ftn(bank_train, \"marital\")\n",
        "X_edu_ind = X_ind_ftn(bank_train, \"education\")\n",
        "\n",
        "X_bank_tree = pd.concat((bank_train[['age']],X_job_ind, X_marital_ind, X_edu_ind), axis=1)\n",
        "X_bank_tree\n",
        "\n",
        "y_bank_tree = bank_train[['response']]\n",
        "\n",
        "X_bank_names_tree = [\"age\", \"housemaid\", \"services\",\"blue-collar\",\"management\", \"unemployed\", \"retired\", \"technician\", \"admin.\",\"unknown\",\"entrepreneur\",\"student\",\"self-employed\",\n",
        "                     \"married\",\"single\",\"divorced\",\"unknown\",\n",
        "                     \"basic.4y\",\"high.school\",\"unknown\",\"basic.6y\",\"basic.9y\",\"university.degree\",\"prefessional.course\",\"illiterate\"]\n",
        "y_bank_names_tree = [\"yes\", \"no\"]"
      ],
      "execution_count": null,
      "outputs": []
    },
    {
      "cell_type": "code",
      "metadata": {
        "id": "_FFhqVjAPXPV"
      },
      "source": [
        "CART_bank = DecisionTreeClassifier(criterion = \"gini\", max_leaf_nodes = 5).fit(X_bank_tree, y_bank_tree)\n",
        "export_graphviz(CART_bank, out_file = folder+\"/CART_bank.dot\", feature_names = X_bank_names_tree, class_names = bank_train['response'].unique())\n",
        "### CART model using Training set \n",
        "Source.from_file(folder+\"/CART_bank.dot\")"
      ],
      "execution_count": null,
      "outputs": []
    },
    {
      "cell_type": "code",
      "metadata": {
        "id": "dmEyX7KRT2iX"
      },
      "source": [
        "X_job_ind_test = X_ind_ftn(bank_test, \"job\")\n",
        "X_marital_ind_test = X_ind_ftn(bank_test, \"marital\")\n",
        "X_edu_ind_test = X_ind_ftn(bank_test, \"education\")\n",
        "\n",
        "X_bank_tree_test =  pd.concat((bank_test['age'], X_job_ind_test, X_marital_ind_test, X_edu_ind_test), axis=1)\n",
        "\n",
        "y_bank_tree_test = bank_test[['response']]\n",
        "\n",
        "bank_CART_pred = CART_bank.predict(X_bank_tree_test)\n",
        "\n",
        "bank_CART_crosstab = pd.crosstab(bank_test['response'], bank_CART_pred, rownames=[\"Actual\"], colnames=[\"Predicted\"])\n",
        "bank_CART_crosstab  # no yes??"
      ],
      "execution_count": null,
      "outputs": []
    },
    {
      "cell_type": "code",
      "metadata": {
        "id": "7bLSf253Pcpn"
      },
      "source": [
        "acc_bank_cart, err_bank_cart, sen_bank_cart, spe_bank_cart, pre_bank_cart = eval(bank_CART_crosstab, y_bank_names_tree)\n",
        "acc_bank_cart, err_bank_cart, sen_bank_cart, spe_bank_cart, pre_bank_cart\n",
        "\n",
        "Fscore(pre_bank_cart, spe_bank_cart, 1), Fscore(pre_bank_cart, spe_bank_cart, 2), Fscore(pre_bank_cart, spe_bank_cart, 0.5)"
      ],
      "execution_count": null,
      "outputs": []
    },
    {
      "cell_type": "code",
      "metadata": {
        "id": "dPGOlbvsPhQu"
      },
      "source": [
        "bank_cart_01 = pd.DataFrame(eval(bank_CART_crosstab, y_bank_names_tree))\n",
        "bank_cart_02 = Fscore(pre_bank_cart, spe_bank_cart, 1), Fscore(pre_bank_cart, spe_bank_cart, 2), Fscore(pre_bank_cart, spe_bank_cart, 0.5)\n",
        "bank_cart_02 = pd.DataFrame(bank_cart_02)\n",
        "bank_cart_02"
      ],
      "execution_count": null,
      "outputs": []
    },
    {
      "cell_type": "code",
      "metadata": {
        "id": "WVlu4DIBPijn"
      },
      "source": [
        "eval_bank_cart = pd.concat((bank_cart_01, bank_cart_02), axis=0)\n",
        "eval_bank_cart.columns = ['CART']\n",
        "eval_bank_cart.index = ['Accuracy', 'Error rate', 'Sensitivity', 'Specificity', 'Precision', 'F1', 'F2', 'F0.5']\n",
        "eval_bank_cart"
      ],
      "execution_count": null,
      "outputs": []
    },
    {
      "cell_type": "markdown",
      "metadata": {
        "id": "HBXpletNbNOb"
      },
      "source": [
        "* C5.0"
      ]
    },
    {
      "cell_type": "code",
      "metadata": {
        "id": "uNjM4DtvYlGa"
      },
      "source": [
        "C5M1_bank = DecisionTreeClassifier(criterion=\"entropy\",max_leaf_nodes=5).fit(X_bank_tree, y_bank_tree)\n",
        "export_graphviz(C5M1_bank, out_file = folder+\"/C5M1_bank.dot\", feature_names = X_bank_names_tree, class_names = bank_train['response'].unique())\n",
        "### C5.0 model using Training set \n",
        "Source.from_file(folder+\"/C5M1_bank.dot\")"
      ],
      "execution_count": null,
      "outputs": []
    },
    {
      "cell_type": "code",
      "metadata": {
        "id": "fKuP5METYlGl"
      },
      "source": [
        "### Predict Test set\n",
        "\n",
        "bank_C5M1_pred = C5M1_bank.predict(X_bank_tree_test)\n",
        "\n",
        "bank_C5M1_crosstab = pd.crosstab(bank_test['response'], bank_C5M1_pred)\n",
        "bank_C5M1_crosstab # no yes??"
      ],
      "execution_count": null,
      "outputs": []
    },
    {
      "cell_type": "code",
      "metadata": {
        "id": "88TTLq8AYlGl"
      },
      "source": [
        "acc_bank_c5m1, err_bank_c5m1, sen_bank_c5m1, spe_bank_c5m1, pre_bank_c5m1 = eval(bank_C5M1_crosstab, y_bank_names_tree)\n",
        "acc_bank_c5m1, err_bank_c5m1, sen_bank_c5m1, spe_bank_c5m1, pre_bank_c5m1"
      ],
      "execution_count": null,
      "outputs": []
    },
    {
      "cell_type": "code",
      "metadata": {
        "id": "tyLS_1qBYlGl"
      },
      "source": [
        "Fscore(pre_bank_c5m1, spe_bank_c5m1, 1), Fscore(pre_bank_c5m1, spe_bank_c5m1, 2), Fscore(pre_bank_c5m1, spe_bank_c5m1, 0.5)"
      ],
      "execution_count": null,
      "outputs": []
    },
    {
      "cell_type": "code",
      "metadata": {
        "id": "B_23EKVVYlGl"
      },
      "source": [
        "bank_cm51_01 = pd.DataFrame(eval(bank_C5M1_crosstab, y_bank_names_tree))\n",
        "bank_cm51_02 = Fscore(pre_bank_c5m1, spe_bank_c5m1, 1), Fscore(pre_bank_c5m1, spe_bank_c5m1, 2), Fscore(pre_bank_c5m1, spe_bank_c5m1, 0.5)\n",
        "bank_cm51_02 = pd.DataFrame(bank_cm51_02)\n",
        "bank_cm51_02\n",
        "\n",
        "eval_bank_cm51 = pd.concat((bank_cm51_01, bank_cm51_02), axis=0)\n",
        "eval_bank_cm51.columns = ['C5.0']\n",
        "eval_bank_cm51.index = ['Accuracy', 'Error rate', 'Sensitivity', 'Specificity', 'Precision', 'F1', 'F2', 'F0.5']\n",
        "eval_bank_cm51"
      ],
      "execution_count": null,
      "outputs": []
    },
    {
      "cell_type": "markdown",
      "metadata": {
        "id": "VBhgiKEcbNgt"
      },
      "source": [
        "* Naive Bayes"
      ]
    },
    {
      "cell_type": "code",
      "metadata": {
        "id": "FQIU9YWdbQR1"
      },
      "source": [
        "####"
      ],
      "execution_count": null,
      "outputs": []
    },
    {
      "cell_type": "markdown",
      "metadata": {
        "id": "EvtM1geqbQbm"
      },
      "source": [
        "### 30\n",
        "Compare Accuracy, Sensitivity, Specificity for above models"
      ]
    },
    {
      "cell_type": "code",
      "metadata": {
        "id": "_ej6j6y1bWg5"
      },
      "source": [
        "####"
      ],
      "execution_count": null,
      "outputs": []
    },
    {
      "cell_type": "markdown",
      "metadata": {
        "id": "abYQcE0DiyBL"
      },
      "source": [
        "### **CH 10 CLUSTERING**\n",
        "\n",
        "### 10.5 K-MEANS CLUSTERING"
      ]
    },
    {
      "cell_type": "code",
      "metadata": {
        "id": "EqsLIvO_xiMe"
      },
      "source": [
        "import pandas as pd\n",
        "import numpy as np \n",
        "from scipy import stats\n",
        "from sklearn.cluster import KMeans"
      ],
      "execution_count": null,
      "outputs": []
    },
    {
      "cell_type": "code",
      "metadata": {
        "id": "Dv8p3yMVuut5"
      },
      "source": [
        "wine_train = pd.read_csv(folder + \"/white_wine_training\", delimiter=',')\n",
        "wine_test = pd.read_csv(folder + \"/white_wine_test\", delimiter=',')\n",
        "\n",
        "X = wine_train[['alcohol', 'sugar']]\n",
        "Xz = pd.DataFrame(stats.zscore(X), columns=['alcohol', 'sugar'])\n",
        "\n",
        "X_test = wine_test[['alcohol', 'sugar']]\n",
        "Xz_test = pd.DataFrame(stats.zscore(X_test), columns=['alcohol', 'sugar'])"
      ],
      "execution_count": null,
      "outputs": []
    },
    {
      "cell_type": "code",
      "metadata": {
        "id": "3U6e-VvSs1kl"
      },
      "source": [
        "kmeans01 = KMeans(n_clusters=2).fit(Xz)\n",
        "cluster = kmeans01.labels_"
      ],
      "execution_count": null,
      "outputs": []
    },
    {
      "cell_type": "code",
      "metadata": {
        "id": "0j5O6KyXnS05"
      },
      "source": [
        "Cluster1 = Xz.loc[cluster == 0]\n",
        "Cluster2 = Xz.loc[cluster == 1]"
      ],
      "execution_count": null,
      "outputs": []
    },
    {
      "cell_type": "code",
      "metadata": {
        "id": "ftH5SMyhoNqF"
      },
      "source": [
        "Cluster1.describe(), Cluster2.describe()"
      ],
      "execution_count": null,
      "outputs": []
    },
    {
      "cell_type": "code",
      "metadata": {
        "id": "mz-yTGsBoUnk"
      },
      "source": [
        "kmeans_test = KMeans(n_clusters=2).fit(Xz_test)\n",
        "cluster_test = kmeans_test.labels_ # Cluster membership\n",
        "Cluster1_test = Xz_test.loc[cluster_test == 0]\n",
        "Cluster2_test = Xz_test.loc[cluster_test == 1]\n",
        "\n",
        "Cluster1_test.describe(), Cluster2_test.describe()"
      ],
      "execution_count": null,
      "outputs": []
    },
    {
      "cell_type": "markdown",
      "metadata": {
        "id": "3fcBapnqrVHu"
      },
      "source": [
        "### **HANDS-ON ANALYSIS**\n"
      ]
    },
    {
      "cell_type": "markdown",
      "metadata": {
        "id": "x4TB_gxid40H"
      },
      "source": [
        "### 15\n",
        "Subset 'Fat' and 'Sodium' variables, Standardize dataset"
      ]
    },
    {
      "cell_type": "code",
      "metadata": {
        "id": "yqBSm5F_lgce"
      },
      "source": [
        "cereals = pd.read_csv(folder + \"/cereals.CSV\", delimiter=',')\n",
        "\n",
        "X_cereals = cereals[['Fat', 'Sodium']]\n",
        "X_cereals_z = pd.DataFrame(stats.zscore(X_cereals), columns=['Fat', 'Sodium'])\n",
        "\n",
        "X_cereals_z.head()"
      ],
      "execution_count": null,
      "outputs": []
    },
    {
      "cell_type": "markdown",
      "metadata": {
        "id": "J7vrdx5qnaWz"
      },
      "source": [
        "### 16\n",
        "Run K-means clustering using 3 clusters"
      ]
    },
    {
      "cell_type": "code",
      "metadata": {
        "id": "Uq3zdwJKlzOb"
      },
      "source": [
        "kmeans_cereals = KMeans(n_clusters=3).fit(X_cereals_z)\n",
        "cluster_cereals = kmeans_cereals.labels_"
      ],
      "execution_count": null,
      "outputs": []
    },
    {
      "cell_type": "code",
      "metadata": {
        "id": "-xvX9zAgnSsu"
      },
      "source": [
        "clust1_c = X_cereals_z.loc[cluster_cereals == 0]\n",
        "clust2_c = X_cereals_z.loc[cluster_cereals == 1]\n",
        "clust3_c = X_cereals_z.loc[cluster_cereals == 2]"
      ],
      "execution_count": null,
      "outputs": []
    },
    {
      "cell_type": "code",
      "metadata": {
        "id": "95LU6eHWnSsv"
      },
      "source": [
        "clust1_c.describe(), clust2_c.describe(), clust3_c.describe()"
      ],
      "execution_count": null,
      "outputs": []
    },
    {
      "cell_type": "markdown",
      "metadata": {
        "id": "UZOXcQU7oCEj"
      },
      "source": [
        "### 17\n",
        "Obtain summary of each variable within each cluster, and use summary to identify below\n",
        "* a. A low Fat, low Sodium cluster\n"
      ]
    },
    {
      "cell_type": "code",
      "metadata": {
        "id": "5sxcnsksogKa"
      },
      "source": [
        "#clust1_c.describe()\n",
        "#clust2_c.describe()\n",
        "#clust3_c.describe()"
      ],
      "execution_count": null,
      "outputs": []
    },
    {
      "cell_type": "code",
      "metadata": {
        "id": "vI5gBkY4pDPz"
      },
      "source": [
        "# ?????????????????????????????????????????????????????????"
      ],
      "execution_count": null,
      "outputs": []
    },
    {
      "cell_type": "markdown",
      "metadata": {
        "id": "i5UhMesyoYYQ"
      },
      "source": [
        "* b. A low Fat, high Sodium cluster"
      ]
    },
    {
      "cell_type": "code",
      "metadata": {
        "id": "nbi2p3cTogxy"
      },
      "source": [
        "# ?????????????????????????????????????????????????????????"
      ],
      "execution_count": null,
      "outputs": []
    },
    {
      "cell_type": "markdown",
      "metadata": {
        "id": "D73zFOKDob1J"
      },
      "source": [
        "* c. A high Fat, high Sodium cluster"
      ]
    },
    {
      "cell_type": "code",
      "metadata": {
        "id": "ZsGwM6s9ohci"
      },
      "source": [
        "# ?????????????????????????????????????????????????????????"
      ],
      "execution_count": null,
      "outputs": []
    },
    {
      "cell_type": "markdown",
      "metadata": {
        "id": "6P2bhLPRofIQ"
      },
      "source": [
        "### 18\n",
        "Run K-means clustering with k=2"
      ]
    },
    {
      "cell_type": "code",
      "metadata": {
        "id": "EKiWKmHZpdvJ"
      },
      "source": [
        "fram_train = pd.read_csv(folder + \"/Framingham_Training\", delimiter=',')\n",
        "fram_test = pd.read_csv(folder + \"/Framingham_Test\", delimiter=',')\n",
        "\n",
        "X_fram = fram_train[['Sex', 'Age']]\n",
        "\n",
        "Age_z = pd.DataFrame(stats.zscore(X_fram['Age']), columns=['Age'])\n",
        "X_fram_z = pd.concat((X_fram['Sex'], Age_z), axis=1)\n",
        "\n",
        "X_fram_z.head()"
      ],
      "execution_count": null,
      "outputs": []
    },
    {
      "cell_type": "code",
      "metadata": {
        "id": "0RAxKYKEpdvL"
      },
      "source": [
        "kmeans_fram = KMeans(n_clusters=2).fit(X_fram_z)\n",
        "cluster_fram = kmeans_fram.labels_"
      ],
      "execution_count": null,
      "outputs": []
    },
    {
      "cell_type": "markdown",
      "metadata": {
        "id": "rrXTLxLWsash"
      },
      "source": [
        "### 19\n",
        "Construct a table of statistics summarizing clusters, Describe what these clusters consist of"
      ]
    },
    {
      "cell_type": "code",
      "metadata": {
        "id": "fvn0SSvkpdvM"
      },
      "source": [
        "clust1_f = X_fram_z.loc[cluster_fram == 0]\n",
        "clust2_f = X_fram_z.loc[cluster_fram == 1]"
      ],
      "execution_count": null,
      "outputs": []
    },
    {
      "cell_type": "code",
      "metadata": {
        "id": "Pcl5moS1pdvM"
      },
      "source": [
        "clust1_f.describe(), clust2_f.describe()"
      ],
      "execution_count": null,
      "outputs": []
    },
    {
      "cell_type": "code",
      "metadata": {
        "id": "DAbOVZao5gKw"
      },
      "source": [
        "# Describe above stat"
      ],
      "execution_count": null,
      "outputs": []
    },
    {
      "cell_type": "markdown",
      "metadata": {
        "id": "cM1zbdIbs3EH"
      },
      "source": [
        "### 20 \n",
        "Perform K-means clustering on Test set with K=2 clusters\n"
      ]
    },
    {
      "cell_type": "code",
      "metadata": {
        "id": "NLAgKh77u5w7"
      },
      "source": [
        "X_fram_test = fram_test[['Sex', 'Age']]\n",
        "\n",
        "Age_z_test = pd.DataFrame(stats.zscore(X_fram_test['Age']), columns=['Age'])\n",
        "X_fram_z_test = pd.concat((X_fram_test['Sex'], Age_z_test), axis=1)\n",
        "\n",
        "X_fram_z_test.head()"
      ],
      "execution_count": null,
      "outputs": []
    },
    {
      "cell_type": "code",
      "metadata": {
        "id": "llRzZqU8uxyC"
      },
      "source": [
        "kmeans_fram_test = KMeans(n_clusters=2).fit(X_fram_z_test)\n",
        "cluster_fram_test = kmeans_fram_test.labels_ # Cluster membership\n",
        "Cluster1_fram_test = X_fram_z_test.loc[cluster_fram_test == 0]\n",
        "Cluster2_fram_test = X_fram_z_test.loc[cluster_fram_test == 1]\n",
        "\n",
        "Cluster1_fram_test.describe(), Cluster2_fram_test.describe()"
      ],
      "execution_count": null,
      "outputs": []
    },
    {
      "cell_type": "markdown",
      "metadata": {
        "id": "5OPvK2jes-bn"
      },
      "source": [
        "### 21\n",
        "Report results from test set, Clusters are validated?\n"
      ]
    },
    {
      "cell_type": "code",
      "metadata": {
        "id": "NiyuNXU2tGMo"
      },
      "source": [
        "# describe"
      ],
      "execution_count": null,
      "outputs": []
    },
    {
      "cell_type": "markdown",
      "metadata": {
        "id": "r3Goqif7tPNj"
      },
      "source": [
        "### 22\n",
        "Run K-means on Training set with K=3 clusters"
      ]
    },
    {
      "cell_type": "code",
      "metadata": {
        "id": "bfOJ1DKdtXFQ"
      },
      "source": [
        "kmeans_fram_3clust = KMeans(n_clusters=3).fit(X_fram_z)\n",
        "cluster_fram_3clust = kmeans_fram_3clust.labels_"
      ],
      "execution_count": null,
      "outputs": []
    },
    {
      "cell_type": "markdown",
      "metadata": {
        "id": "Za_lmP0X6PdI"
      },
      "source": [
        "### 23 \n",
        "Construct table of stat summarizing clusters "
      ]
    },
    {
      "cell_type": "code",
      "metadata": {
        "id": "rDkEntzU67Nv"
      },
      "source": [
        ""
      ],
      "execution_count": null,
      "outputs": []
    },
    {
      "cell_type": "code",
      "metadata": {
        "id": "ntrtAHtv5-3B"
      },
      "source": [
        "clust1_f_3clust = X_fram_z.loc[cluster_fram_3clust == 0]\n",
        "clust2_f_3clust = X_fram_z.loc[cluster_fram_3clust == 1]\n",
        "clust3_f_3clust = X_fram_z.loc[cluster_fram_3clust == 2]"
      ],
      "execution_count": null,
      "outputs": []
    },
    {
      "cell_type": "code",
      "metadata": {
        "id": "9YRjQvHi5-3B"
      },
      "source": [
        "clust1_f_3clust.describe(), clust2_f_3clust.describe(), clust3_f_3clust.describe()"
      ],
      "execution_count": null,
      "outputs": []
    },
    {
      "cell_type": "code",
      "metadata": {
        "id": "x6VfRtJn6JPZ"
      },
      "source": [
        "# Describe"
      ],
      "execution_count": null,
      "outputs": []
    },
    {
      "cell_type": "markdown",
      "metadata": {
        "id": "5TNRTX9H6Zq0"
      },
      "source": [
        "### 24\n",
        "Perform K-means clustering on Test set with K=3 clusters"
      ]
    },
    {
      "cell_type": "code",
      "metadata": {
        "id": "Pp7JBT7H6k2C"
      },
      "source": [
        "X_fram_test = fram_test[['Sex', 'Age']]\n",
        "\n",
        "Age_z_test = pd.DataFrame(stats.zscore(X_fram_test['Age']), columns=['Age'])\n",
        "X_fram_z_test = pd.concat((X_fram_test['Sex'], Age_z_test), axis=1)"
      ],
      "execution_count": null,
      "outputs": []
    },
    {
      "cell_type": "code",
      "metadata": {
        "id": "h6D0SRIg6k2D"
      },
      "source": [
        "kmeans_fram_3clust_test = KMeans(n_clusters=3).fit(X_fram_z_test)\n",
        "cluster_fram_3clust_test = kmeans_fram_3clust_test.labels_ # Cluster membership\n",
        "Cluster1_fram_3clust_test = X_fram_z_test.loc[cluster_fram_3clust_test == 0]\n",
        "Cluster2_fram_3clust_test = X_fram_z_test.loc[cluster_fram_3clust_test == 1]\n",
        "Cluster3_fram_3clust_test = X_fram_z_test.loc[cluster_fram_3clust_test == 2]\n",
        "\n",
        "Cluster1_fram_3clust_test.describe(), Cluster2_fram_3clust_test.describe(), Cluster3_fram_3clust_test.describe()"
      ],
      "execution_count": null,
      "outputs": []
    },
    {
      "cell_type": "code",
      "metadata": {
        "id": "vcQ5KCAg7UmN"
      },
      "source": [
        "# Describe"
      ],
      "execution_count": null,
      "outputs": []
    },
    {
      "cell_type": "markdown",
      "metadata": {
        "id": "K5OcbUSh7mDk"
      },
      "source": [
        "\n",
        "### 25\n",
        "Report result from test set, are cluaters validated?"
      ]
    },
    {
      "cell_type": "code",
      "metadata": {
        "id": "DNvHTlsT7vVF"
      },
      "source": [
        "# Describe"
      ],
      "execution_count": null,
      "outputs": []
    },
    {
      "cell_type": "markdown",
      "metadata": {
        "id": "jKbZkoRu7wK-"
      },
      "source": [
        "### 26\n",
        "Run K-means clustering with k=4"
      ]
    },
    {
      "cell_type": "code",
      "metadata": {
        "id": "YSb2cujV78Yn"
      },
      "source": [
        "kmeans_fram_4clust = KMeans(n_clusters=4).fit(X_fram_z)\n",
        "cluster_fram_4clust = kmeans_fram_4clust.labels_"
      ],
      "execution_count": null,
      "outputs": []
    },
    {
      "cell_type": "markdown",
      "metadata": {
        "id": "gh-CEgAA78Yn"
      },
      "source": [
        "### 27 \n",
        "Construct a table of stat summarizing 4 clusters"
      ]
    },
    {
      "cell_type": "code",
      "metadata": {
        "id": "cOx0giaw78Yo"
      },
      "source": [
        "clust1_f_4clust = X_fram_z.loc[cluster_fram_4clust == 0]\n",
        "clust2_f_4clust = X_fram_z.loc[cluster_fram_4clust == 1]\n",
        "clust3_f_4clust = X_fram_z.loc[cluster_fram_4clust == 2]\n",
        "clust4_f_4clust = X_fram_z.loc[cluster_fram_4clust == 3]"
      ],
      "execution_count": null,
      "outputs": []
    },
    {
      "cell_type": "code",
      "metadata": {
        "id": "vwlyJcJm78Yo"
      },
      "source": [
        "clust1_f_4clust.describe(), clust2_f_4clust.describe(), clust3_f_4clust.describe(), clust4_f_4clust.describe()"
      ],
      "execution_count": null,
      "outputs": []
    },
    {
      "cell_type": "code",
      "metadata": {
        "id": "vS-IPILS78Yo"
      },
      "source": [
        "# Describe"
      ],
      "execution_count": null,
      "outputs": []
    },
    {
      "cell_type": "markdown",
      "metadata": {
        "id": "MlSpIaMI78Yo"
      },
      "source": [
        "### 28\n",
        "Perform K-means clustering on Test set with K=4 clusters"
      ]
    },
    {
      "cell_type": "code",
      "metadata": {
        "id": "CrhPZpl578Yo"
      },
      "source": [
        "X_fram_test = fram_test[['Sex', 'Age']]\n",
        "\n",
        "Age_z_test = pd.DataFrame(stats.zscore(X_fram_test['Age']), columns=['Age'])\n",
        "X_fram_z_test = pd.concat((X_fram_test['Sex'], Age_z_test), axis=1)"
      ],
      "execution_count": null,
      "outputs": []
    },
    {
      "cell_type": "code",
      "metadata": {
        "id": "SPallrTM78Yo"
      },
      "source": [
        "kmeans_fram_4clust_test = KMeans(n_clusters=4).fit(X_fram_z_test)\n",
        "cluster_fram_4clust_test = kmeans_fram_4clust_test.labels_ # Cluster membership\n",
        "Cluster1_fram_4clust_test = X_fram_z_test.loc[cluster_fram_4clust_test == 0]\n",
        "Cluster2_fram_4clust_test = X_fram_z_test.loc[cluster_fram_4clust_test == 1]\n",
        "Cluster3_fram_4clust_test = X_fram_z_test.loc[cluster_fram_4clust_test == 2]\n",
        "Cluster4_fram_4clust_test = X_fram_z_test.loc[cluster_fram_4clust_test == 3]\n",
        "\n",
        "Cluster1_fram_4clust_test.describe(), Cluster2_fram_4clust_test.describe(), Cluster3_fram_4clust_test.describe(), Cluster4_fram_4clust_test.describe()"
      ],
      "execution_count": null,
      "outputs": []
    },
    {
      "cell_type": "code",
      "metadata": {
        "id": "dvNLwd9s78Yo"
      },
      "source": [
        "# Describe"
      ],
      "execution_count": null,
      "outputs": []
    },
    {
      "cell_type": "markdown",
      "metadata": {
        "id": "PIOMAxyn8yVE"
      },
      "source": [
        "### 29 \n",
        "Report result from test set, are 4 clustesrs validated? "
      ]
    },
    {
      "cell_type": "code",
      "metadata": {
        "id": "ExjQoxAt84MV"
      },
      "source": [
        "# Describe"
      ],
      "execution_count": null,
      "outputs": []
    },
    {
      "cell_type": "markdown",
      "metadata": {
        "id": "2NQT-HJ485Jl"
      },
      "source": [
        "### 30\n",
        "Which clustering solution, k= 2,3,4 do you prefer? why?"
      ]
    },
    {
      "cell_type": "code",
      "metadata": {
        "id": "lW0cWh2t8_ad"
      },
      "source": [
        "# Describe"
      ],
      "execution_count": null,
      "outputs": []
    },
    {
      "cell_type": "code",
      "metadata": {
        "id": "xKaKr_zo9AOl"
      },
      "source": [
        ""
      ],
      "execution_count": null,
      "outputs": []
    }
  ]
}