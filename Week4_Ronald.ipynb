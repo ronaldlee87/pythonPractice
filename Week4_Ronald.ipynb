{
  "nbformat": 4,
  "nbformat_minor": 0,
  "metadata": {
    "colab": {
      "name": "Week4_Mandoo.ipynb",
      "private_outputs": true,
      "provenance": [],
      "collapsed_sections": [
        "QnLluUVg5aHG",
        "ScFUyruY892a"
      ]
    },
    "kernelspec": {
      "name": "python3",
      "display_name": "Python 3"
    },
    "language_info": {
      "name": "python"
    }
  },
  "cells": [
    {
      "cell_type": "markdown",
      "metadata": {
        "id": "WrQatliA1oId"
      },
      "source": [
        "# **CH 7 MODEL EVALUATION**"
      ]
    },
    {
      "cell_type": "code",
      "metadata": {
        "id": "hYH3iBtBzvun"
      },
      "source": [
        "from google.colab import drive\n",
        "drive.mount(\"/content/gdrive\")"
      ],
      "execution_count": null,
      "outputs": []
    },
    {
      "cell_type": "code",
      "metadata": {
        "id": "NJlBHFnt0JSm"
      },
      "source": [
        "import pandas as pd\n",
        "import numpy as np "
      ],
      "execution_count": null,
      "outputs": []
    },
    {
      "cell_type": "code",
      "metadata": {
        "id": "IIUyqHHhzvNR"
      },
      "source": [
        "clothing_train = pd.read_csv(\"/content/gdrive/My Drive/Python Practice/Datasets/clothing_data_driven_training\", delimiter='\\t')\n",
        "clothing_test = pd.read_csv(\"/content/gdrive/My Drive/Python Practice/Datasets/clothing_data_driven_test\", delimiter='\\t')\n",
        "\n",
        "#clothing_train\n",
        "#clothing_test"
      ],
      "execution_count": null,
      "outputs": []
    },
    {
      "cell_type": "markdown",
      "metadata": {
        "id": "QnLluUVg5aHG"
      },
      "source": [
        "### **HANDS-ON ANALYSIS**"
      ]
    },
    {
      "cell_type": "markdown",
      "metadata": {
        "id": "IBdJ-zMs3GCr"
      },
      "source": [
        "## 23 \n",
        "*   Using Training set, Create C5.0 model (Model 1) to predict customer's 'Income' using 'Marital Status', 'Capital Gains and Losses' \n",
        "*   Obtain Predicted Responses\n",
        "\n",
        "\n"
      ]
    },
    {
      "cell_type": "code",
      "metadata": {
        "id": "08aRiqRL3FlU"
      },
      "source": [
        "import statsmodels.tools.tools as stattools\n",
        "from sklearn.tree import DecisionTreeClassifier, export_graphviz\n",
        "\n",
        "adult_tr = pd.read_csv(\"/content/gdrive/My Drive/Python Practice/Datasets/adult_ch6_training\")\n",
        "adult_test = pd.read_csv(\"/content/gdrive/My Drive/Python Practice/Datasets/adult_ch6_test\")\n",
        "y = adult_tr[['Income']]\n",
        "y_test = adult_test[['Income']]"
      ],
      "execution_count": null,
      "outputs": []
    },
    {
      "cell_type": "code",
      "metadata": {
        "id": "CCVTUPJv4VBK"
      },
      "source": [
        "mar_np = np.array(adult_tr['Marital status'])\n",
        "(mar_cat, mar_cat_dict) = stattools.categorical(mar_np, drop=True, dictnames=True)"
      ],
      "execution_count": null,
      "outputs": []
    },
    {
      "cell_type": "code",
      "metadata": {
        "id": "3TW9QYUN4U4V"
      },
      "source": [
        "mar_cat_pd = pd.DataFrame(mar_cat)\n",
        "X = pd.concat((adult_tr[['Cap_Gains_Losses']], mar_cat_pd), axis=1)\n",
        "\n",
        "X_names = ['Cap_Gains_Losses', 'Divorced', 'Married', 'Never-married', 'Separated', 'Widowed']\n",
        "y_names = ['<=50K', '>50K']\n",
        "\n",
        "c50_01 = DecisionTreeClassifier(criterion='entropy', max_leaf_nodes=5).fit(X,y)"
      ],
      "execution_count": null,
      "outputs": []
    },
    {
      "cell_type": "code",
      "metadata": {
        "id": "hq6eDWJJ4Ul8"
      },
      "source": [
        "export_graphviz(c50_01, out_file = '/content/gdrive/My Drive/Python Practice/Datasets/c50_01.dot', \n",
        "                feature_names=X_names, class_names=y_names)"
      ],
      "execution_count": null,
      "outputs": []
    },
    {
      "cell_type": "code",
      "metadata": {
        "id": "vYdlS1vT73xv"
      },
      "source": [
        "c50_01.predict(X)"
      ],
      "execution_count": null,
      "outputs": []
    },
    {
      "cell_type": "markdown",
      "metadata": {
        "id": "mM0CbbPt4T_t"
      },
      "source": [
        "## 24\n",
        "*   Evaluate Model 1 using Test set\n",
        "*   Construct Contingency table\n",
        "\n"
      ]
    },
    {
      "cell_type": "code",
      "metadata": {
        "id": "OZPFEvit76zU"
      },
      "source": [
        "mar_np_test = np.array(adult_test['Marital status'])\n",
        "(mar_cat_test, mar_cat_dict_test) = stattools.categorical(mar_np_test, drop=True, dictnames=True)\n",
        "\n",
        "mar_cat_pd_test = pd.DataFrame(mar_cat_test)\n",
        "X_test = pd.concat((adult_test[['Cap_Gains_Losses']], mar_cat_pd_test), axis=1)"
      ],
      "execution_count": null,
      "outputs": []
    },
    {
      "cell_type": "code",
      "metadata": {
        "id": "u8TAYdMf7_IB"
      },
      "source": [
        "c50_01.predict(X_test)"
      ],
      "execution_count": null,
      "outputs": []
    },
    {
      "cell_type": "code",
      "metadata": {
        "id": "wVu2CShI4Slt"
      },
      "source": [
        "#y = adult_tr['Income']\n",
        "y_test = adult_test['Income']\n",
        "\n",
        "#pred_train = c50_01.predict(X)\n",
        "pred_test = c50_01.predict(X_test)"
      ],
      "execution_count": null,
      "outputs": []
    },
    {
      "cell_type": "code",
      "metadata": {
        "id": "HrJ-WPPs4DQe"
      },
      "source": [
        "crosstab_model1 = pd.crosstab(pred_test, y_test, rownames=[\"prediction\"], colnames=[\"actual\"], margins=True)\n",
        "crosstab_model1"
      ],
      "execution_count": null,
      "outputs": []
    },
    {
      "cell_type": "markdown",
      "metadata": {
        "id": "6rBLUT5I8be-"
      },
      "source": [
        "### 25\n",
        "*   Calculate all evaluation measures\n"
      ]
    },
    {
      "cell_type": "code",
      "metadata": {
        "id": "1dMi8zRA2XjO"
      },
      "source": [
        "def eval(cross,lv):\n",
        "    TN = cross[lv[0]][0]\n",
        "    TP = cross[lv[1]][1]\n",
        "    TAP = cross.sum(1)[1]\n",
        "    TAN = cross.sum(1)[0]\n",
        "    TPP = cross.sum(0)[1]\n",
        "    GT = sum(cross.sum())\n",
        "\n",
        "    acc = round((TN + TP)/GT, 2)    # Accuracy\n",
        "    err = round(1-acc, 2)           # Error rate\n",
        "    sen = round(TP/TAP, 2)          # Sensitivity\n",
        "    rec = round(TN/TAN, 2)          # Specificity = Recall\n",
        "    pre = round(TP/TPP, 2)          # Precision\n",
        "\n",
        "    return[acc, err, sen, rec, pre]\n",
        "\n",
        "def fscore(precision,recall, df):\n",
        "    f = ((df**2+1)*precision*recall) / ((df**2)*precision + recall)\n",
        "    return f     \n",
        "\n",
        "acc1, err1, sen1, rec1, pre1 = eval(crosstab_model1, y_names)"
      ],
      "execution_count": null,
      "outputs": []
    },
    {
      "cell_type": "code",
      "metadata": {
        "id": "63dYj1Eu8x5E"
      },
      "source": [
        "f1_model1 = fscore(pre1, rec1, 1)\n",
        "f2_model1 = fscore(pre1, rec1, 2)\n",
        "f05_model1 = fscore(pre1, rec1, 0.5)"
      ],
      "execution_count": null,
      "outputs": []
    },
    {
      "cell_type": "code",
      "metadata": {
        "id": "cwfMWH698yB1"
      },
      "source": [
        "eval_dict = {'Eval Measures' : ['Accuracy', 'Error rate', 'Sensitivity', 'Recall(Specificity)', 'Precision', 'F1', 'F2', 'F0.5'],\n",
        "             'Model 1 : Eval Values' : [acc1, err1, sen1, rec1, pre1, f1_model1, f2_model1, f05_model1]} \n",
        "\n",
        "model_eval = pd.DataFrame(eval_dict)\n",
        "model_eval"
      ],
      "execution_count": null,
      "outputs": []
    },
    {
      "cell_type": "markdown",
      "metadata": {
        "id": "ScFUyruY892a"
      },
      "source": [
        "### 26\n",
        "* Interpret evaluation measures"
      ]
    },
    {
      "cell_type": "markdown",
      "metadata": {
        "id": "gvvan-ai8-UN"
      },
      "source": [
        "### 27\n",
        "* Create Cost matrix, 3x, FP is 4 times as bad as FN"
      ]
    },
    {
      "cell_type": "code",
      "metadata": {
        "id": "2Wjh-2a68-fl"
      },
      "source": [
        "#cost_mat = np.array(([0,4],[1,0]))\n",
        "#cost_mat"
      ],
      "execution_count": null,
      "outputs": []
    },
    {
      "cell_type": "code",
      "metadata": {
        "id": "ztyQFEqnV6to"
      },
      "source": [
        "n = adult_tr.shape[0]\n",
        "#cost_list = [0,4,1,0]*n\n",
        "cost_list = [4,1,0,0]*n\n",
        "cost_mat = np.array(cost_list).reshape(n,4)\n",
        "cost_mat"
      ],
      "execution_count": null,
      "outputs": []
    },
    {
      "cell_type": "markdown",
      "metadata": {
        "id": "rM4KKDHQ8-oG"
      },
      "source": [
        "### 28\n",
        "* Build C5.0 model (Model 2) using training set, 3x cost matrix"
      ]
    },
    {
      "cell_type": "code",
      "metadata": {
        "id": "4yrRymuQ9e5t"
      },
      "source": [
        "#!pip install costcla"
      ],
      "execution_count": null,
      "outputs": []
    },
    {
      "cell_type": "code",
      "metadata": {
        "id": "rJmrWfKqWgAo"
      },
      "source": [
        " import costcla.models as co\n",
        "\n",
        "# change y to array and change values to numeric (<=50K = 0)\n",
        "y_train = np.array(y).reshape(n,)\n",
        "y_train[y_train == y_names[0]] = 0\n",
        "y_train[y_train == y_names[1]] = 1\n",
        "\n",
        "# change X, X_test (training, test set) to array\n",
        "X_array = np.array(X)\n",
        "X_test_array = np.array(X_test)\n",
        "\n",
        "# Create C5.0 model (Model 2) using Cost Matrix\n",
        "# Fit training set to this model, and Obtain prediction\n",
        "DT = co.CostSensitiveDecisionTreeClassifier()\n",
        "DT_fit = DT.fit(X_array, y_train, cost_mat=cost_mat)\n",
        "DT_fit.predict(X_array)"
      ],
      "execution_count": null,
      "outputs": []
    },
    {
      "cell_type": "markdown",
      "metadata": {
        "id": "qUksDvzjYgn4"
      },
      "source": [
        "### 29\n",
        "* Evaluate prediction from Model 2 using actual response from test set\n",
        "* Add 'Overall Model Cost', 'Profit per Customer' to the table\n",
        "* Calculate all measures from Model Evaluation Table"
      ]
    },
    {
      "cell_type": "code",
      "metadata": {
        "id": "rLwTwaU0Y7jr"
      },
      "source": [
        "pred_test = DT_fit.predict(X_test_array)\n",
        "pred_test = pred_test.reshape(X_test_array.shape[0], 1)\n",
        "\n",
        "y_pred_test = pd.DataFrame(pred_test)\n",
        "y_pred_test[y_pred_test == 0] = y_names[0]\n",
        "y_pred_test[y_pred_test == 1] = y_names[1]\n",
        "\n",
        "\n",
        "crosstab_model2 = pd.crosstab(adult_test['Income'], y_pred_test.loc[:,0], rownames=['Actual'], colnames=['Predicted'])\n",
        "crosstab_model2"
      ],
      "execution_count": null,
      "outputs": []
    },
    {
      "cell_type": "code",
      "metadata": {
        "id": "_cghZMDDnWW7"
      },
      "source": [
        "def eval(cross,lv):\n",
        "    TN = cross[lv[0]][0]\n",
        "    TP = cross[lv[1]][1]\n",
        "    TAP = cross.sum(1)[1]\n",
        "    TAN = cross.sum(1)[0]\n",
        "    TPP = cross.sum(0)[1]\n",
        "    GT = sum(cross.sum())\n",
        "\n",
        "    acc = round((TN + TP)/GT, 2)    # Accuracy\n",
        "    err = round(1-acc, 2)           # Error rate\n",
        "    sen = round(TP/TAP, 2)          # Sensitivity\n",
        "    rec = round(TN/TAN, 2)          # Specificity = Recall\n",
        "    pre = round(TP/TPP, 2)          # Precision\n",
        "\n",
        "    return[acc, err, sen, rec, pre]\n",
        "\n",
        "def fscore(precision,recall, df):\n",
        "    f = ((df**2+1)*precision*recall) / ((df**2)*precision + recall)\n",
        "    return f     \n",
        "\n",
        "acc2, err2, sen2, rec2, pre2 = eval(crosstab_model2, y_names)"
      ],
      "execution_count": null,
      "outputs": []
    },
    {
      "cell_type": "code",
      "metadata": {
        "id": "J1UmMsBbzEVq"
      },
      "source": [
        "f1_model2 = fscore(pre2, rec2, 1)\n",
        "f2_model2 = fscore(pre2, rec2, 2)\n",
        "f05_model2 = fscore(pre2, rec2, 0.5)"
      ],
      "execution_count": null,
      "outputs": []
    },
    {
      "cell_type": "code",
      "metadata": {
        "id": "bpdvNR-81OaW"
      },
      "source": [
        "eval_model2 = {'Model 2 : Eval Values' :  [acc2, err2, sen2, rec2, pre2, f1_model2, f2_model2, f05_model2]} \n",
        "eval_model2_summary = pd.DataFrame(eval_model2)\n",
        "\n",
        "model_eval = pd.concat((model_eval, eval_model2_summary), axis=1)\n",
        "model_eval"
      ],
      "execution_count": null,
      "outputs": []
    },
    {
      "cell_type": "code",
      "metadata": {
        "id": "BK-hzzSU4nh-"
      },
      "source": [
        "def eval(cross,lv,cost_mat):\n",
        "    TN = cross[lv[0]][0]\n",
        "    FN = cross[lv[1]][0]\n",
        "    FP = cross[lv[0]][1]\n",
        "    TP = cross[lv[1]][1]\n",
        "    GT = sum(cross.sum())\n",
        "\n",
        "    total_cost = FP*cost_mat[0] + FN*cost_mat[1] + TP*cost_mat[2] + TN*cost_mat[3]  \n",
        "    profit_per_customer = -total_cost / GT\n",
        "    return[total_cost, profit_per_customer]"
      ],
      "execution_count": null,
      "outputs": []
    },
    {
      "cell_type": "code",
      "metadata": {
        "id": "HPUHHhvp8uvZ"
      },
      "source": [
        "# Overall Model Cost / Profit per Customer for MODEL 2\n",
        "cost_model2, profit_model2 = eval(crosstab_model2, y_names, cost_mat[1])\n",
        "print('overall model cost: %.2f & Profit per Customer: %.3f' % (cost_model2, profit_model2))"
      ],
      "execution_count": null,
      "outputs": []
    },
    {
      "cell_type": "markdown",
      "metadata": {
        "id": "apsyRvOM-TXv"
      },
      "source": [
        "### 30\n",
        "* Compare Evaluation Measures from Model 1 and Model 2 using 3x cost matrix\n",
        "* Strength and Weakness for each model"
      ]
    },
    {
      "cell_type": "markdown",
      "metadata": {
        "id": "vSUmMNc20dG8"
      },
      "source": [
        "### **CH8 NAIVE BAYES CLASSIFICATION**\n",
        "## 8.5.1 Naive Bayes"
      ]
    },
    {
      "cell_type": "code",
      "metadata": {
        "id": "jZgNjREII_LL"
      },
      "source": [
        "import pandas as pd\n",
        "import numpy as np\n",
        "from sklearn.naive_bayes import MultinomialNB\n",
        "import statsmodels.tools.tools as stattools"
      ],
      "execution_count": null,
      "outputs": []
    },
    {
      "cell_type": "code",
      "metadata": {
        "id": "zBeicixB9p_G"
      },
      "source": [
        "wine_tr = pd.read_csv(\"/content/gdrive/My Drive/Python Practice/Datasets/wine_flag_training.csv\")\n",
        "wine_test = pd.read_csv(\"/content/gdrive/My Drive/Python Practice/Datasets/wine_flag_test.csv\")"
      ],
      "execution_count": null,
      "outputs": []
    },
    {
      "cell_type": "code",
      "metadata": {
        "id": "lZb3PYnEDDBG"
      },
      "source": [
        "t1 = pd.crosstab(wine_tr['Type'], wine_tr['Alcohol_flag'])\n",
        "t1['Total'] = t1.sum(axis=1)\n",
        "t1.loc['Total'] = t1.sum()\n",
        "t1 "
      ],
      "execution_count": null,
      "outputs": []
    },
    {
      "cell_type": "code",
      "metadata": {
        "id": "H5EBMhGW7vna"
      },
      "source": [
        "t1_plot = pd.crosstab(wine_tr['Alcohol_flag'], wine_tr['Type'])\n",
        "t1_plot.plot(kind='bar', stacked=True)"
      ],
      "execution_count": null,
      "outputs": []
    },
    {
      "cell_type": "code",
      "metadata": {
        "id": "p_XhQcKA8R8r"
      },
      "source": [
        "X_Alcohol_ind = np.array(wine_tr['Alcohol_flag'])\n",
        "(X_Alcohol_ind, X_Alcohol_ind_dict) = stattools.categorical(X_Alcohol_ind, drop=True, dictnames=True)\n",
        "X_Alcohol_ind = pd.DataFrame(X_Alcohol_ind)\n",
        "\n",
        "X_Sugar_ind = np.array(wine_tr['Sugar_flag'])\n",
        "(X_Sugar_ind, X_Sugar_ind_dict) = stattools.categorical(X_Sugar_ind, drop=True, dictnames=True)\n",
        "X_Sugar_ind = pd.DataFrame(X_Sugar_ind)\n",
        "\n",
        "X = pd.concat((X_Alcohol_ind, X_Sugar_ind), axis=1)\n",
        "\n",
        "Y = wine_tr['Type']"
      ],
      "execution_count": null,
      "outputs": []
    },
    {
      "cell_type": "code",
      "metadata": {
        "id": "In40kPhqBHCr"
      },
      "source": [
        "# fit Naive Bayes algorithm using Training set\n",
        "nb_01 = MultinomialNB().fit(X,Y)"
      ],
      "execution_count": null,
      "outputs": []
    },
    {
      "cell_type": "code",
      "metadata": {
        "id": "ZApRbtEsNnSU"
      },
      "source": [
        "# Test NB algorithm by Test set\n",
        "X_Alcohol_ind_test = np.array(wine_test['Alcohol_flag'])\n",
        "(X_Alcohol_ind_test, X_Alcohol_ind_dict_test) = stattools.categorical(X_Alcohol_ind_test, drop=True, dictnames=True)\n",
        "X_Alcohol_ind_test = pd.DataFrame(X_Alcohol_ind_test)\n",
        "\n",
        "X_Sugar_ind_test = np.array(wine_test['Sugar_flag'])\n",
        "(X_Sugar_ind_test, X_Sugar_ind_dict_test) = stattools.categorical(X_Sugar_ind_test, drop=True, dictnames=True)\n",
        "X_Sugar_ind_test = pd.DataFrame(X_Sugar_ind_test)\n",
        "\n",
        "X_test = pd.concat((X_Alcohol_ind_test, X_Sugar_ind_test), axis=1)\n",
        "\n",
        "Y_predicted = nb_01.predict(X_test)\n",
        "Y_predicted"
      ],
      "execution_count": null,
      "outputs": []
    },
    {
      "cell_type": "code",
      "metadata": {
        "id": "FRQTqu8bOa3v"
      },
      "source": [
        "ypred = pd.crosstab(wine_test['Type'], Y_predicted, rownames=['Actual'], colnames=['Predicted'])\n",
        "ypred['Total'] = ypred.sum()\n",
        "ypred.loc['Total'] = ypred.sum()\n",
        "ypred"
      ],
      "execution_count": null,
      "outputs": []
    },
    {
      "cell_type": "markdown",
      "metadata": {
        "id": "ghmLtDbXPFzr"
      },
      "source": [
        "### HANDS-ON ANALYSIS\n",
        "### 24\n",
        "* Convert all variables to factors"
      ]
    },
    {
      "cell_type": "code",
      "metadata": {
        "id": "5gsYC7ONP9bq"
      },
      "source": [
        "import pandas as pd\n",
        "import numpy as np\n",
        "from sklearn.naive_bayes import MultinomialNB\n",
        "import statsmodels.tools.tools as stattools"
      ],
      "execution_count": null,
      "outputs": []
    },
    {
      "cell_type": "code",
      "metadata": {
        "id": "UqmaXsXjQAM3"
      },
      "source": [
        "fram_tr = pd.read_csv(\"/content/gdrive/My Drive/Python Practice/Datasets/framingham_nb_training.csv\")\n",
        "fram_test = pd.read_csv(\"/content/gdrive/My Drive/Python Practice/Datasets/framingham_nb_test.csv\")"
      ],
      "execution_count": null,
      "outputs": []
    },
    {
      "cell_type": "code",
      "metadata": {
        "id": "1pVNQ5SbQxNu"
      },
      "source": [
        "X_Sex_ind = np.array(fram_tr['Sex'])\n",
        "(X_Sex_ind, X_Sex_ind_dict) = stattools.categorical(X_Sex_ind, drop=True, dictnames=True)\n",
        "X_Sex_ind = pd.DataFrame(X_Sex_ind)\n",
        "\n",
        "X_Educ_ind = np.array(fram_tr['Educ'])\n",
        "(X_Educ_ind, X_Educ_ind_dict) = stattools.categorical(X_Educ_ind, drop=True, dictnames=True)\n",
        "X_Educ_ind = pd.DataFrame(X_Educ_ind)\n",
        "\n",
        "X_Death_ind = np.array(fram_tr['Death'])\n",
        "(X_Death_ind, X_Death_ind_dict) = stattools.categorical(X_Death_ind, drop=True, dictnames=True)\n",
        "X_Death_ind = pd.DataFrame(X_Death_ind)\n",
        "\n",
        "X_fram = pd.concat((X_Sex_ind, X_Educ_ind, X_Death_ind), axis=1)\n",
        "X_fram\n",
        "\n",
        "#Y_fram = fram_tr['']"
      ],
      "execution_count": null,
      "outputs": []
    },
    {
      "cell_type": "markdown",
      "metadata": {
        "id": "BRvGMfXKQbwq"
      },
      "source": [
        "### 25\n",
        "Create two contingency table. 1. Death and Sex 2. Death and Educ"
      ]
    },
    {
      "cell_type": "code",
      "metadata": {
        "id": "qDlNsaoMWJeN"
      },
      "source": [
        "tab_sex = pd.crosstab(fram_tr['Death'],fram_tr['Sex'], rownames=[\"Death\"], colnames=[\"Sex\"])\n",
        "tab_educ = pd.crosstab(fram_tr['Death'],fram_tr['Educ'], rownames=[\"Death\"], colnames=[\"Educ\"])\n",
        "\n",
        "print(tab_sex)\n",
        "print(tab_educ)"
      ],
      "execution_count": null,
      "outputs": []
    },
    {
      "cell_type": "markdown",
      "metadata": {
        "id": "dD_QHCN0Wr-D"
      },
      "source": [
        "### 26\n",
        "* a. Probability a randomly selected person is alive or is dead"
      ]
    },
    {
      "cell_type": "code",
      "metadata": {
        "id": "e_G4aV5pu1cB"
      },
      "source": [
        "total = sum(tab_sex.sum())\n",
        "\n",
        "prob_dead = tab_sex.sum(axis=1)[1] / total\n",
        "prob_alive = tab_sex.sum(axis=1)[0] / total\n",
        "\n",
        "print('Dead Probability: %.2f & Alive Probability: %.3f' % (prob_dead, prob_alive))"
      ],
      "execution_count": null,
      "outputs": []
    },
    {
      "cell_type": "markdown",
      "metadata": {
        "id": "OljcDDjFXE6H"
      },
      "source": [
        "* b. Probability a randomly selected person is male"
      ]
    },
    {
      "cell_type": "code",
      "metadata": {
        "id": "Bc5UIhU1wRmB"
      },
      "source": [
        "prob_male = tab_sex.sum()[1] / total\n",
        "print('Male Probability: %.2f' % (prob_male))"
      ],
      "execution_count": null,
      "outputs": []
    },
    {
      "cell_type": "markdown",
      "metadata": {
        "id": "9B4tqixmXRxS"
      },
      "source": [
        "* c. Probability a randomly selected person has an Educ value of 3"
      ]
    },
    {
      "cell_type": "code",
      "metadata": {
        "id": "G01liurfwdHN"
      },
      "source": [
        "prob_educ3 = tab_educ.sum()[3] / total\n",
        "print('Educ 3 Probability: %.2f' % (prob_educ3))"
      ],
      "execution_count": null,
      "outputs": []
    },
    {
      "cell_type": "markdown",
      "metadata": {
        "id": "pAE45YYbXXkq"
      },
      "source": [
        "* d. Probability that a dead person is male with education level 1, and that a living person is male with education level 1"
      ]
    },
    {
      "cell_type": "code",
      "metadata": {
        "id": "PxMP_t7g33iZ"
      },
      "source": [
        "tab_sex.sum(axis=1)[0]"
      ],
      "execution_count": null,
      "outputs": []
    },
    {
      "cell_type": "code",
      "metadata": {
        "id": "9pPasXjXxCsq"
      },
      "source": [
        "alive_total = tab_sex.sum(axis=1)[0]\n",
        "dead_total = tab_sex.sum(axis=1)[1]\n",
        "\n",
        "dme1 = fram_tr.query('Death == 1 & Sex == 1 & Educ == 1').shape[0] / dead_total\n",
        "ame1 = fram_tr.query('Death == 0 & Sex == 1 & Educ == 1').shape[0] / alive_total\n",
        "\n",
        "print('P(X = Educ 1, Male | Y=Dead) : %.2f' % (dme1))\n",
        "print('P(X = Educ 1, Male | Y=Alive) : %.2f' % (ame1))"
      ],
      "execution_count": null,
      "outputs": []
    },
    {
      "cell_type": "markdown",
      "metadata": {
        "id": "MB931O2WXjwD"
      },
      "source": [
        "* e. Probability that a living person is female with education level 2, and that a dead person is female with education level 2"
      ]
    },
    {
      "cell_type": "code",
      "metadata": {
        "id": "cIVHcFmmXtyT"
      },
      "source": [
        "afe2 = fram_tr.query('Death == 0 & Sex == 2 & Educ == 2').shape[0] / alive_total\n",
        "dfe2 = fram_tr.query('Death == 1 & Sex == 2 & Educ == 2').shape[0] / dead_total\n",
        "\n",
        "print('P(X = Educ 2, Female | Y=Alive) : %.2f' % (afe2))\n",
        "print('P(X = Educ 2, Female | Y=Dead) : %.2f' % (dfe2))"
      ],
      "execution_count": null,
      "outputs": []
    },
    {
      "cell_type": "markdown",
      "metadata": {
        "id": "tEinU2R36rbJ"
      },
      "source": [
        "### 27\n",
        "Create side-by-side bar graphs 1. Death with overlay of Sex 2. Death with overlay of Educ"
      ]
    },
    {
      "cell_type": "code",
      "metadata": {
        "id": "IxaZk25u_iy8"
      },
      "source": [
        "# Death with overlay of Sex"
      ],
      "execution_count": null,
      "outputs": []
    },
    {
      "cell_type": "code",
      "metadata": {
        "id": "IIE2PHzk-VwU"
      },
      "source": [
        "tab_sex.plot(kind='bar', stacked=True)"
      ],
      "execution_count": null,
      "outputs": []
    },
    {
      "cell_type": "code",
      "metadata": {
        "id": "MBpZovuR-9Z0"
      },
      "source": [
        "tab_sex_norm = tab_sex.div(tab_sex.sum(1), axis=0)\n",
        "tab_sex_norm.plot(kind='bar', stacked=True)"
      ],
      "execution_count": null,
      "outputs": []
    },
    {
      "cell_type": "code",
      "metadata": {
        "id": "FK-4kkPJ_mga"
      },
      "source": [
        "# Death with overlay of Educ"
      ],
      "execution_count": null,
      "outputs": []
    },
    {
      "cell_type": "code",
      "metadata": {
        "id": "eNOEJlCZ_pyt"
      },
      "source": [
        "tab_educ.plot(kind='bar', stacked=True)"
      ],
      "execution_count": null,
      "outputs": []
    },
    {
      "cell_type": "code",
      "metadata": {
        "id": "YdzqQaHl_p7O"
      },
      "source": [
        "tab_educ_norm = tab_educ.div(tab_educ.sum(1), axis=0)\n",
        "tab_educ_norm.plot(kind='bar', stacked=True)"
      ],
      "execution_count": null,
      "outputs": []
    },
    {
      "cell_type": "markdown",
      "metadata": {
        "id": "zwrfFUID6v9Q"
      },
      "source": [
        "### 28\n",
        "* a. If we know a person is dead, are they more likely to be male or female?"
      ]
    },
    {
      "cell_type": "code",
      "metadata": {
        "id": "gX7AvfI2AleX"
      },
      "source": [
        "# P(sex = ? | Y = Dead)\n",
        "# Male"
      ],
      "execution_count": null,
      "outputs": []
    },
    {
      "cell_type": "markdown",
      "metadata": {
        "id": "enVvghx-_91e"
      },
      "source": [
        "* b. If we know a person is alive, are they more likely to be male or female?"
      ]
    },
    {
      "cell_type": "code",
      "metadata": {
        "id": "54naxpZxAl-1"
      },
      "source": [
        "# P(sex = ? | Y = Alive)\n",
        "# Female"
      ],
      "execution_count": null,
      "outputs": []
    },
    {
      "cell_type": "markdown",
      "metadata": {
        "id": "zufB6n2nAD3k"
      },
      "source": [
        "* c. If we know a person is dead, what education level are they most likely to have?"
      ]
    },
    {
      "cell_type": "code",
      "metadata": {
        "id": "oYxP_MsHAmce"
      },
      "source": [
        "# P(educ = ? | Y = Dead)\n",
        "# Education level 1"
      ],
      "execution_count": null,
      "outputs": []
    },
    {
      "cell_type": "markdown",
      "metadata": {
        "id": "dkPHqqeoAHoM"
      },
      "source": [
        "* d. If we know a person is alive, what education level are they most likely to have?"
      ]
    },
    {
      "cell_type": "code",
      "metadata": {
        "id": "3ajRuaVPAmwm"
      },
      "source": [
        "# P(educ = ? | Y = Alive)\n",
        "# Education level 1"
      ],
      "execution_count": null,
      "outputs": []
    },
    {
      "cell_type": "markdown",
      "metadata": {
        "id": "KGSdcXC8AY3b"
      },
      "source": [
        "* e. Which education levels are more prevalent for dead persons? For living persons?"
      ]
    },
    {
      "cell_type": "code",
      "metadata": {
        "id": "-qXQgB1hAkvj"
      },
      "source": [
        "# For Dead persons, Edu level 1 is prevalent.\n",
        "# For Alive persons, Edu level 1 and 2 are prevalent."
      ],
      "execution_count": null,
      "outputs": []
    },
    {
      "cell_type": "markdown",
      "metadata": {
        "id": "kTLyQwEhB1F7"
      },
      "source": [
        "### 29\n",
        "* Compute Posterior Probability of Death = 0 (Alive) for male with education level 1\n",
        "* Compute Posterior Probability of Death = 1 (Dead) for male with education level 1"
      ]
    },
    {
      "cell_type": "code",
      "metadata": {
        "id": "wlwD5MzPCItb"
      },
      "source": [
        "total = sum(tab_sex.sum())\n",
        "alive_total = tab_sex.sum(axis=1)[0]\n",
        "dead_total = tab_sex.sum(axis=1)[1]\n",
        "\n",
        "am = tab_sex[1][0] / alive_total\n",
        "ae1 = tab_educ[1][0] / alive_total\n",
        "\n",
        "dm = tab_sex[1][1] / dead_total\n",
        "de1 = tab_educ[1][1] / dead_total\n",
        "\n",
        "prob_dead = tab_sex.sum(axis=1)[1] / total\n",
        "prob_alive = tab_sex.sum(axis=1)[0] / total\n",
        "\n",
        "me1 = fram_tr.query('Sex == 1 & Educ == 1').shape[0] / total\n",
        "\n",
        "# P(Alive| Male, Edu 1)\n",
        "# By Bayes -> P(Male, Edu 1 | Alive) P(Alive)  /  P(Male, Edu 1) -> P(Male | Alive) P(Edu 1 | Alive) P(Alive)  /  P(Male, Edu 1)\n",
        "post_ame1 = (am * ae1 * prob_alive) / me1\n",
        "\n",
        "# P(Dead | Male, Edu 1)\n",
        "# By Bayes -> P(Male, Edu 1 | Dead) P(Dead)  /  P(Male, Edu 1) -> P(Male | Dead) P(Edu 1 | Dead) P(Dead)  /  P(Male, Edu 1)\n",
        "post_dme1 = (dm * de1 * prob_dead) / me1\n",
        "\n",
        "print('P(Alive | Male, Edu 1) : %.2f' % (post_ame1))\n",
        "print('P(Dead | Male, Edu 1) : %.2f' % (post_dme1))"
      ],
      "execution_count": null,
      "outputs": []
    },
    {
      "cell_type": "markdown",
      "metadata": {
        "id": "kY0ofdZwIsCC"
      },
      "source": [
        "### 30\n",
        "* Compute Posterior Probability of Death = 0 (Alive) for female with education level 2\n",
        "* Compute Posterior Probability of Death = 1 (Dead) for female with education level 2"
      ]
    },
    {
      "cell_type": "code",
      "metadata": {
        "id": "X0f8UhOXKOlD"
      },
      "source": [
        "total = sum(tab_sex.sum())\n",
        "alive_total = tab_sex.sum(axis=1)[0]\n",
        "dead_total = tab_sex.sum(axis=1)[1]\n",
        "\n",
        "af = tab_sex[2][0] / alive_total\n",
        "ae2 = tab_educ[2][0] / alive_total\n",
        "\n",
        "df = tab_sex[2][1] / dead_total\n",
        "de2 = tab_educ[2][1] / dead_total\n",
        "\n",
        "prob_dead = tab_sex.sum(axis=1)[1] / total\n",
        "prob_alive = tab_sex.sum(axis=1)[0] / total\n",
        "\n",
        "fe2 = fram_tr.query('Sex == 2 & Educ == 2').shape[0] / total\n",
        "\n",
        "# P(Alive| Female, Edu 2)\n",
        "# By Bayes -> P(Female, Edu 2 | Alive) P(Alive)  /  P(Female, Edu 2) -> P(Female | Alive) P(Edu 2 | Alive) P(Alive)  /  P(Female, Edu 2)\n",
        "post_afe2 = (af * ae2 * prob_alive) / fe2\n",
        "\n",
        "# P(Dead | Female, Edu 2)\n",
        "# By Bayes -> P(Female, Edu 2 | Dead) P(Dead)  /  P(Female, Edu 2) -> P(Female | Dead) P(Edu 2 | Dead) P(Dead)  /  P(Female, Edu 2)\n",
        "post_dfe2 = (df * de2 * prob_dead) / fe2\n",
        "\n",
        "print('P(Alive | Female, Edu 2) : %.2f' % (post_afe2))\n",
        "print('P(Dead | Female, Edu 2) : %.2f' % (post_dfe2))"
      ],
      "execution_count": null,
      "outputs": []
    },
    {
      "cell_type": "markdown",
      "metadata": {
        "id": "wiS133DGLiwy"
      },
      "source": [
        "### 31\n",
        "Run Naive Bayes Classifier to predict Death using Sex and Education"
      ]
    },
    {
      "cell_type": "code",
      "metadata": {
        "id": "M73chzjELpJL"
      },
      "source": [
        "X_Sex_ind = np.array(fram_tr['Sex'])\n",
        "(X_Sex_ind, X_Sex_ind_dict) = stattools.categorical(X_Sex_ind, drop=True, dictnames=True)\n",
        "X_Sex_ind = pd.DataFrame(X_Sex_ind)\n",
        "\n",
        "X_Educ_ind = np.array(fram_tr['Educ'])\n",
        "(X_Educ_ind, X_Educ_ind_dict) = stattools.categorical(X_Educ_ind, drop=True, dictnames=True)\n",
        "X_Educ_ind = pd.DataFrame(X_Educ_ind)\n",
        "\n",
        "X_fram_tr = pd.concat((X_Sex_ind, X_Educ_ind), axis=1)\n",
        "\n",
        "Y_fram_tr = fram_tr['Death']"
      ],
      "execution_count": null,
      "outputs": []
    },
    {
      "cell_type": "code",
      "metadata": {
        "id": "nCUNlLlDL4iV"
      },
      "source": [
        "# fit Naive Bayes algorithm using Training set\n",
        "nb_fram = MultinomialNB().fit(X_fram_tr,Y_fram_tr)"
      ],
      "execution_count": null,
      "outputs": []
    },
    {
      "cell_type": "markdown",
      "metadata": {
        "id": "LWSJD6b6N-GV"
      },
      "source": [
        "### 32\n",
        "* Evaluate Naive Bayes Model by Test set\n",
        "* Display Contingency Table"
      ]
    },
    {
      "cell_type": "code",
      "metadata": {
        "id": "-lkNjxfNL4qK"
      },
      "source": [
        "# Test NB algorithm by Test set\n",
        "X_Sex_ind_test = np.array(fram_test['Sex'])\n",
        "(X_Sex_ind_test, X_Sex_ind_dict_test) = stattools.categorical(X_Sex_ind_test, drop=True, dictnames=True)\n",
        "X_Sex_ind_test = pd.DataFrame(X_Sex_ind_test)\n",
        "\n",
        "X_Educ_ind_test = np.array(fram_test['Educ'])\n",
        "(X_Educ_ind_test, X_Educ_ind_dict_test) = stattools.categorical(X_Educ_ind_test, drop=True, dictnames=True)\n",
        "X_Educ_ind_test = pd.DataFrame(X_Educ_ind_test)\n",
        "\n",
        "X_fram_test = pd.concat((X_Sex_ind_test, X_Educ_ind_test), axis=1)\n",
        "\n",
        "Y_fram_predicted = nb_fram.predict(X_fram_test)"
      ],
      "execution_count": null,
      "outputs": []
    },
    {
      "cell_type": "code",
      "metadata": {
        "id": "F2imbzxGL4zt"
      },
      "source": [
        "y_fram_pred = pd.crosstab(fram_test['Death'], Y_fram_predicted, rownames=['Actual'], colnames=['Predicted'])\n",
        "y_fram_pred['Total'] = y_fram_pred.sum(axis=1)\n",
        "y_fram_pred.loc['Total'] = y_fram_pred.sum()\n",
        "y_fram_pred.index = ['Actual Alive', 'Actual Dead', 'Total']\n",
        "y_fram_pred.columns = ['Predicted Alive', 'Predicted Dead', 'Total']\n",
        "\n",
        "y_fram_pred"
      ],
      "execution_count": null,
      "outputs": []
    },
    {
      "cell_type": "markdown",
      "metadata": {
        "id": "oRyZdPtPOVqD"
      },
      "source": [
        "### 33 \n",
        "* a. Accuracy"
      ]
    },
    {
      "cell_type": "code",
      "metadata": {
        "id": "byryvYVPV8MN"
      },
      "source": [
        "# create 2x2 contingency table again without TOTAL in order to use this as input\n",
        "fram_table = pd.crosstab(fram_test['Death'], Y_fram_predicted, rownames=['Actual'], colnames=['Predicted'])"
      ],
      "execution_count": null,
      "outputs": []
    },
    {
      "cell_type": "code",
      "metadata": {
        "id": "QA-cWmoMQs5m"
      },
      "source": [
        "def eval(cross,lv):\n",
        "    TN = cross[lv[0]][0]\n",
        "    TP = cross[lv[1]][1]\n",
        "    TAP = cross.sum(1)[1]\n",
        "    TAN = cross.sum(1)[0]\n",
        "    TPP = cross.sum(0)[1]\n",
        "    GT = sum(cross.sum())\n",
        "\n",
        "    acc = round((TN + TP)/GT, 2)    # Accuracy\n",
        "    err = round(1-acc, 2)           # Error rate\n",
        "    sen = round(TP/TAP, 2)          # Sensitivity\n",
        "    rec = round(TN/TAN, 2)          # Specificity = Recall\n",
        "    pre = round(TP/TPP, 2)          # Precision\n",
        "\n",
        "    return[acc, err, sen, rec, pre]\n",
        "\n",
        "def fscore(precision,recall, df):\n",
        "    f = ((df**2+1)*precision*recall) / ((df**2)*precision + recall)\n",
        "    return f     \n",
        "\n",
        "acc_fram, err_fram, sen_fram, rec_fram, pre_fram = eval(fram_table, fram_table.columns)"
      ],
      "execution_count": null,
      "outputs": []
    },
    {
      "cell_type": "code",
      "metadata": {
        "id": "QXds6mPTUxmg"
      },
      "source": [
        "print('Accuracy of Naive Bayes model : %.2f' %(acc_fram))"
      ],
      "execution_count": null,
      "outputs": []
    },
    {
      "cell_type": "markdown",
      "metadata": {
        "id": "pzPYB-_QQqeL"
      },
      "source": [
        "* b. Error rate"
      ]
    },
    {
      "cell_type": "code",
      "metadata": {
        "id": "-pdkPziIQsVT"
      },
      "source": [
        "print('Error rate of Naive Bayes model : %.2f' %(err_fram))"
      ],
      "execution_count": null,
      "outputs": []
    },
    {
      "cell_type": "markdown",
      "metadata": {
        "id": "baMtFD6ZVA0L"
      },
      "source": [
        "### 34\n",
        "* a. How often it correctly classifies dead persons"
      ]
    },
    {
      "cell_type": "code",
      "metadata": {
        "id": "zWun8JV2VTvr"
      },
      "source": [
        "print('Sensitivity of Naive Bayes model : %.2f' %(sen_fram))"
      ],
      "execution_count": null,
      "outputs": []
    },
    {
      "cell_type": "markdown",
      "metadata": {
        "id": "b2wz6AZMVOET"
      },
      "source": [
        "* b. How often it correctly classifies living persons"
      ]
    },
    {
      "cell_type": "code",
      "metadata": {
        "id": "2uFBUUXQVS2r"
      },
      "source": [
        "print('Recall of Naive Bayes model : %.2f' %(rec_fram))"
      ],
      "execution_count": null,
      "outputs": []
    },
    {
      "cell_type": "code",
      "metadata": {
        "id": "MQXZuG44XVo9"
      },
      "source": [
        ""
      ],
      "execution_count": null,
      "outputs": []
    }
  ]
}