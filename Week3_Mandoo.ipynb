{
 "cells": [
  {
   "cell_type": "markdown",
   "metadata": {},
   "source": [
    "# CH5 PREPARING TO MODEL THE DATA"
   ]
  },
  {
   "cell_type": "markdown",
   "metadata": {},
   "source": [
    "# 5.2.1 PARTITION DATA"
   ]
  },
  {
   "cell_type": "code",
   "execution_count": 246,
   "metadata": {},
   "outputs": [],
   "source": [
    "import pandas as pd\n",
    "from sklearn.model_selection import train_test_split\n",
    "import random\n",
    "\n",
    "bank = pd.read_csv(\"C:/Users/ronal/Python_Practice/DataSets/bank-additional.csv\", delimiter=';')"
   ]
  },
  {
   "cell_type": "code",
   "execution_count": 28,
   "metadata": {},
   "outputs": [],
   "source": [
    "bank_train, bank_test = train_test_split(bank, test_size=0.25, random_state=7)"
   ]
  },
  {
   "cell_type": "code",
   "execution_count": 37,
   "metadata": {},
   "outputs": [
    {
     "data": {
      "text/plain": [
       "no     2751\n",
       "yes     338\n",
       "Name: y, dtype: int64"
      ]
     },
     "execution_count": 37,
     "metadata": {},
     "output_type": "execute_result"
    }
   ],
   "source": [
    "bank_train['y'].value_counts()"
   ]
  },
  {
   "cell_type": "code",
   "execution_count": 39,
   "metadata": {},
   "outputs": [],
   "source": [
    "# we want to increase % of 'yes' to 30%"
   ]
  },
  {
   "cell_type": "code",
   "execution_count": 40,
   "metadata": {},
   "outputs": [],
   "source": [
    "# x = {0.3(3089)-338}/ 0.7 = 841"
   ]
  },
  {
   "cell_type": "code",
   "execution_count": 247,
   "metadata": {},
   "outputs": [
    {
     "data": {
      "text/plain": [
       "no     2751\n",
       "yes    1179\n",
       "Name: y, dtype: int64"
      ]
     },
     "execution_count": 247,
     "metadata": {},
     "output_type": "execute_result"
    }
   ],
   "source": [
    "to_resample = bank_train.loc[bank_train['y'] == 'yes']\n",
    "our_resample = to_resample.sample(n=841, replace=True)\n",
    "bank_train_rebal = pd.concat([bank_train, our_resample]) \n",
    "\n",
    "bank_train_rebal['y'].value_counts()"
   ]
  },
  {
   "cell_type": "markdown",
   "metadata": {},
   "source": [
    "# CH5 HANDS-ON ANALYSIS "
   ]
  },
  {
   "cell_type": "markdown",
   "metadata": {},
   "source": [
    "# 5.21\n",
    "Partition data set 50% training and 50% test, and confirm proportion by bar graph"
   ]
  },
  {
   "cell_type": "code",
   "execution_count": 103,
   "metadata": {},
   "outputs": [],
   "source": [
    "import pandas as pd\n",
    "adult = pd.read_csv(\"C:/Users/ronal/Python_Practice/DataSets/Adult\")"
   ]
  },
  {
   "cell_type": "code",
   "execution_count": 248,
   "metadata": {},
   "outputs": [],
   "source": [
    "from sklearn.model_selection import train_test_split\n",
    "import random\n",
    "\n",
    "adult_train, adult_test = train_test_split(adult, test_size=0.5, random_state=7)"
   ]
  },
  {
   "cell_type": "code",
   "execution_count": 249,
   "metadata": {},
   "outputs": [
    {
     "data": {
      "image/png": "[encoded data removed]",
      "text/plain": [
       "<Figure size 432x288 with 1 Axes>"
      ]
     },
     "metadata": {
      "needs_background": "light"
     },
     "output_type": "display_data"
    }
   ],
   "source": [
    "from matplotlib import pyplot as plt\n",
    "bar_21 = plt.subplot()\n",
    "bar_21.set_xticks([1,2])\n",
    "bar_21.set_xticklabels(['Train Set', 'Test Set'])\n",
    "plt.bar([1,2], [adult_train.shape[0], adult_test.shape[0]])\n",
    "plt.show()"
   ]
  },
  {
   "cell_type": "markdown",
   "metadata": {},
   "source": [
    "# 5.22\n",
    "Identify total number of records in training data set, how many records in training data set have income >50K? "
   ]
  },
  {
   "cell_type": "code",
   "execution_count": 70,
   "metadata": {},
   "outputs": [
    {
     "data": {
      "text/plain": [
       "(12500, 15)"
      ]
     },
     "execution_count": 70,
     "metadata": {},
     "output_type": "execute_result"
    }
   ],
   "source": [
    "adult_train.shape"
   ]
  },
  {
   "cell_type": "code",
   "execution_count": 80,
   "metadata": {},
   "outputs": [
    {
     "data": {
      "text/plain": [
       "2981"
      ]
     },
     "execution_count": 80,
     "metadata": {},
     "output_type": "execute_result"
    }
   ],
   "source": [
    "sum(adult_train['income'] == '>50K.')"
   ]
  },
  {
   "cell_type": "markdown",
   "metadata": {},
   "source": [
    "# 5.23\n",
    "how many records needed to resample to have 35% rebalanced data with >50K income"
   ]
  },
  {
   "cell_type": "code",
   "execution_count": 88,
   "metadata": {},
   "outputs": [
    {
     "data": {
      "text/plain": [
       "2145"
      ]
     },
     "execution_count": 88,
     "metadata": {},
     "output_type": "execute_result"
    }
   ],
   "source": [
    "x = (0.35*12500 - 2981) / (1-0.35)\n",
    "round(x)"
   ]
  },
  {
   "cell_type": "markdown",
   "metadata": {},
   "source": [
    "# 5.24\n",
    "Perform rebalancing data so that 35% of records have income >50K"
   ]
  },
  {
   "cell_type": "code",
   "execution_count": 250,
   "metadata": {},
   "outputs": [
    {
     "data": {
      "text/plain": [
       "<=50K.    9519\n",
       ">50K.     5126\n",
       "Name: income, dtype: int64"
      ]
     },
     "execution_count": 250,
     "metadata": {},
     "output_type": "execute_result"
    }
   ],
   "source": [
    "to_resample_24 = adult_train.loc[adult_train['income'] == '>50K.']\n",
    "our_resample_24 = to_resample_24.sample(n=2145, replace=True)\n",
    "adult_train_rebal = pd.concat([adult_train, our_resample_24]) \n",
    "\n",
    "adult_train_rebal['income'].value_counts()"
   ]
  },
  {
   "cell_type": "markdown",
   "metadata": {},
   "source": [
    "# 5.25  ????????????????????????????\n",
    "Which baseline model do we use to compare classification model performance against?\n",
    "To which value the baseline model assign all predictions? \n",
    "What is accuracy of the baseline model?"
   ]
  },
  {
   "cell_type": "code",
   "execution_count": 119,
   "metadata": {},
   "outputs": [],
   "source": [
    "# Baseline Model : All positive model and All negative model  ?????????????????????????????"
   ]
  },
  {
   "cell_type": "code",
   "execution_count": 120,
   "metadata": {},
   "outputs": [],
   "source": [
    "# All positive model assign all predictions as positive"
   ]
  },
  {
   "cell_type": "code",
   "execution_count": 123,
   "metadata": {},
   "outputs": [],
   "source": [
    "# Accuracy of all positive model is p = 0.35, accuracy of all negative model is p = 0.65"
   ]
  },
  {
   "cell_type": "markdown",
   "metadata": {},
   "source": [
    "# 5.26\n",
    "Validate partition by two-sample-Z-test for difference in age means between training and test set"
   ]
  },
  {
   "cell_type": "code",
   "execution_count": 180,
   "metadata": {},
   "outputs": [],
   "source": [
    "import pandas as pd\n",
    "import numpy as np"
   ]
  },
  {
   "cell_type": "code",
   "execution_count": 185,
   "metadata": {},
   "outputs": [],
   "source": [
    "# two sample mean Z-test (z-test when population std is known and Large sample size)"
   ]
  },
  {
   "cell_type": "code",
   "execution_count": 262,
   "metadata": {},
   "outputs": [
    {
     "data": {
      "text/plain": [
       "(0.03927422091172619, 0.9686717594866987)"
      ]
     },
     "execution_count": 262,
     "metadata": {},
     "output_type": "execute_result"
    }
   ],
   "source": [
    "from statsmodels.stats.weightstats import ztest\n",
    "ztest_26 = ztest(adult_train['age'], adult_test['age'], alternative='two-sided')\n",
    "ztest_26\n",
    "#Output : (zstat, pvalue)"
   ]
  },
  {
   "cell_type": "code",
   "execution_count": 259,
   "metadata": {},
   "outputs": [],
   "source": [
    "# two sample mean T-test (t-test when population std is unknown and Small sample size)"
   ]
  },
  {
   "cell_type": "code",
   "execution_count": 260,
   "metadata": {},
   "outputs": [
    {
     "data": {
      "text/plain": [
       "(0.03927422091172619, 0.9686720731145602, 24998.0)"
      ]
     },
     "execution_count": 260,
     "metadata": {},
     "output_type": "execute_result"
    }
   ],
   "source": [
    "from statsmodels.stats.weightstats import ttest_ind\n",
    "ttest_26 = ttest_ind(adult_train['age'], adult_test['age'], alternative='two-sided')\n",
    "ttest_26\n",
    "#Output : (tstat, pvalue, df)"
   ]
  },
  {
   "cell_type": "markdown",
   "metadata": {},
   "source": [
    "# 5.27\n",
    "Validate partition by two-sample-Z-test for difference in proportion of >50K between training and test."
   ]
  },
  {
   "cell_type": "code",
   "execution_count": 191,
   "metadata": {},
   "outputs": [],
   "source": [
    "# two sample proportion Z-test (z-test when population std is known and Large sample size)"
   ]
  },
  {
   "cell_type": "code",
   "execution_count": 243,
   "metadata": {},
   "outputs": [
    {
     "data": {
      "text/plain": [
       "(-0.32608987055319577, 0.7443563606617905)"
      ]
     },
     "execution_count": 243,
     "metadata": {},
     "output_type": "execute_result"
    }
   ],
   "source": [
    "from statsmodels.stats.proportion import proportions_ztest\n",
    "\n",
    "train_over50k, train_sample = (adult_train[adult_train['income']=='>50K.'].shape[0], adult_train.shape[0])\n",
    "test_over50k, test_sample = (adult_test[adult_test['income']=='>50K.'].shape[0], adult_test.shape[0])\n",
    "\n",
    "count = np.array([train_over50k, test_over50k])\n",
    "nobs = np.array([train_sample, test_sample])\n",
    "\n",
    "ztest_27 = proportions_ztest(count, nobs)\n",
    "ztest_27 "
   ]
  },
  {
   "cell_type": "code",
   "execution_count": 244,
   "metadata": {},
   "outputs": [
    {
     "name": "stdout",
     "output_type": "stream",
     "text": [
      "z_stat: -0.326, p_value: 0.744\n"
     ]
    }
   ],
   "source": [
    "stat, p_value = proportions_ztest(count, nobs, alternative='two-sided')\n",
    "print('z_stat: %0.3f, p_value: %0.3f' % (stat, p_value))"
   ]
  },
  {
   "cell_type": "code",
   "execution_count": 245,
   "metadata": {},
   "outputs": [
    {
     "name": "stdout",
     "output_type": "stream",
     "text": [
      "Fail to reject the null hypothesis - we have nothing else to say\n"
     ]
    }
   ],
   "source": [
    "significance = 0.025\n",
    "if p_value > significance:\n",
    "   print (\"Fail to reject the null hypothesis - we have nothing else to say\")\n",
    "else:\n",
    "   print (\"Reject the null hypothesis - suggest the alternative hypothesis is true\")"
   ]
  },
  {
   "cell_type": "markdown",
   "metadata": {},
   "source": [
    "# CH6 DECISION TREES"
   ]
  },
  {
   "cell_type": "markdown",
   "metadata": {},
   "source": [
    "# 6.2.1 Build CART Decision Trees"
   ]
  },
  {
   "cell_type": "code",
   "execution_count": 87,
   "metadata": {},
   "outputs": [],
   "source": [
    "import pandas as pd\n",
    "import numpy as np\n",
    "import statsmodels.tools.tools as stattools\n",
    "from sklearn.tree import DecisionTreeClassifier, export_graphviz\n",
    "#from sklearn.tree import *\n",
    "\n",
    "adult_tr = pd.read_csv(\"C:/Users/ronal/Python_Practice/DataSets/adult_ch6_training\")\n",
    "y = adult_tr[['Income']]"
   ]
  },
  {
   "cell_type": "code",
   "execution_count": 88,
   "metadata": {},
   "outputs": [
    {
     "name": "stderr",
     "output_type": "stream",
     "text": [
      "C:\\Users\\ronal\\anaconda3\\lib\\site-packages\\statsmodels\\tools\\tools.py:158: FutureWarning: categorical is deprecated. Use pandas Categorical to represent categorical data and can get_dummies to construct dummy arrays. It will be removed after release 0.13.\n",
      "  warnings.warn(\n"
     ]
    }
   ],
   "source": [
    "mar_np = np.array(adult_tr['Marital status'])\n",
    "(mar_cat, mar_cat_dict) = stattools.categorical(mar_np, drop=True, dictnames=True)"
   ]
  },
  {
   "cell_type": "code",
   "execution_count": 89,
   "metadata": {},
   "outputs": [],
   "source": [
    "mar_cat_pd = pd.DataFrame(mar_cat)\n",
    "X = pd.concat((adult_tr[['Cap_Gains_Losses']], mar_cat_pd), axis=1)\n",
    "\n",
    "X_names = ['Cap_Gains_Losses', 'Divorced', 'Married', 'Never-married', 'Separated', 'Widowed']\n",
    "y_names = ['<=50K', '>50K']\n",
    "\n",
    "cart01 = DecisionTreeClassifier(criterion = 'gini', max_leaf_nodes=5).fit(X,y)"
   ]
  },
  {
   "cell_type": "code",
   "execution_count": 90,
   "metadata": {},
   "outputs": [],
   "source": [
    "export_graphviz(cart01, out_file = 'C:/Users/ronal/Downloads/Python Practice/cart01.dot', \n",
    "                feature_names=X_names, class_names=y_names)"
   ]
  },
  {
   "cell_type": "code",
   "execution_count": 91,
   "metadata": {},
   "outputs": [
    {
     "data": {
      "text/html": [
       "<div>\n",
       "<style scoped>\n",
       "    .dataframe tbody tr th:only-of-type {\n",
       "        vertical-align: middle;\n",
       "    }\n",
       "\n",
       "    .dataframe tbody tr th {\n",
       "        vertical-align: top;\n",
       "    }\n",
       "\n",
       "    .dataframe thead th {\n",
       "        text-align: right;\n",
       "    }\n",
       "</style>\n",
       "<table border=\"1\" class=\"dataframe\">\n",
       "  <thead>\n",
       "    <tr style=\"text-align: right;\">\n",
       "      <th></th>\n",
       "      <th>0</th>\n",
       "    </tr>\n",
       "  </thead>\n",
       "  <tbody>\n",
       "    <tr>\n",
       "      <th>0</th>\n",
       "      <td>&lt;=50K</td>\n",
       "    </tr>\n",
       "    <tr>\n",
       "      <th>1</th>\n",
       "      <td>&lt;=50K</td>\n",
       "    </tr>\n",
       "    <tr>\n",
       "      <th>2</th>\n",
       "      <td>&lt;=50K</td>\n",
       "    </tr>\n",
       "    <tr>\n",
       "      <th>3</th>\n",
       "      <td>&lt;=50K</td>\n",
       "    </tr>\n",
       "    <tr>\n",
       "      <th>4</th>\n",
       "      <td>&lt;=50K</td>\n",
       "    </tr>\n",
       "    <tr>\n",
       "      <th>...</th>\n",
       "      <td>...</td>\n",
       "    </tr>\n",
       "    <tr>\n",
       "      <th>18756</th>\n",
       "      <td>&lt;=50K</td>\n",
       "    </tr>\n",
       "    <tr>\n",
       "      <th>18757</th>\n",
       "      <td>&lt;=50K</td>\n",
       "    </tr>\n",
       "    <tr>\n",
       "      <th>18758</th>\n",
       "      <td>&lt;=50K</td>\n",
       "    </tr>\n",
       "    <tr>\n",
       "      <th>18759</th>\n",
       "      <td>&lt;=50K</td>\n",
       "    </tr>\n",
       "    <tr>\n",
       "      <th>18760</th>\n",
       "      <td>&lt;=50K</td>\n",
       "    </tr>\n",
       "  </tbody>\n",
       "</table>\n",
       "<p>18761 rows × 1 columns</p>\n",
       "</div>"
      ],
      "text/plain": [
       "           0\n",
       "0      <=50K\n",
       "1      <=50K\n",
       "2      <=50K\n",
       "3      <=50K\n",
       "4      <=50K\n",
       "...      ...\n",
       "18756  <=50K\n",
       "18757  <=50K\n",
       "18758  <=50K\n",
       "18759  <=50K\n",
       "18760  <=50K\n",
       "\n",
       "[18761 rows x 1 columns]"
      ]
     },
     "execution_count": 91,
     "metadata": {},
     "output_type": "execute_result"
    }
   ],
   "source": [
    "predIncomeCART = cart01.predict(X)\n",
    "pd.DataFrame(predIncomeCART)"
   ]
  },
  {
   "cell_type": "code",
   "execution_count": 92,
   "metadata": {},
   "outputs": [
    {
     "data": {
      "text/plain": [
       "[Text(167.4, 190.26, 'X[2] <= 0.5\\ngini = 0.364\\nsamples = 18761\\nvalue = [14271, 4490]'),\n",
       " Text(83.7, 135.9, 'X[0] <= 0.047\\ngini = 0.119\\nsamples = 9891\\nvalue = [9260, 631]'),\n",
       " Text(41.85, 81.53999999999999, 'gini = 0.083\\nsamples = 9342\\nvalue = [8938, 404]'),\n",
       " Text(125.55000000000001, 81.53999999999999, 'X[0] <= 0.293\\ngini = 0.485\\nsamples = 549\\nvalue = [322, 227]'),\n",
       " Text(83.7, 27.180000000000007, 'gini = 0.411\\nsamples = 235\\nvalue = [68, 167]'),\n",
       " Text(167.4, 27.180000000000007, 'gini = 0.309\\nsamples = 314\\nvalue = [254, 60]'),\n",
       " Text(251.10000000000002, 135.9, 'X[0] <= 0.051\\ngini = 0.492\\nsamples = 8870\\nvalue = [5011, 3859]'),\n",
       " Text(209.25, 81.53999999999999, 'gini = 0.465\\nsamples = 7632\\nvalue = [4821, 2811]'),\n",
       " Text(292.95, 81.53999999999999, 'gini = 0.26\\nsamples = 1238\\nvalue = [190, 1048]')]"
      ]
     },
     "execution_count": 92,
     "metadata": {},
     "output_type": "execute_result"
    },
    {
     "data": {
      "image/png": "[encoded data removed]",
      "text/plain": [
       "<Figure size 432x288 with 1 Axes>"
      ]
     },
     "metadata": {
      "needs_background": "light"
     },
     "output_type": "display_data"
    }
   ],
   "source": [
    "plot_tree(cart01)"
   ]
  },
  {
   "cell_type": "markdown",
   "metadata": {},
   "source": [
    "# 6.3.1 Build C5.0 Decision Trees"
   ]
  },
  {
   "cell_type": "code",
   "execution_count": 338,
   "metadata": {},
   "outputs": [],
   "source": [
    "import pandas as pd\n",
    "import numpy as np\n",
    "import statsmodels.tools.tools as stattools\n",
    "from sklearn.tree import DecisionTreeClassifier, export_graphviz\n",
    "\n",
    "adult_tr = pd.read_csv(\"C:/Users/ronal/Python_Practice/DataSets/adult_ch6_training\")\n",
    "y = adult_tr[['Income']]"
   ]
  },
  {
   "cell_type": "code",
   "execution_count": 341,
   "metadata": {},
   "outputs": [],
   "source": [
    "mar_np = np.array(adult_tr['Marital status'])\n",
    "(mar_cat, mar_cat_dict) = stattools.categorical(mar_np, drop=True, dictnames=True)"
   ]
  },
  {
   "cell_type": "code",
   "execution_count": 345,
   "metadata": {},
   "outputs": [],
   "source": [
    "mar_cat_pd = pd.DataFrame(mar_cat)\n",
    "X = pd.concat((adult_tr[['Cap_Gains_Losses']], mar_cat_pd), axis=1)\n",
    "\n",
    "X_names = ['Cap_Gains_Losses', 'Divorced', 'Married', 'Never-married', 'Separated', 'Widowed']\n",
    "y_names = ['<=50K', '>50K']\n",
    "\n",
    "c50_01 = DecisionTreeClassifier(criterion='entropy', max_leaf_nodes=5).fit(X,y)"
   ]
  },
  {
   "cell_type": "code",
   "execution_count": 346,
   "metadata": {},
   "outputs": [],
   "source": [
    "export_graphviz(c50_01, out_file = 'C:/Users/ronal/Downloads/Python Practice/c50_01.dot', \n",
    "                feature_names=X_names, class_names=y_names)"
   ]
  },
  {
   "cell_type": "code",
   "execution_count": 348,
   "metadata": {},
   "outputs": [
    {
     "data": {
      "text/plain": [
       "array(['<=50K', '<=50K', '<=50K', ..., '<=50K', '<=50K', '<=50K'],\n",
       "      dtype=object)"
      ]
     },
     "execution_count": 348,
     "metadata": {},
     "output_type": "execute_result"
    }
   ],
   "source": [
    "c50_01.predict(X)"
   ]
  },
  {
   "cell_type": "markdown",
   "metadata": {},
   "source": [
    "# 6.4.1 Build Random Forests"
   ]
  },
  {
   "cell_type": "code",
   "execution_count": 352,
   "metadata": {},
   "outputs": [],
   "source": [
    "import pandas as pd\n",
    "import numpy as np\n",
    "import statsmodels.tools.tools as stattools\n",
    "from sklearn.tree import DecisionTreeClassifier, export_graphviz\n",
    "\n",
    "adult_tr = pd.read_csv(\"C:/Users/ronal/Python_Practice/DataSets/adult_ch6_training\")\n",
    "y = adult_tr[['Income']]"
   ]
  },
  {
   "cell_type": "code",
   "execution_count": 353,
   "metadata": {},
   "outputs": [],
   "source": [
    "mar_np = np.array(adult_tr['Marital status'])\n",
    "(mar_cat, mar_cat_dict) = stattools.categorical(mar_np, drop=True, dictnames=True)"
   ]
  },
  {
   "cell_type": "code",
   "execution_count": 354,
   "metadata": {},
   "outputs": [],
   "source": [
    "mar_cat_pd = pd.DataFrame(mar_cat)\n",
    "X = pd.concat((adult_tr[['Cap_Gains_Losses']], mar_cat_pd), axis=1)\n",
    "\n",
    "X_names = ['Cap_Gains_Losses', 'Divorced', 'Married', 'Never-married', 'Separated', 'Widowed']\n",
    "y_names = ['<=50K', '>50K']"
   ]
  },
  {
   "cell_type": "code",
   "execution_count": 364,
   "metadata": {},
   "outputs": [],
   "source": [
    "from sklearn.ensemble import RandomForestClassifier\n",
    "import numpy as np\n",
    "\n",
    "rfy = np.ravel(y)\n",
    "\n",
    "rf01 = RandomForestClassifier(n_estimators=100, criterion='gini').fit(X,rfy)"
   ]
  },
  {
   "cell_type": "code",
   "execution_count": 363,
   "metadata": {},
   "outputs": [
    {
     "data": {
      "text/plain": [
       "array(['<=50K', '<=50K', '<=50K', ..., '<=50K', '<=50K', '<=50K'],\n",
       "      dtype=object)"
      ]
     },
     "execution_count": 363,
     "metadata": {},
     "output_type": "execute_result"
    }
   ],
   "source": [
    "rf01.predict(X)"
   ]
  },
  {
   "cell_type": "markdown",
   "metadata": {},
   "source": [
    "# CH6 HANDS-ON ANALYSIS"
   ]
  },
  {
   "cell_type": "markdown",
   "metadata": {},
   "source": [
    "# 6.21\n",
    "Create CART model that predicts 'Approval' using 'Debt-to-Income Ratio', 'FICO Score', 'Request Amount', Visualize, Describe few splits"
   ]
  },
  {
   "cell_type": "code",
   "execution_count": 395,
   "metadata": {},
   "outputs": [],
   "source": [
    "import pandas as pd\n",
    "import numpy as np\n",
    "import statsmodels.tools.tools as stattools\n",
    "from sklearn.tree import DecisionTreeClassifier, export_graphviz\n",
    "\n",
    "loans = pd.read_csv(\"C:/Users/ronal/Python_Practice/DataSets/loans_training\")\n",
    "res = loans[['Approval']]\n",
    "pred = loans.drop(columns=['Approval','Interest'])"
   ]
  },
  {
   "cell_type": "code",
   "execution_count": 396,
   "metadata": {},
   "outputs": [],
   "source": [
    "pred_names = ['Debt-to-Income Ratio', 'FICO Score', 'Request Amount']\n",
    "res_names = ['T', 'F']\n",
    "\n",
    "cart_loans = DecisionTreeClassifier(criterion = 'gini', max_leaf_nodes=5).fit(pred,res)"
   ]
  },
  {
   "cell_type": "code",
   "execution_count": 430,
   "metadata": {},
   "outputs": [],
   "source": [
    "export_graphviz(cart_loans, out_file = 'C:/Users/ronal/Downloads/Python Practice/cart_loans.dot', \n",
    "                feature_names=pred_names, class_names=res_names)"
   ]
  },
  {
   "cell_type": "code",
   "execution_count": 435,
   "metadata": {},
   "outputs": [],
   "source": [
    "predApprovalCART = cart_loans.predict(pred)"
   ]
  },
  {
   "cell_type": "code",
   "execution_count": 432,
   "metadata": {},
   "outputs": [],
   "source": [
    "# Visualize"
   ]
  },
  {
   "cell_type": "code",
   "execution_count": 433,
   "metadata": {},
   "outputs": [
    {
     "data": {
      "text/plain": [
       "[Text(125.55000000000001, 190.26, 'X[1] <= 659.5\\ngini = 0.5\\nsamples = 150302\\nvalue = [75066, 75236]'),\n",
       " Text(83.7, 135.9, 'gini = 0.076\\nsamples = 46002\\nvalue = [44194, 1808]'),\n",
       " Text(167.4, 135.9, 'X[0] <= 0.305\\ngini = 0.417\\nsamples = 104300\\nvalue = [30872, 73428]'),\n",
       " Text(83.7, 81.53999999999999, 'X[2] <= 25500.0\\ngini = 0.338\\nsamples = 91427\\nvalue = [19678, 71749]'),\n",
       " Text(41.85, 27.180000000000007, 'gini = 0.308\\nsamples = 80599\\nvalue = [15331, 65268]'),\n",
       " Text(125.55000000000001, 27.180000000000007, 'gini = 0.481\\nsamples = 10828\\nvalue = [4347, 6481]'),\n",
       " Text(251.10000000000002, 81.53999999999999, 'X[0] <= 0.345\\ngini = 0.227\\nsamples = 12873\\nvalue = [11194, 1679]'),\n",
       " Text(209.25, 27.180000000000007, 'gini = 0.465\\nsamples = 4043\\nvalue = [2560, 1483]'),\n",
       " Text(292.95, 27.180000000000007, 'gini = 0.043\\nsamples = 8830\\nvalue = [8634, 196]')]"
      ]
     },
     "execution_count": 433,
     "metadata": {},
     "output_type": "execute_result"
    },
    {
     "data": {
      "image/png": "[encoded data removed]",
      "text/plain": [
       "<Figure size 432x288 with 1 Axes>"
      ]
     },
     "metadata": {
      "needs_background": "light"
     },
     "output_type": "display_data"
    }
   ],
   "source": [
    "plot_tree(cart_loans)"
   ]
  },
  {
   "cell_type": "code",
   "execution_count": 402,
   "metadata": {},
   "outputs": [],
   "source": [
    "# Describe"
   ]
  },
  {
   "cell_type": "markdown",
   "metadata": {},
   "source": [
    "# 6.22 ?????????????????????????????????\n",
    "Develop CART model using test data set, Visualize decision tree, Investigate splits, Does tree by test match tree by training? "
   ]
  },
  {
   "cell_type": "code",
   "execution_count": 436,
   "metadata": {},
   "outputs": [],
   "source": [
    "loans_test = pd.read_csv(\"C:/Users/ronal/Python_Practice/DataSets/loans_test\")\n",
    "res_test = loans_test[['Approval']]\n",
    "pred_test = loans_test.drop(columns=['Approval','Interest'])"
   ]
  },
  {
   "cell_type": "code",
   "execution_count": 437,
   "metadata": {},
   "outputs": [],
   "source": [
    "pred_names = ['Debt-to-Income Ratio', 'FICO Score', 'Request Amount']\n",
    "res_names = ['T', 'F']\n",
    "\n",
    "cart_loans_test = DecisionTreeClassifier(criterion = 'gini', max_leaf_nodes=5).fit(pred_test,res_test)"
   ]
  },
  {
   "cell_type": "code",
   "execution_count": 438,
   "metadata": {},
   "outputs": [],
   "source": [
    "export_graphviz(cart_loans_test, out_file = 'C:/Users/ronal/Downloads/Python Practice/cart_loans_test.dot', \n",
    "                feature_names=pred_names, class_names=res_names)"
   ]
  },
  {
   "cell_type": "code",
   "execution_count": 439,
   "metadata": {},
   "outputs": [],
   "source": [
    "predApprovalCART_test = cart_loans_test.predict(pred_test)"
   ]
  },
  {
   "cell_type": "code",
   "execution_count": 440,
   "metadata": {},
   "outputs": [
    {
     "data": {
      "text/plain": [
       "[Text(167.4, 190.26, 'X[1] <= 660.5\\ngini = 0.5\\nsamples = 49698\\nvalue = [24934, 24764]'),\n",
       " Text(83.7, 135.9, 'X[1] <= 651.5\\ngini = 0.09\\nsamples = 15481\\nvalue = [14754, 727]'),\n",
       " Text(41.85, 81.53999999999999, 'gini = 0.021\\nsamples = 13309\\nvalue = [13170, 139]'),\n",
       " Text(125.55000000000001, 81.53999999999999, 'gini = 0.395\\nsamples = 2172\\nvalue = [1584, 588]'),\n",
       " Text(251.10000000000002, 135.9, 'X[0] <= 0.305\\ngini = 0.418\\nsamples = 34217\\nvalue = [10180, 24037]'),\n",
       " Text(209.25, 81.53999999999999, 'X[2] <= 24500.0\\ngini = 0.339\\nsamples = 29978\\nvalue = [6488, 23490]'),\n",
       " Text(167.4, 27.180000000000007, 'gini = 0.303\\nsamples = 25911\\nvalue = [4821, 21090]'),\n",
       " Text(251.10000000000002, 27.180000000000007, 'gini = 0.484\\nsamples = 4067\\nvalue = [1667, 2400]'),\n",
       " Text(292.95, 81.53999999999999, 'gini = 0.225\\nsamples = 4239\\nvalue = [3692, 547]')]"
      ]
     },
     "execution_count": 440,
     "metadata": {},
     "output_type": "execute_result"
    },
    {
     "data": {
      "image/png": "[encoded data removed]",
      "text/plain": [
       "<Figure size 432x288 with 1 Axes>"
      ]
     },
     "metadata": {
      "needs_background": "light"
     },
     "output_type": "display_data"
    }
   ],
   "source": [
    "plot_tree(cart_loans_test)"
   ]
  },
  {
   "cell_type": "code",
   "execution_count": 441,
   "metadata": {},
   "outputs": [],
   "source": [
    "# Describe"
   ]
  },
  {
   "cell_type": "markdown",
   "metadata": {},
   "source": [
    "# 6.23\n",
    "Build C5.0 model that predicts 'Approval' using 'Debt-to-Income Ratio', 'FICO Score', 'Request Amount', Specify min 1000 cases per nodes, Visualize, Describe"
   ]
  },
  {
   "cell_type": "code",
   "execution_count": 11,
   "metadata": {},
   "outputs": [],
   "source": [
    "import pandas as pd\n",
    "import numpy as np\n",
    "import statsmodels.tools.tools as stattools\n",
    "#from sklearn.tree import DecisionTreeClassifier, export_graphviz\n",
    "from sklearn.tree import *\n",
    "\n",
    "loans = pd.read_csv(\"C:/Users/ronal/Python_Practice/DataSets/loans_training\")\n",
    "res = loans[['Approval']]\n",
    "pred = loans.drop(columns=['Approval','Interest'])"
   ]
  },
  {
   "cell_type": "code",
   "execution_count": 12,
   "metadata": {},
   "outputs": [],
   "source": [
    "pred_names = ['Debt-to-Income Ratio', 'FICO Score', 'Request Amount']\n",
    "res_names = ['T', 'F']\n",
    "\n",
    "c50_loans = DecisionTreeClassifier(criterion='entropy', max_leaf_nodes=5, min_samples_leaf = 1000).fit(pred,res)"
   ]
  },
  {
   "cell_type": "code",
   "execution_count": 13,
   "metadata": {},
   "outputs": [],
   "source": [
    "export_graphviz(c50_loans, out_file = 'C:/Users/ronal/Downloads/Python Practice/c50_loans.dot', \n",
    "                feature_names=pred_names, class_names=res_names)"
   ]
  },
  {
   "cell_type": "code",
   "execution_count": 14,
   "metadata": {},
   "outputs": [],
   "source": [
    "predApprovalC50 = c50_loans.predict(pred)"
   ]
  },
  {
   "cell_type": "code",
   "execution_count": 15,
   "metadata": {},
   "outputs": [
    {
     "data": {
      "text/plain": [
       "[Text(167.4, 190.26, 'X[1] <= 656.5\\nentropy = 1.0\\nsamples = 150302\\nvalue = [75066, 75236]'),\n",
       " Text(83.7, 135.9, 'X[1] <= 644.5\\nentropy = 0.168\\nsamples = 43749\\nvalue = [42659, 1090]'),\n",
       " Text(41.85, 81.53999999999999, 'entropy = 0.025\\nsamples = 36483\\nvalue = [36394, 89]'),\n",
       " Text(125.55000000000001, 81.53999999999999, 'entropy = 0.578\\nsamples = 7266\\nvalue = [6265, 1001]'),\n",
       " Text(251.10000000000002, 135.9, 'X[0] <= 0.315\\nentropy = 0.886\\nsamples = 106553\\nvalue = [32407, 74146]'),\n",
       " Text(209.25, 81.53999999999999, 'X[1] <= 669.5\\nentropy = 0.773\\nsamples = 94476\\nvalue = [21477, 72999]'),\n",
       " Text(167.4, 27.180000000000007, 'entropy = 0.991\\nsamples = 10089\\nvalue = [4489, 5600]'),\n",
       " Text(251.10000000000002, 27.180000000000007, 'entropy = 0.725\\nsamples = 84387\\nvalue = [16988, 67399]'),\n",
       " Text(292.95, 81.53999999999999, 'entropy = 0.453\\nsamples = 12077\\nvalue = [10930, 1147]')]"
      ]
     },
     "execution_count": 15,
     "metadata": {},
     "output_type": "execute_result"
    },
    {
     "data": {
      "image/png": "[encoded data removed]",
      "text/plain": [
       "<Figure size 432x288 with 1 Axes>"
      ]
     },
     "metadata": {
      "needs_background": "light"
     },
     "output_type": "display_data"
    }
   ],
   "source": [
    "plot_tree(c50_loans)"
   ]
  },
  {
   "cell_type": "code",
   "execution_count": 16,
   "metadata": {},
   "outputs": [],
   "source": [
    "# Describe"
   ]
  },
  {
   "cell_type": "markdown",
   "metadata": {},
   "source": [
    "# 6.24\n",
    "Describe similarities and difference between CART model and C50 model"
   ]
  },
  {
   "cell_type": "code",
   "execution_count": 17,
   "metadata": {},
   "outputs": [],
   "source": [
    "#"
   ]
  },
  {
   "cell_type": "markdown",
   "metadata": {},
   "source": [
    "# 6.25 ????????????????????\n",
    "Create C50 model using test data set, Visualize, Match with training set"
   ]
  },
  {
   "cell_type": "code",
   "execution_count": 18,
   "metadata": {},
   "outputs": [],
   "source": [
    "loans_test = pd.read_csv(\"C:/Users/ronal/Python_Practice/DataSets/loans_test\")\n",
    "res_test = loans_test[['Approval']]\n",
    "pred_test = loans_test.drop(columns=['Approval','Interest'])"
   ]
  },
  {
   "cell_type": "code",
   "execution_count": 19,
   "metadata": {},
   "outputs": [],
   "source": [
    "pred_names = ['Debt-to-Income Ratio', 'FICO Score', 'Request Amount']\n",
    "res_names = ['T', 'F']\n",
    "\n",
    "c50_loans_test = DecisionTreeClassifier(criterion = 'entropy', max_leaf_nodes=5, min_samples_leaf=1000).fit(pred_test,res_test)"
   ]
  },
  {
   "cell_type": "code",
   "execution_count": 20,
   "metadata": {},
   "outputs": [],
   "source": [
    "export_graphviz(c50_loans_test, out_file = 'C:/Users/ronal/Downloads/Python Practice/c50_loans_test.dot', \n",
    "                feature_names=pred_names, class_names=res_names)"
   ]
  },
  {
   "cell_type": "code",
   "execution_count": 21,
   "metadata": {},
   "outputs": [],
   "source": [
    "predApprovalC50_test = c50_loans_test.predict(pred_test)"
   ]
  },
  {
   "cell_type": "code",
   "execution_count": 22,
   "metadata": {},
   "outputs": [
    {
     "data": {
      "text/plain": [
       "[Text(167.4, 195.696, 'X[1] <= 655.5\\nentropy = 1.0\\nsamples = 49698\\nvalue = [24934, 24764]'),\n",
       " Text(111.60000000000001, 152.208, 'entropy = 0.152\\nsamples = 14182\\nvalue = [13871, 311]'),\n",
       " Text(223.20000000000002, 152.208, 'X[0] <= 0.335\\nentropy = 0.895\\nsamples = 35516\\nvalue = [11063, 24453]'),\n",
       " Text(167.4, 108.72, 'X[0] <= 0.265\\nentropy = 0.801\\nsamples = 32137\\nvalue = [7820, 24317]'),\n",
       " Text(111.60000000000001, 65.232, 'X[1] <= 666.5\\nentropy = 0.744\\nsamples = 28840\\nvalue = [6088, 22752]'),\n",
       " Text(55.800000000000004, 21.744, 'entropy = 1.0\\nsamples = 2320\\nvalue = [1150, 1170]'),\n",
       " Text(167.4, 21.744, 'entropy = 0.693\\nsamples = 26520\\nvalue = [4938, 21582]'),\n",
       " Text(223.20000000000002, 65.232, 'entropy = 0.998\\nsamples = 3297\\nvalue = [1732, 1565]'),\n",
       " Text(279.0, 108.72, 'entropy = 0.243\\nsamples = 3379\\nvalue = [3243, 136]')]"
      ]
     },
     "execution_count": 22,
     "metadata": {},
     "output_type": "execute_result"
    },
    {
     "data": {
      "image/png": "[encoded data removed]",
      "text/plain": [
       "<Figure size 432x288 with 1 Axes>"
      ]
     },
     "metadata": {
      "needs_background": "light"
     },
     "output_type": "display_data"
    }
   ],
   "source": [
    "plot_tree(c50_loans_test)"
   ]
  },
  {
   "cell_type": "code",
   "execution_count": 23,
   "metadata": {},
   "outputs": [],
   "source": [
    "# Describe"
   ]
  },
  {
   "cell_type": "markdown",
   "metadata": {},
   "source": [
    "# 6.26\n",
    "Obtain predicted value of 'Approval' using Random Forest on TRAINING set with same variables"
   ]
  },
  {
   "cell_type": "code",
   "execution_count": 24,
   "metadata": {},
   "outputs": [],
   "source": [
    "import pandas as pd\n",
    "import numpy as np\n",
    "import statsmodels.tools.tools as stattools\n",
    "#from sklearn.tree import DecisionTreeClassifier, export_graphviz\n",
    "from sklearn.tree import *\n",
    "\n",
    "loans = pd.read_csv(\"C:/Users/ronal/Python_Practice/DataSets/loans_training\")\n",
    "res = loans[['Approval']]\n",
    "pred = loans.drop(columns=['Approval','Interest'])"
   ]
  },
  {
   "cell_type": "code",
   "execution_count": 25,
   "metadata": {},
   "outputs": [],
   "source": [
    "pred_names = ['Debt-to-Income Ratio', 'FICO Score', 'Request Amount']\n",
    "res_names = ['T', 'F']"
   ]
  },
  {
   "cell_type": "code",
   "execution_count": 26,
   "metadata": {},
   "outputs": [],
   "source": [
    "from sklearn.ensemble import RandomForestClassifier\n",
    "import numpy as np\n",
    "\n",
    "rf_res = np.ravel(res)\n",
    "\n",
    "rf_26 = RandomForestClassifier(n_estimators=100, criterion='gini').fit(pred,rf_res)"
   ]
  },
  {
   "cell_type": "code",
   "execution_count": 27,
   "metadata": {},
   "outputs": [
    {
     "data": {
      "text/plain": [
       "array(['F', 'F', 'F', ..., 'T', 'T', 'T'], dtype=object)"
      ]
     },
     "execution_count": 27,
     "metadata": {},
     "output_type": "execute_result"
    }
   ],
   "source": [
    "rf_26.predict(pred)"
   ]
  },
  {
   "cell_type": "markdown",
   "metadata": {},
   "source": [
    "# 6.27  ??????????????????\n",
    "Obtain predicted value of 'Approval' using Random Forest on TEST set with same variables, Build a table comparing between training and test"
   ]
  },
  {
   "cell_type": "code",
   "execution_count": 28,
   "metadata": {},
   "outputs": [],
   "source": [
    "import pandas as pd\n",
    "import numpy as np\n",
    "import statsmodels.tools.tools as stattools\n",
    "#from sklearn.tree import DecisionTreeClassifier, export_graphviz\n",
    "from sklearn.tree import *\n",
    "\n",
    "loans_test = pd.read_csv(\"C:/Users/ronal/Python_Practice/DataSets/loans_test\")\n",
    "res_test = loans_test[['Approval']]\n",
    "pred_test = loans_test.drop(columns=['Approval','Interest'])"
   ]
  },
  {
   "cell_type": "code",
   "execution_count": 29,
   "metadata": {},
   "outputs": [],
   "source": [
    "pred_names = ['Debt-to-Income Ratio', 'FICO Score', 'Request Amount']\n",
    "res_names = ['T', 'F']"
   ]
  },
  {
   "cell_type": "code",
   "execution_count": 30,
   "metadata": {},
   "outputs": [],
   "source": [
    "from sklearn.ensemble import RandomForestClassifier\n",
    "import numpy as np\n",
    "\n",
    "rf_res_test = np.ravel(res_test)\n",
    "\n",
    "rf_26_test = RandomForestClassifier(n_estimators=100, criterion='gini').fit(pred_test,rf_res_test)"
   ]
  },
  {
   "cell_type": "code",
   "execution_count": 31,
   "metadata": {},
   "outputs": [
    {
     "data": {
      "text/plain": [
       "array(['F', 'F', 'F', ..., 'T', 'T', 'T'], dtype=object)"
      ]
     },
     "execution_count": 31,
     "metadata": {},
     "output_type": "execute_result"
    }
   ],
   "source": [
    "rf_26_test.predict(pred_test)"
   ]
  },
  {
   "cell_type": "code",
   "execution_count": 35,
   "metadata": {},
   "outputs": [],
   "source": [
    "# how to compare???"
   ]
  },
  {
   "cell_type": "code",
   "execution_count": 36,
   "metadata": {},
   "outputs": [
    {
     "data": {
      "text/plain": [
       "(49698, 1)"
      ]
     },
     "execution_count": 36,
     "metadata": {},
     "output_type": "execute_result"
    }
   ],
   "source": [
    "compare_tr = pd.DataFrame(rf_26.predict(pred))\n",
    "compare_te = pd.DataFrame(rf_26_test.predict(pred_test))\n",
    "\n",
    "#compare_tr.shape\n",
    "compare_te.shape\n",
    "#pd.concat((compare_tr, compare_te), axis=1) XXXXXXXXXXXXX"
   ]
  },
  {
   "cell_type": "markdown",
   "metadata": {},
   "source": [
    "# 6.28\n",
    "Create CART model using training that predict 'Response' with predictors that I CHOOSE, Visualize Decision Tree, Describe"
   ]
  },
  {
   "cell_type": "code",
   "execution_count": 124,
   "metadata": {},
   "outputs": [],
   "source": [
    "import pandas as pd\n",
    "import numpy as np\n",
    "import statsmodels.tools.tools as stattools\n",
    "from sklearn.tree import *\n",
    "\n",
    "bank_train = pd.read_csv(\"C:/Users/ronal/Python_Practice/DataSets/bank_marketing_training\")\n",
    "\n",
    "res_tr = bank_train[['response']]\n",
    "pred_tr = bank_train[['age', 'job','marital','education']]"
   ]
  },
  {
   "cell_type": "code",
   "execution_count": 125,
   "metadata": {},
   "outputs": [
    {
     "name": "stderr",
     "output_type": "stream",
     "text": [
      "C:\\Users\\ronal\\anaconda3\\lib\\site-packages\\statsmodels\\tools\\tools.py:158: FutureWarning: categorical is deprecated. Use pandas Categorical to represent categorical data and can get_dummies to construct dummy arrays. It will be removed after release 0.13.\n",
      "  warnings.warn(\n"
     ]
    }
   ],
   "source": [
    "np_job = np.array(bank_train['job'])\n",
    "(cat_job, cat_dict_job) = stattools.categorical(np_job, drop=True, dictnames=True)\n",
    "\n",
    "np_mar = np.array(bank_train['marital'])\n",
    "(cat_mar, cat_dict_mar) = stattools.categorical(np_mar, drop=True, dictnames=True)\n",
    "\n",
    "np_edu = np.array(bank_train['education'])\n",
    "(cat_edu, cat_dict_edu) = stattools.categorical(np_edu, drop=True, dictnames=True)"
   ]
  },
  {
   "cell_type": "code",
   "execution_count": 153,
   "metadata": {},
   "outputs": [],
   "source": [
    "pd_job_cat = pd.DataFrame(cat_job)\n",
    "pd_mar_cat = pd.DataFrame(cat_mar)\n",
    "pd_edu_cat = pd.DataFrame(cat_edu)\n",
    "\n",
    "pred_tr_final = pd.concat((pred_tr['age'], pd_job_cat, pd_mar_cat, pd_edu_cat), axis=1)"
   ]
  },
  {
   "cell_type": "code",
   "execution_count": 156,
   "metadata": {},
   "outputs": [],
   "source": [
    "#bank_x_names\n",
    "#bank_y_names\n",
    "\n",
    "job_names = list(set(bank_train['job']))\n",
    "mar_names = list(set(bank_train['marital']))\n",
    "edu_names = list(set(bank_train['education']))\n",
    "\n",
    "bank_x_names = ['age']\n",
    "for i in job_names:\n",
    "    bank_x_names.append(i)\n",
    "for j in mar_names:\n",
    "    bank_x_names.append(j)\n",
    "for k in edu_names:\n",
    "    bank_x_names.append(k)\n",
    "\n",
    "bank_y_names = ['yes', 'no']"
   ]
  },
  {
   "cell_type": "code",
   "execution_count": 157,
   "metadata": {},
   "outputs": [],
   "source": [
    "#CART model\n",
    "\n",
    "cart_bank = DecisionTreeClassifier(criterion = 'gini', max_leaf_nodes=5).fit(pred_tr_final,res_tr)"
   ]
  },
  {
   "cell_type": "code",
   "execution_count": 158,
   "metadata": {},
   "outputs": [],
   "source": [
    "export_graphviz(cart_bank, out_file = 'C:/Users/ronal/Downloads/Python Practice/cart_bank.dot', \n",
    "                feature_names=bank_x_names, class_names=bank_y_names)"
   ]
  },
  {
   "cell_type": "code",
   "execution_count": 163,
   "metadata": {},
   "outputs": [],
   "source": [
    "predResponseCART = cart_bank.predict(pred_tr_final)"
   ]
  },
  {
   "cell_type": "code",
   "execution_count": 162,
   "metadata": {},
   "outputs": [
    {
     "data": {
      "text/plain": [
       "[Text(223.20000000000002, 195.696, 'X[0] <= 60.5\\ngini = 0.198\\nsamples = 26874\\nvalue = [23886, 2988]'),\n",
       " Text(167.4, 152.208, 'X[9] <= 0.5\\ngini = 0.186\\nsamples = 26291\\nvalue = [23570, 2721]'),\n",
       " Text(111.60000000000001, 108.72, 'X[23] <= 0.5\\ngini = 0.177\\nsamples = 25693\\nvalue = [23166, 2527]'),\n",
       " Text(55.800000000000004, 65.232, 'gini = 0.155\\nsamples = 17983\\nvalue = [16457, 1526]'),\n",
       " Text(167.4, 65.232, 'X[0] <= 28.5\\ngini = 0.226\\nsamples = 7710\\nvalue = [6709, 1001]'),\n",
       " Text(111.60000000000001, 21.744, 'gini = 0.348\\nsamples = 602\\nvalue = [467, 135]'),\n",
       " Text(223.20000000000002, 21.744, 'gini = 0.214\\nsamples = 7108\\nvalue = [6242, 866]'),\n",
       " Text(223.20000000000002, 108.72, 'gini = 0.438\\nsamples = 598\\nvalue = [404, 194]'),\n",
       " Text(279.0, 152.208, 'gini = 0.496\\nsamples = 583\\nvalue = [316, 267]')]"
      ]
     },
     "execution_count": 162,
     "metadata": {},
     "output_type": "execute_result"
    },
    {
     "data": {
      "image/png": "[encoded data removed]",
      "text/plain": [
       "<Figure size 432x288 with 1 Axes>"
      ]
     },
     "metadata": {
      "needs_background": "light"
     },
     "output_type": "display_data"
    }
   ],
   "source": [
    "plot_tree(cart_bank)"
   ]
  },
  {
   "cell_type": "markdown",
   "metadata": {},
   "source": [
    "# 6.29\n",
    "Develop CART model using TEST set, Visualize, Describe, Does it match tree with training and with test set?"
   ]
  },
  {
   "cell_type": "code",
   "execution_count": 164,
   "metadata": {},
   "outputs": [],
   "source": [
    "import pandas as pd\n",
    "import numpy as np\n",
    "import statsmodels.tools.tools as stattools\n",
    "from sklearn.tree import *\n",
    "\n",
    "bank_test = pd.read_csv(\"C:/Users/ronal/Python_Practice/DataSets/bank_marketing_test\")\n",
    "\n",
    "res_te = bank_test[['response']]\n",
    "pred_te = bank_test[['age', 'job','marital','education']]"
   ]
  },
  {
   "cell_type": "code",
   "execution_count": 165,
   "metadata": {},
   "outputs": [
    {
     "name": "stderr",
     "output_type": "stream",
     "text": [
      "C:\\Users\\ronal\\anaconda3\\lib\\site-packages\\statsmodels\\tools\\tools.py:158: FutureWarning: categorical is deprecated. Use pandas Categorical to represent categorical data and can get_dummies to construct dummy arrays. It will be removed after release 0.13.\n",
      "  warnings.warn(\n"
     ]
    }
   ],
   "source": [
    "np_job_te = np.array(bank_test['job'])\n",
    "(cat_job_te, cat_dict_job_te) = stattools.categorical(np_job_te, drop=True, dictnames=True)\n",
    "\n",
    "np_mar_te = np.array(bank_test['marital'])\n",
    "(cat_mar_te, cat_dict_mar_te) = stattools.categorical(np_mar_te, drop=True, dictnames=True)\n",
    "\n",
    "np_edu_te = np.array(bank_test['education'])\n",
    "(cat_edu_te, cat_dict_edu_te) = stattools.categorical(np_edu_te, drop=True, dictnames=True)"
   ]
  },
  {
   "cell_type": "code",
   "execution_count": 166,
   "metadata": {},
   "outputs": [],
   "source": [
    "pd_job_cat_te = pd.DataFrame(cat_job_te)\n",
    "pd_mar_cat_te = pd.DataFrame(cat_mar_te)\n",
    "pd_edu_cat_te = pd.DataFrame(cat_edu_te)\n",
    "\n",
    "pred_te_final = pd.concat((pred_te['age'], pd_job_cat_te, pd_mar_cat_te, pd_edu_cat_te), axis=1)"
   ]
  },
  {
   "cell_type": "code",
   "execution_count": 167,
   "metadata": {},
   "outputs": [],
   "source": [
    "#bank_x_names\n",
    "#bank_y_names\n",
    "\n",
    "job_names_te = list(set(bank_test['job']))\n",
    "mar_names_te = list(set(bank_test['marital']))\n",
    "edu_names_te = list(set(bank_test['education']))\n",
    "\n",
    "bank_x_names_te = ['age']\n",
    "for i in job_names_te:\n",
    "    bank_x_names_te.append(i)\n",
    "for j in mar_names_te:\n",
    "    bank_x_names_te.append(j)\n",
    "for k in edu_names_te:\n",
    "    bank_x_names_te.append(k)\n",
    "\n",
    "bank_y_names_te = ['yes', 'no']"
   ]
  },
  {
   "cell_type": "code",
   "execution_count": 169,
   "metadata": {},
   "outputs": [],
   "source": [
    "#CART model\n",
    "\n",
    "cart_bank_te = DecisionTreeClassifier(criterion = 'gini', max_leaf_nodes=5).fit(pred_te_final,res_te)"
   ]
  },
  {
   "cell_type": "code",
   "execution_count": 170,
   "metadata": {},
   "outputs": [],
   "source": [
    "export_graphviz(cart_bank_te, out_file = 'C:/Users/ronal/Downloads/Python Practice/cart_bank_te.dot', \n",
    "                feature_names=bank_x_names_te, class_names=bank_y_names_te)"
   ]
  },
  {
   "cell_type": "code",
   "execution_count": 171,
   "metadata": {},
   "outputs": [],
   "source": [
    "predResponseCART_te = cart_bank_te.predict(pred_te_final)"
   ]
  },
  {
   "cell_type": "code",
   "execution_count": 172,
   "metadata": {},
   "outputs": [
    {
     "data": {
      "text/plain": [
       "[Text(223.20000000000002, 195.696, 'X[0] <= 60.5\\ngini = 0.198\\nsamples = 26874\\nvalue = [23886, 2988]'),\n",
       " Text(167.4, 152.208, 'X[9] <= 0.5\\ngini = 0.186\\nsamples = 26291\\nvalue = [23570, 2721]'),\n",
       " Text(111.60000000000001, 108.72, 'X[23] <= 0.5\\ngini = 0.177\\nsamples = 25693\\nvalue = [23166, 2527]'),\n",
       " Text(55.800000000000004, 65.232, 'gini = 0.155\\nsamples = 17983\\nvalue = [16457, 1526]'),\n",
       " Text(167.4, 65.232, 'X[0] <= 28.5\\ngini = 0.226\\nsamples = 7710\\nvalue = [6709, 1001]'),\n",
       " Text(111.60000000000001, 21.744, 'gini = 0.348\\nsamples = 602\\nvalue = [467, 135]'),\n",
       " Text(223.20000000000002, 21.744, 'gini = 0.214\\nsamples = 7108\\nvalue = [6242, 866]'),\n",
       " Text(223.20000000000002, 108.72, 'gini = 0.438\\nsamples = 598\\nvalue = [404, 194]'),\n",
       " Text(279.0, 152.208, 'gini = 0.496\\nsamples = 583\\nvalue = [316, 267]')]"
      ]
     },
     "execution_count": 172,
     "metadata": {},
     "output_type": "execute_result"
    },
    {
     "data": {
      "image/png": "[encoded data removed]",
      "text/plain": [
       "<Figure size 432x288 with 1 Axes>"
      ]
     },
     "metadata": {
      "needs_background": "light"
     },
     "output_type": "display_data"
    }
   ],
   "source": [
    "plot_tree(cart_bank_te)"
   ]
  },
  {
   "cell_type": "markdown",
   "metadata": {},
   "source": [
    "# 6.30\n",
    "Build C5.0 model using training set that predicts 'Response' with same variables, Specify min 1000 per node, Visualize, Describe"
   ]
  },
  {
   "cell_type": "code",
   "execution_count": 173,
   "metadata": {},
   "outputs": [],
   "source": [
    "import pandas as pd\n",
    "import numpy as np\n",
    "import statsmodels.tools.tools as stattools\n",
    "from sklearn.tree import *\n",
    "\n",
    "bank_train = pd.read_csv(\"C:/Users/ronal/Python_Practice/DataSets/bank_marketing_training\")\n",
    "\n",
    "res_tr = bank_train[['response']]\n",
    "pred_tr = bank_train[['age', 'job','marital','education']]"
   ]
  },
  {
   "cell_type": "code",
   "execution_count": 174,
   "metadata": {},
   "outputs": [
    {
     "name": "stderr",
     "output_type": "stream",
     "text": [
      "C:\\Users\\ronal\\anaconda3\\lib\\site-packages\\statsmodels\\tools\\tools.py:158: FutureWarning: categorical is deprecated. Use pandas Categorical to represent categorical data and can get_dummies to construct dummy arrays. It will be removed after release 0.13.\n",
      "  warnings.warn(\n"
     ]
    }
   ],
   "source": [
    "np_job = np.array(bank_train['job'])\n",
    "(cat_job, cat_dict_job) = stattools.categorical(np_job, drop=True, dictnames=True)\n",
    "\n",
    "np_mar = np.array(bank_train['marital'])\n",
    "(cat_mar, cat_dict_mar) = stattools.categorical(np_mar, drop=True, dictnames=True)\n",
    "\n",
    "np_edu = np.array(bank_train['education'])\n",
    "(cat_edu, cat_dict_edu) = stattools.categorical(np_edu, drop=True, dictnames=True)"
   ]
  },
  {
   "cell_type": "code",
   "execution_count": 176,
   "metadata": {},
   "outputs": [],
   "source": [
    "pd_job_cat = pd.DataFrame(cat_job)\n",
    "pd_mar_cat = pd.DataFrame(cat_mar)\n",
    "pd_edu_cat = pd.DataFrame(cat_edu)\n",
    "\n",
    "pred_tr_final = pd.concat((pred_tr['age'], pd_job_cat, pd_mar_cat, pd_edu_cat), axis=1)"
   ]
  },
  {
   "cell_type": "code",
   "execution_count": 177,
   "metadata": {},
   "outputs": [],
   "source": [
    "#bank_x_names\n",
    "#bank_y_names\n",
    "\n",
    "job_names = list(set(bank_train['job']))\n",
    "mar_names = list(set(bank_train['marital']))\n",
    "edu_names = list(set(bank_train['education']))\n",
    "\n",
    "bank_x_names = ['age']\n",
    "for i in job_names:\n",
    "    bank_x_names.append(i)\n",
    "for j in mar_names:\n",
    "    bank_x_names.append(j)\n",
    "for k in edu_names:\n",
    "    bank_x_names.append(k)\n",
    "\n",
    "bank_y_names = ['yes', 'no']"
   ]
  },
  {
   "cell_type": "code",
   "execution_count": 178,
   "metadata": {},
   "outputs": [],
   "source": [
    "c50_bank = DecisionTreeClassifier(criterion='entropy', max_leaf_nodes=5, min_samples_leaf = 1000).fit(pred_tr_final,res_tr)"
   ]
  },
  {
   "cell_type": "code",
   "execution_count": 179,
   "metadata": {},
   "outputs": [],
   "source": [
    "export_graphviz(c50_bank, out_file = 'C:/Users/ronal/Downloads/Python Practice/c50_bank.dot', \n",
    "                feature_names=bank_x_names, class_names=bank_y_names)"
   ]
  },
  {
   "cell_type": "code",
   "execution_count": 180,
   "metadata": {},
   "outputs": [],
   "source": [
    "predResponseC50 = c50_bank.predict(pred_tr_final)"
   ]
  },
  {
   "cell_type": "code",
   "execution_count": 181,
   "metadata": {},
   "outputs": [
    {
     "data": {
      "text/plain": [
       "[Text(200.88000000000002, 195.696, 'X[0] <= 58.5\\nentropy = 0.503\\nsamples = 26874\\nvalue = [23886, 2988]'),\n",
       " Text(133.92000000000002, 152.208, 'X[0] <= 28.5\\nentropy = 0.477\\nsamples = 25820\\nvalue = [23176, 2644]'),\n",
       " Text(66.96000000000001, 108.72, 'entropy = 0.673\\nsamples = 2794\\nvalue = [2300, 494]'),\n",
       " Text(200.88000000000002, 108.72, 'X[23] <= 0.5\\nentropy = 0.448\\nsamples = 23026\\nvalue = [20876, 2150]'),\n",
       " Text(133.92000000000002, 65.232, 'X[2] <= 0.5\\nentropy = 0.404\\nsamples = 15986\\nvalue = [14697, 1289]'),\n",
       " Text(66.96000000000001, 21.744, 'entropy = 0.431\\nsamples = 10672\\nvalue = [9730, 942]'),\n",
       " Text(200.88000000000002, 21.744, 'entropy = 0.348\\nsamples = 5314\\nvalue = [4967, 347]'),\n",
       " Text(267.84000000000003, 65.232, 'entropy = 0.536\\nsamples = 7040\\nvalue = [6179, 861]'),\n",
       " Text(267.84000000000003, 152.208, 'entropy = 0.911\\nsamples = 1054\\nvalue = [710, 344]')]"
      ]
     },
     "execution_count": 181,
     "metadata": {},
     "output_type": "execute_result"
    },
    {
     "data": {
      "image/png": "[encoded data removed]",
      "text/plain": [
       "<Figure size 432x288 with 1 Axes>"
      ]
     },
     "metadata": {
      "needs_background": "light"
     },
     "output_type": "display_data"
    }
   ],
   "source": [
    "plot_tree(c50_bank)"
   ]
  },
  {
   "cell_type": "code",
   "execution_count": 182,
   "metadata": {},
   "outputs": [],
   "source": [
    "# Describe"
   ]
  },
  {
   "cell_type": "markdown",
   "metadata": {},
   "source": [
    "# 6.31 ??????????????\n",
    "Describe similarities and difference between CART model and C5.0 model"
   ]
  },
  {
   "cell_type": "code",
   "execution_count": null,
   "metadata": {},
   "outputs": [],
   "source": []
  },
  {
   "cell_type": "markdown",
   "metadata": {},
   "source": [
    "# 6.32\n",
    "Create C5.0 model using TEST set, Visualize, Does it match tree with training and with test set?"
   ]
  },
  {
   "cell_type": "code",
   "execution_count": 183,
   "metadata": {},
   "outputs": [],
   "source": [
    "import pandas as pd\n",
    "import numpy as np\n",
    "import statsmodels.tools.tools as stattools\n",
    "from sklearn.tree import *\n",
    "\n",
    "bank_test = pd.read_csv(\"C:/Users/ronal/Python_Practice/DataSets/bank_marketing_test\")\n",
    "\n",
    "res_tr = bank_test[['response']]\n",
    "pred_tr = bank_test[['age', 'job','marital','education']]"
   ]
  },
  {
   "cell_type": "code",
   "execution_count": 184,
   "metadata": {},
   "outputs": [
    {
     "name": "stderr",
     "output_type": "stream",
     "text": [
      "C:\\Users\\ronal\\anaconda3\\lib\\site-packages\\statsmodels\\tools\\tools.py:158: FutureWarning: categorical is deprecated. Use pandas Categorical to represent categorical data and can get_dummies to construct dummy arrays. It will be removed after release 0.13.\n",
      "  warnings.warn(\n"
     ]
    }
   ],
   "source": [
    "np_job_te = np.array(bank_test['job'])\n",
    "(cat_job_te, cat_dict_job_te) = stattools.categorical(np_job_te, drop=True, dictnames=True)\n",
    "\n",
    "np_mar_te = np.array(bank_test['marital'])\n",
    "(cat_mar_te, cat_dict_mar_te) = stattools.categorical(np_mar_te, drop=True, dictnames=True)\n",
    "\n",
    "np_edu_te = np.array(bank_test['education'])\n",
    "(cat_edu_te, cat_dict_edu_te) = stattools.categorical(np_edu_te, drop=True, dictnames=True)"
   ]
  },
  {
   "cell_type": "code",
   "execution_count": 185,
   "metadata": {},
   "outputs": [],
   "source": [
    "pd_job_cat_te = pd.DataFrame(cat_job_te)\n",
    "pd_mar_cat_te = pd.DataFrame(cat_mar_te)\n",
    "pd_edu_cat_te = pd.DataFrame(cat_edu_te)\n",
    "\n",
    "pred_te_final = pd.concat((pred_te['age'], pd_job_cat_te, pd_mar_cat_te, pd_edu_cat_te), axis=1)"
   ]
  },
  {
   "cell_type": "code",
   "execution_count": 186,
   "metadata": {},
   "outputs": [],
   "source": [
    "#bank_x_names\n",
    "#bank_y_names\n",
    "\n",
    "job_names_te = list(set(bank_test['job']))\n",
    "mar_names_te = list(set(bank_test['marital']))\n",
    "edu_names_te = list(set(bank_test['education']))\n",
    "\n",
    "bank_x_names_te = ['age']\n",
    "for i in job_names_te:\n",
    "    bank_x_names_te.append(i)\n",
    "for j in mar_names_te:\n",
    "    bank_x_names_te.append(j)\n",
    "for k in edu_names_te:\n",
    "    bank_x_names_te.append(k)\n",
    "\n",
    "bank_y_names_te = ['yes', 'no']"
   ]
  },
  {
   "cell_type": "code",
   "execution_count": 187,
   "metadata": {},
   "outputs": [],
   "source": [
    "c50_bank_te = DecisionTreeClassifier(criterion='entropy', max_leaf_nodes=5, min_samples_leaf = 1000).fit(pred_te_final,res_te)"
   ]
  },
  {
   "cell_type": "code",
   "execution_count": 188,
   "metadata": {},
   "outputs": [],
   "source": [
    "export_graphviz(c50_bank_te, out_file = 'C:/Users/ronal/Downloads/Python Practice/c50_bank_te.dot', \n",
    "                feature_names=bank_x_names_te, class_names=bank_y_names_te)"
   ]
  },
  {
   "cell_type": "code",
   "execution_count": 189,
   "metadata": {},
   "outputs": [],
   "source": [
    "predResponseC50_te = c50_bank_te.predict(pred_te_final)"
   ]
  },
  {
   "cell_type": "code",
   "execution_count": 190,
   "metadata": {},
   "outputs": [
    {
     "data": {
      "text/plain": [
       "[Text(200.88000000000002, 195.696, 'X[0] <= 58.5\\nentropy = 0.503\\nsamples = 26874\\nvalue = [23886, 2988]'),\n",
       " Text(133.92000000000002, 152.208, 'X[0] <= 28.5\\nentropy = 0.477\\nsamples = 25820\\nvalue = [23176, 2644]'),\n",
       " Text(66.96000000000001, 108.72, 'entropy = 0.673\\nsamples = 2794\\nvalue = [2300, 494]'),\n",
       " Text(200.88000000000002, 108.72, 'X[23] <= 0.5\\nentropy = 0.448\\nsamples = 23026\\nvalue = [20876, 2150]'),\n",
       " Text(133.92000000000002, 65.232, 'X[2] <= 0.5\\nentropy = 0.404\\nsamples = 15986\\nvalue = [14697, 1289]'),\n",
       " Text(66.96000000000001, 21.744, 'entropy = 0.431\\nsamples = 10672\\nvalue = [9730, 942]'),\n",
       " Text(200.88000000000002, 21.744, 'entropy = 0.348\\nsamples = 5314\\nvalue = [4967, 347]'),\n",
       " Text(267.84000000000003, 65.232, 'entropy = 0.536\\nsamples = 7040\\nvalue = [6179, 861]'),\n",
       " Text(267.84000000000003, 152.208, 'entropy = 0.911\\nsamples = 1054\\nvalue = [710, 344]')]"
      ]
     },
     "execution_count": 190,
     "metadata": {},
     "output_type": "execute_result"
    },
    {
     "data": {
      "image/png": "[encoded data removed]",
      "text/plain": [
       "<Figure size 432x288 with 1 Axes>"
      ]
     },
     "metadata": {
      "needs_background": "light"
     },
     "output_type": "display_data"
    }
   ],
   "source": [
    "plot_tree(c50_bank_te)"
   ]
  },
  {
   "cell_type": "code",
   "execution_count": 191,
   "metadata": {},
   "outputs": [],
   "source": [
    "# Describe"
   ]
  },
  {
   "cell_type": "markdown",
   "metadata": {},
   "source": [
    "# 6.33\n",
    "Use Random Forest to predict 'Response' using training set"
   ]
  },
  {
   "cell_type": "code",
   "execution_count": 193,
   "metadata": {},
   "outputs": [],
   "source": [
    "import pandas as pd\n",
    "import numpy as np\n",
    "import statsmodels.tools.tools as stattools\n",
    "#from sklearn.tree import DecisionTreeClassifier, export_graphviz\n",
    "from sklearn.tree import *\n",
    "\n",
    "bank_train = pd.read_csv(\"C:/Users/ronal/Python_Practice/DataSets/bank_marketing_training\")\n",
    "\n",
    "res_tr = bank_train[['response']]\n",
    "pred_tr = bank_train[['age', 'job','marital','education']]"
   ]
  },
  {
   "cell_type": "code",
   "execution_count": 198,
   "metadata": {},
   "outputs": [
    {
     "name": "stderr",
     "output_type": "stream",
     "text": [
      "C:\\Users\\ronal\\anaconda3\\lib\\site-packages\\statsmodels\\tools\\tools.py:158: FutureWarning: categorical is deprecated. Use pandas Categorical to represent categorical data and can get_dummies to construct dummy arrays. It will be removed after release 0.13.\n",
      "  warnings.warn(\n"
     ]
    }
   ],
   "source": [
    "np_job = np.array(bank_train['job'])\n",
    "(cat_job, cat_dict_job) = stattools.categorical(np_job, drop=True, dictnames=True)\n",
    "\n",
    "np_mar = np.array(bank_train['marital'])\n",
    "(cat_mar, cat_dict_mar) = stattools.categorical(np_mar, drop=True, dictnames=True)\n",
    "\n",
    "np_edu = np.array(bank_train['education'])\n",
    "(cat_edu, cat_dict_edu) = stattools.categorical(np_edu, drop=True, dictnames=True)"
   ]
  },
  {
   "cell_type": "code",
   "execution_count": 199,
   "metadata": {},
   "outputs": [],
   "source": [
    "pd_job_cat = pd.DataFrame(cat_job)\n",
    "pd_mar_cat = pd.DataFrame(cat_mar)\n",
    "pd_edu_cat = pd.DataFrame(cat_edu)\n",
    "\n",
    "pred_tr_final = pd.concat((pred_tr['age'], pd_job_cat, pd_mar_cat, pd_edu_cat), axis=1)"
   ]
  },
  {
   "cell_type": "code",
   "execution_count": 200,
   "metadata": {},
   "outputs": [],
   "source": [
    "#bank_x_names\n",
    "#bank_y_names\n",
    "\n",
    "job_names = list(set(bank_train['job']))\n",
    "mar_names = list(set(bank_train['marital']))\n",
    "edu_names = list(set(bank_train['education']))\n",
    "\n",
    "bank_x_names = ['age']\n",
    "for i in job_names:\n",
    "    bank_x_names.append(i)\n",
    "for j in mar_names:\n",
    "    bank_x_names.append(j)\n",
    "for k in edu_names:\n",
    "    bank_x_names.append(k)\n",
    "\n",
    "bank_y_names = ['yes', 'no']"
   ]
  },
  {
   "cell_type": "code",
   "execution_count": 201,
   "metadata": {},
   "outputs": [],
   "source": [
    "from sklearn.ensemble import RandomForestClassifier\n",
    "import numpy as np\n",
    "\n",
    "rf_res_bank = np.ravel(res_tr)\n",
    "\n",
    "rf_33 = RandomForestClassifier(n_estimators=100, criterion='gini').fit(pred_tr_final,rf_res_bank)"
   ]
  },
  {
   "cell_type": "code",
   "execution_count": 203,
   "metadata": {},
   "outputs": [
    {
     "data": {
      "text/plain": [
       "array(['no', 'no', 'no', ..., 'no', 'yes', 'no'], dtype=object)"
      ]
     },
     "execution_count": 203,
     "metadata": {},
     "output_type": "execute_result"
    }
   ],
   "source": [
    "rf_33.predict(pred_tr_final)"
   ]
  },
  {
   "cell_type": "markdown",
   "metadata": {},
   "source": [
    "# 6.34\n",
    "Use Random Forest to predict 'Response' using test set, Compare tree with training and with test set"
   ]
  },
  {
   "cell_type": "code",
   "execution_count": 204,
   "metadata": {},
   "outputs": [],
   "source": [
    "import pandas as pd\n",
    "import numpy as np\n",
    "import statsmodels.tools.tools as stattools\n",
    "#from sklearn.tree import DecisionTreeClassifier, export_graphviz\n",
    "from sklearn.tree import *\n",
    "\n",
    "bank_test = pd.read_csv(\"C:/Users/ronal/Python_Practice/DataSets/bank_marketing_test\")\n",
    "\n",
    "res_te = bank_test[['response']]\n",
    "pred_te = bank_test[['age', 'job','marital','education']]"
   ]
  },
  {
   "cell_type": "code",
   "execution_count": 205,
   "metadata": {},
   "outputs": [
    {
     "name": "stderr",
     "output_type": "stream",
     "text": [
      "C:\\Users\\ronal\\anaconda3\\lib\\site-packages\\statsmodels\\tools\\tools.py:158: FutureWarning: categorical is deprecated. Use pandas Categorical to represent categorical data and can get_dummies to construct dummy arrays. It will be removed after release 0.13.\n",
      "  warnings.warn(\n"
     ]
    }
   ],
   "source": [
    "np_job_te = np.array(bank_test['job'])\n",
    "(cat_job_te, cat_dict_job_te) = stattools.categorical(np_job_te, drop=True, dictnames=True)\n",
    "\n",
    "np_mar_te = np.array(bank_test['marital'])\n",
    "(cat_mar_te, cat_dict_mar_te) = stattools.categorical(np_mar_te, drop=True, dictnames=True)\n",
    "\n",
    "np_edu_te = np.array(bank_test['education'])\n",
    "(cat_edu_te, cat_dict_edu_te) = stattools.categorical(np_edu_te, drop=True, dictnames=True)"
   ]
  },
  {
   "cell_type": "code",
   "execution_count": 206,
   "metadata": {},
   "outputs": [],
   "source": [
    "pd_job_cat_te = pd.DataFrame(cat_job_te)\n",
    "pd_mar_cat_te = pd.DataFrame(cat_mar_te)\n",
    "pd_edu_cat_te = pd.DataFrame(cat_edu_te)\n",
    "\n",
    "pred_te_final = pd.concat((pred_te['age'], pd_job_cat_te, pd_mar_cat_te, pd_edu_cat_te), axis=1)"
   ]
  },
  {
   "cell_type": "code",
   "execution_count": 207,
   "metadata": {},
   "outputs": [],
   "source": [
    "#bank_x_names\n",
    "#bank_y_names\n",
    "\n",
    "job_names_te = list(set(bank_test['job']))\n",
    "mar_names_te = list(set(bank_test['marital']))\n",
    "edu_names_te = list(set(bank_test['education']))\n",
    "\n",
    "bank_x_names_te = ['age']\n",
    "for i in job_names_te:\n",
    "    bank_x_names_te.append(i)\n",
    "for j in mar_names_te:\n",
    "    bank_x_names_te.append(j)\n",
    "for k in edu_names_te:\n",
    "    bank_x_names_te.append(k)\n",
    "\n",
    "bank_y_names_te = ['yes', 'no']"
   ]
  },
  {
   "cell_type": "code",
   "execution_count": 209,
   "metadata": {},
   "outputs": [],
   "source": [
    "from sklearn.ensemble import RandomForestClassifier\n",
    "import numpy as np\n",
    "\n",
    "rf_res_bank_te = np.ravel(res_te)\n",
    "\n",
    "rf_33_te = RandomForestClassifier(n_estimators=100, criterion='gini').fit(pred_te_final,rf_res_bank_te)"
   ]
  },
  {
   "cell_type": "code",
   "execution_count": 210,
   "metadata": {},
   "outputs": [
    {
     "data": {
      "text/plain": [
       "array(['no', 'no', 'no', ..., 'no', 'yes', 'no'], dtype=object)"
      ]
     },
     "execution_count": 210,
     "metadata": {},
     "output_type": "execute_result"
    }
   ],
   "source": [
    "rf_33_te.predict(pred_te_final)"
   ]
  },
  {
   "cell_type": "code",
   "execution_count": 211,
   "metadata": {},
   "outputs": [],
   "source": [
    "# Compare prediction from training and from test set"
   ]
  },
  {
   "cell_type": "code",
   "execution_count": null,
   "metadata": {},
   "outputs": [],
   "source": []
  },
  {
   "cell_type": "code",
   "execution_count": null,
   "metadata": {},
   "outputs": [],
   "source": []
  },
  {
   "cell_type": "code",
   "execution_count": null,
   "metadata": {},
   "outputs": [],
   "source": []
  }
 ],
 "metadata": {
  "kernelspec": {
   "display_name": "Python 3",
   "language": "python",
   "name": "python3"
  },
  "language_info": {
   "codemirror_mode": {
    "name": "ipython",
    "version": 3
   },
   "file_extension": ".py",
   "mimetype": "text/x-python",
   "name": "python",
   "nbconvert_exporter": "python",
   "pygments_lexer": "ipython3",
   "version": "3.8.5"
  }
 },
 "nbformat": 4,
 "nbformat_minor": 4
}
