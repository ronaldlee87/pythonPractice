{
  "nbformat": 4,
  "nbformat_minor": 0,
  "metadata": {
    "colab": {
      "name": "Week6_Mandoo.ipynb",
      "provenance": [],
      "collapsed_sections": [
        "wLidz2ufHuNK",
        "6KQI53h7gKjo",
        "XTM-c1PnnoB_",
        "nKsbH-5Npx9d",
        "9eKa28-Hqkyh",
        "A2uJUeM_qqQa",
        "V7gvMNM7qt-c",
        "CoNvpukMq1Z5",
        "fQzwN4VRq_mK",
        "z-X8gQEbePfW",
        "VfTGnXArgCIf",
        "dOLU1Ed4gCZQ",
        "xr1Z4gzugzWp",
        "Z0-TpHj-gzgH",
        "MjNgV9C6gzuh",
        "0EBGyxxzgz5J",
        "uYO8mfFvkw5F",
        "y9pdFpvVkxVC",
        "q4h8QnZykxgR",
        "fcFyPmfmlW5p"
      ]
    },
    "kernelspec": {
      "name": "python3",
      "display_name": "Python 3"
    },
    "language_info": {
      "name": "python"
    }
  },
  "cells": [
    {
      "cell_type": "markdown",
      "metadata": {
        "id": "WagHHdoO8hmB"
      },
      "source": [
        "### **CH 11 REGRESSION MODELING**\n",
        "### 11.4 MULTIPLE REGRESSION MODELING"
      ]
    },
    {
      "cell_type": "code",
      "metadata": {
        "colab": {
          "base_uri": "https://localhost:8080/"
        },
        "id": "U7yFzpWo_B_l",
        "outputId": "3dc7db2f-2b62-4b83-cdb9-79e9375a4183"
      },
      "source": [
        "from google.colab import drive\n",
        "drive.mount('/gdrive')\n",
        "folder = \"/gdrive/My Drive/Python Practice/Datasets\""
      ],
      "execution_count": 1,
      "outputs": [
        {
          "output_type": "stream",
          "text": [
            "Mounted at /gdrive\n"
          ],
          "name": "stdout"
        }
      ]
    },
    {
      "cell_type": "code",
      "metadata": {
        "colab": {
          "base_uri": "https://localhost:8080/"
        },
        "id": "VL-CWAvR8umo",
        "outputId": "89bbb64a-e921-42eb-9124-c22238da8b14"
      },
      "source": [
        "import pandas as pd\n",
        "import numpy as np\n",
        "import statsmodels.api as sm"
      ],
      "execution_count": 2,
      "outputs": [
        {
          "output_type": "stream",
          "text": [
            "/usr/local/lib/python3.7/dist-packages/statsmodels/tools/_testing.py:19: FutureWarning: pandas.util.testing is deprecated. Use the functions in the public API at pandas.testing instead.\n",
            "  import pandas.util.testing as tm\n"
          ],
          "name": "stderr"
        }
      ]
    },
    {
      "cell_type": "code",
      "metadata": {
        "colab": {
          "base_uri": "https://localhost:8080/",
          "height": 513
        },
        "id": "a-Ukp7UP-97k",
        "outputId": "e3c65781-3015-45ed-acaa-6461d99ad926"
      },
      "source": [
        "sales_train = pd.read_csv(folder + '/clothing_sales_training.csv')\n",
        "sales_test = pd.read_csv(folder + '/clothing_sales_test.csv')\n",
        "\n",
        "X = pd.DataFrame(sales_train[['CC', 'Days', 'Web']])\n",
        "y = pd.DataFrame(sales_train[['Sales per Visit']])\n",
        "\n",
        "X = sm.add_constant(X)\n",
        "\n",
        "model01 = sm.OLS(y, X).fit()\n",
        "model01.summary()"
      ],
      "execution_count": 95,
      "outputs": [
        {
          "output_type": "execute_result",
          "data": {
            "text/html": [
              "<table class=\"simpletable\">\n",
              "<caption>OLS Regression Results</caption>\n",
              "<tr>\n",
              "  <th>Dep. Variable:</th>     <td>Sales per Visit</td> <th>  R-squared:         </th> <td>   0.066</td> \n",
              "</tr>\n",
              "<tr>\n",
              "  <th>Model:</th>                   <td>OLS</td>       <th>  Adj. R-squared:    </th> <td>   0.064</td> \n",
              "</tr>\n",
              "<tr>\n",
              "  <th>Method:</th>             <td>Least Squares</td>  <th>  F-statistic:       </th> <td>   33.93</td> \n",
              "</tr>\n",
              "<tr>\n",
              "  <th>Date:</th>             <td>Wed, 28 Jul 2021</td> <th>  Prob (F-statistic):</th> <td>3.42e-21</td> \n",
              "</tr>\n",
              "<tr>\n",
              "  <th>Time:</th>                 <td>03:52:17</td>     <th>  Log-Likelihood:    </th> <td> -8546.2</td> \n",
              "</tr>\n",
              "<tr>\n",
              "  <th>No. Observations:</th>      <td>  1451</td>      <th>  AIC:               </th> <td>1.710e+04</td>\n",
              "</tr>\n",
              "<tr>\n",
              "  <th>Df Residuals:</th>          <td>  1447</td>      <th>  BIC:               </th> <td>1.712e+04</td>\n",
              "</tr>\n",
              "<tr>\n",
              "  <th>Df Model:</th>              <td>     3</td>      <th>                     </th>     <td> </td>    \n",
              "</tr>\n",
              "<tr>\n",
              "  <th>Covariance Type:</th>      <td>nonrobust</td>    <th>                     </th>     <td> </td>    \n",
              "</tr>\n",
              "</table>\n",
              "<table class=\"simpletable\">\n",
              "<tr>\n",
              "    <td></td>       <th>coef</th>     <th>std err</th>      <th>t</th>      <th>P>|t|</th>  <th>[0.025</th>    <th>0.975]</th>  \n",
              "</tr>\n",
              "<tr>\n",
              "  <th>const</th> <td>   73.3654</td> <td>    4.676</td> <td>   15.689</td> <td> 0.000</td> <td>   64.192</td> <td>   82.538</td>\n",
              "</tr>\n",
              "<tr>\n",
              "  <th>CC</th>    <td>   21.8175</td> <td>    4.766</td> <td>    4.578</td> <td> 0.000</td> <td>   12.468</td> <td>   31.167</td>\n",
              "</tr>\n",
              "<tr>\n",
              "  <th>Days</th>  <td>    0.1644</td> <td>    0.017</td> <td>    9.802</td> <td> 0.000</td> <td>    0.131</td> <td>    0.197</td>\n",
              "</tr>\n",
              "<tr>\n",
              "  <th>Web</th>   <td>    7.2755</td> <td>   11.658</td> <td>    0.624</td> <td> 0.533</td> <td>  -15.593</td> <td>   30.144</td>\n",
              "</tr>\n",
              "</table>\n",
              "<table class=\"simpletable\">\n",
              "<tr>\n",
              "  <th>Omnibus:</th>       <td>1312.005</td> <th>  Durbin-Watson:     </th> <td>   2.010</td> \n",
              "</tr>\n",
              "<tr>\n",
              "  <th>Prob(Omnibus):</th>  <td> 0.000</td>  <th>  Jarque-Bera (JB):  </th> <td>73984.329</td>\n",
              "</tr>\n",
              "<tr>\n",
              "  <th>Skew:</th>           <td> 3.992</td>  <th>  Prob(JB):          </th> <td>    0.00</td> \n",
              "</tr>\n",
              "<tr>\n",
              "  <th>Kurtosis:</th>       <td>37.059</td>  <th>  Cond. No.          </th> <td>1.12e+03</td> \n",
              "</tr>\n",
              "</table><br/><br/>Warnings:<br/>[1] Standard Errors assume that the covariance matrix of the errors is correctly specified.<br/>[2] The condition number is large, 1.12e+03. This might indicate that there are<br/>strong multicollinearity or other numerical problems."
            ],
            "text/plain": [
              "<class 'statsmodels.iolib.summary.Summary'>\n",
              "\"\"\"\n",
              "                            OLS Regression Results                            \n",
              "==============================================================================\n",
              "Dep. Variable:        Sales per Visit   R-squared:                       0.066\n",
              "Model:                            OLS   Adj. R-squared:                  0.064\n",
              "Method:                 Least Squares   F-statistic:                     33.93\n",
              "Date:                Wed, 28 Jul 2021   Prob (F-statistic):           3.42e-21\n",
              "Time:                        03:52:17   Log-Likelihood:                -8546.2\n",
              "No. Observations:                1451   AIC:                         1.710e+04\n",
              "Df Residuals:                    1447   BIC:                         1.712e+04\n",
              "Df Model:                           3                                         \n",
              "Covariance Type:            nonrobust                                         \n",
              "==============================================================================\n",
              "                 coef    std err          t      P>|t|      [0.025      0.975]\n",
              "------------------------------------------------------------------------------\n",
              "const         73.3654      4.676     15.689      0.000      64.192      82.538\n",
              "CC            21.8175      4.766      4.578      0.000      12.468      31.167\n",
              "Days           0.1644      0.017      9.802      0.000       0.131       0.197\n",
              "Web            7.2755     11.658      0.624      0.533     -15.593      30.144\n",
              "==============================================================================\n",
              "Omnibus:                     1312.005   Durbin-Watson:                   2.010\n",
              "Prob(Omnibus):                  0.000   Jarque-Bera (JB):            73984.329\n",
              "Skew:                           3.992   Prob(JB):                         0.00\n",
              "Kurtosis:                      37.059   Cond. No.                     1.12e+03\n",
              "==============================================================================\n",
              "\n",
              "Warnings:\n",
              "[1] Standard Errors assume that the covariance matrix of the errors is correctly specified.\n",
              "[2] The condition number is large, 1.12e+03. This might indicate that there are\n",
              "strong multicollinearity or other numerical problems.\n",
              "\"\"\""
            ]
          },
          "metadata": {
            "tags": []
          },
          "execution_count": 95
        }
      ]
    },
    {
      "cell_type": "code",
      "metadata": {
        "colab": {
          "base_uri": "https://localhost:8080/",
          "height": 458
        },
        "id": "QbsbDkaC-kAn",
        "outputId": "eae84552-f3be-4ad6-9ca9-f2b83c08dc34"
      },
      "source": [
        "X_test = pd.DataFrame(sales_test[['CC','Days']])\n",
        "y_test = pd.DataFrame(sales_test[['Sales per Visit']])\n",
        "X_test = sm.add_constant(X_test)\n",
        "model01_test = sm.OLS(y_test, X_test).fit()\n",
        "model01_test.summary()"
      ],
      "execution_count": 96,
      "outputs": [
        {
          "output_type": "execute_result",
          "data": {
            "text/html": [
              "<table class=\"simpletable\">\n",
              "<caption>OLS Regression Results</caption>\n",
              "<tr>\n",
              "  <th>Dep. Variable:</th>     <td>Sales per Visit</td> <th>  R-squared:         </th> <td>   0.062</td> \n",
              "</tr>\n",
              "<tr>\n",
              "  <th>Model:</th>                   <td>OLS</td>       <th>  Adj. R-squared:    </th> <td>   0.061</td> \n",
              "</tr>\n",
              "<tr>\n",
              "  <th>Method:</th>             <td>Least Squares</td>  <th>  F-statistic:       </th> <td>   46.06</td> \n",
              "</tr>\n",
              "<tr>\n",
              "  <th>Date:</th>             <td>Wed, 28 Jul 2021</td> <th>  Prob (F-statistic):</th> <td>4.29e-20</td> \n",
              "</tr>\n",
              "<tr>\n",
              "  <th>Time:</th>                 <td>03:52:35</td>     <th>  Log-Likelihood:    </th> <td> -8004.5</td> \n",
              "</tr>\n",
              "<tr>\n",
              "  <th>No. Observations:</th>      <td>  1395</td>      <th>  AIC:               </th> <td>1.602e+04</td>\n",
              "</tr>\n",
              "<tr>\n",
              "  <th>Df Residuals:</th>          <td>  1392</td>      <th>  BIC:               </th> <td>1.603e+04</td>\n",
              "</tr>\n",
              "<tr>\n",
              "  <th>Df Model:</th>              <td>     2</td>      <th>                     </th>     <td> </td>    \n",
              "</tr>\n",
              "<tr>\n",
              "  <th>Covariance Type:</th>      <td>nonrobust</td>    <th>                     </th>     <td> </td>    \n",
              "</tr>\n",
              "</table>\n",
              "<table class=\"simpletable\">\n",
              "<tr>\n",
              "    <td></td>       <th>coef</th>     <th>std err</th>      <th>t</th>      <th>P>|t|</th>  <th>[0.025</th>    <th>0.975]</th>  \n",
              "</tr>\n",
              "<tr>\n",
              "  <th>const</th> <td>   80.7656</td> <td>    3.986</td> <td>   20.260</td> <td> 0.000</td> <td>   72.946</td> <td>   88.586</td>\n",
              "</tr>\n",
              "<tr>\n",
              "  <th>CC</th>    <td>   21.5262</td> <td>    4.146</td> <td>    5.192</td> <td> 0.000</td> <td>   13.393</td> <td>   29.659</td>\n",
              "</tr>\n",
              "<tr>\n",
              "  <th>Days</th>  <td>    0.1254</td> <td>    0.014</td> <td>    9.071</td> <td> 0.000</td> <td>    0.098</td> <td>    0.152</td>\n",
              "</tr>\n",
              "</table>\n",
              "<table class=\"simpletable\">\n",
              "<tr>\n",
              "  <th>Omnibus:</th>       <td>554.457</td> <th>  Durbin-Watson:     </th> <td>   1.929</td>\n",
              "</tr>\n",
              "<tr>\n",
              "  <th>Prob(Omnibus):</th> <td> 0.000</td>  <th>  Jarque-Bera (JB):  </th> <td>2308.535</td>\n",
              "</tr>\n",
              "<tr>\n",
              "  <th>Skew:</th>          <td> 1.895</td>  <th>  Prob(JB):          </th> <td>    0.00</td>\n",
              "</tr>\n",
              "<tr>\n",
              "  <th>Kurtosis:</th>      <td> 8.036</td>  <th>  Cond. No.          </th> <td>    588.</td>\n",
              "</tr>\n",
              "</table><br/><br/>Warnings:<br/>[1] Standard Errors assume that the covariance matrix of the errors is correctly specified."
            ],
            "text/plain": [
              "<class 'statsmodels.iolib.summary.Summary'>\n",
              "\"\"\"\n",
              "                            OLS Regression Results                            \n",
              "==============================================================================\n",
              "Dep. Variable:        Sales per Visit   R-squared:                       0.062\n",
              "Model:                            OLS   Adj. R-squared:                  0.061\n",
              "Method:                 Least Squares   F-statistic:                     46.06\n",
              "Date:                Wed, 28 Jul 2021   Prob (F-statistic):           4.29e-20\n",
              "Time:                        03:52:35   Log-Likelihood:                -8004.5\n",
              "No. Observations:                1395   AIC:                         1.602e+04\n",
              "Df Residuals:                    1392   BIC:                         1.603e+04\n",
              "Df Model:                           2                                         \n",
              "Covariance Type:            nonrobust                                         \n",
              "==============================================================================\n",
              "                 coef    std err          t      P>|t|      [0.025      0.975]\n",
              "------------------------------------------------------------------------------\n",
              "const         80.7656      3.986     20.260      0.000      72.946      88.586\n",
              "CC            21.5262      4.146      5.192      0.000      13.393      29.659\n",
              "Days           0.1254      0.014      9.071      0.000       0.098       0.152\n",
              "==============================================================================\n",
              "Omnibus:                      554.457   Durbin-Watson:                   1.929\n",
              "Prob(Omnibus):                  0.000   Jarque-Bera (JB):             2308.535\n",
              "Skew:                           1.895   Prob(JB):                         0.00\n",
              "Kurtosis:                       8.036   Cond. No.                         588.\n",
              "==============================================================================\n",
              "\n",
              "Warnings:\n",
              "[1] Standard Errors assume that the covariance matrix of the errors is correctly specified.\n",
              "\"\"\""
            ]
          },
          "metadata": {
            "tags": []
          },
          "execution_count": 96
        }
      ]
    },
    {
      "cell_type": "code",
      "metadata": {
        "colab": {
          "base_uri": "https://localhost:8080/",
          "height": 458
        },
        "id": "TMMgiLUo_ddi",
        "outputId": "4bfe19d6-a1c5-445e-9c83-d5f961f2aa06"
      },
      "source": [
        "X = pd.DataFrame(sales_train[['CC','Days']])\n",
        "X = sm.add_constant(X)\n",
        "\n",
        "model02 = sm.OLS(y, X).fit()\n",
        "model02.summary()"
      ],
      "execution_count": 5,
      "outputs": [
        {
          "output_type": "execute_result",
          "data": {
            "text/html": [
              "<table class=\"simpletable\">\n",
              "<caption>OLS Regression Results</caption>\n",
              "<tr>\n",
              "  <th>Dep. Variable:</th>     <td>Sales per Visit</td> <th>  R-squared:         </th> <td>   0.065</td> \n",
              "</tr>\n",
              "<tr>\n",
              "  <th>Model:</th>                   <td>OLS</td>       <th>  Adj. R-squared:    </th> <td>   0.064</td> \n",
              "</tr>\n",
              "<tr>\n",
              "  <th>Method:</th>             <td>Least Squares</td>  <th>  F-statistic:       </th> <td>   50.72</td> \n",
              "</tr>\n",
              "<tr>\n",
              "  <th>Date:</th>             <td>Wed, 28 Jul 2021</td> <th>  Prob (F-statistic):</th> <td>5.12e-22</td> \n",
              "</tr>\n",
              "<tr>\n",
              "  <th>Time:</th>                 <td>00:34:53</td>     <th>  Log-Likelihood:    </th> <td> -8546.4</td> \n",
              "</tr>\n",
              "<tr>\n",
              "  <th>No. Observations:</th>      <td>  1451</td>      <th>  AIC:               </th> <td>1.710e+04</td>\n",
              "</tr>\n",
              "<tr>\n",
              "  <th>Df Residuals:</th>          <td>  1448</td>      <th>  BIC:               </th> <td>1.711e+04</td>\n",
              "</tr>\n",
              "<tr>\n",
              "  <th>Df Model:</th>              <td>     2</td>      <th>                     </th>     <td> </td>    \n",
              "</tr>\n",
              "<tr>\n",
              "  <th>Covariance Type:</th>      <td>nonrobust</td>    <th>                     </th>     <td> </td>    \n",
              "</tr>\n",
              "</table>\n",
              "<table class=\"simpletable\">\n",
              "<tr>\n",
              "    <td></td>       <th>coef</th>     <th>std err</th>      <th>t</th>      <th>P>|t|</th>  <th>[0.025</th>    <th>0.975]</th>  \n",
              "</tr>\n",
              "<tr>\n",
              "  <th>const</th> <td>   73.6209</td> <td>    4.657</td> <td>   15.808</td> <td> 0.000</td> <td>   64.485</td> <td>   82.757</td>\n",
              "</tr>\n",
              "<tr>\n",
              "  <th>CC</th>    <td>   22.1357</td> <td>    4.738</td> <td>    4.672</td> <td> 0.000</td> <td>   12.842</td> <td>   31.429</td>\n",
              "</tr>\n",
              "<tr>\n",
              "  <th>Days</th>  <td>    0.1637</td> <td>    0.017</td> <td>    9.784</td> <td> 0.000</td> <td>    0.131</td> <td>    0.197</td>\n",
              "</tr>\n",
              "</table>\n",
              "<table class=\"simpletable\">\n",
              "<tr>\n",
              "  <th>Omnibus:</th>       <td>1310.431</td> <th>  Durbin-Watson:     </th> <td>   2.008</td> \n",
              "</tr>\n",
              "<tr>\n",
              "  <th>Prob(Omnibus):</th>  <td> 0.000</td>  <th>  Jarque-Bera (JB):  </th> <td>73656.633</td>\n",
              "</tr>\n",
              "<tr>\n",
              "  <th>Skew:</th>           <td> 3.985</td>  <th>  Prob(JB):          </th> <td>    0.00</td> \n",
              "</tr>\n",
              "<tr>\n",
              "  <th>Kurtosis:</th>       <td>36.982</td>  <th>  Cond. No.          </th> <td>    578.</td> \n",
              "</tr>\n",
              "</table><br/><br/>Warnings:<br/>[1] Standard Errors assume that the covariance matrix of the errors is correctly specified."
            ],
            "text/plain": [
              "<class 'statsmodels.iolib.summary.Summary'>\n",
              "\"\"\"\n",
              "                            OLS Regression Results                            \n",
              "==============================================================================\n",
              "Dep. Variable:        Sales per Visit   R-squared:                       0.065\n",
              "Model:                            OLS   Adj. R-squared:                  0.064\n",
              "Method:                 Least Squares   F-statistic:                     50.72\n",
              "Date:                Wed, 28 Jul 2021   Prob (F-statistic):           5.12e-22\n",
              "Time:                        00:34:53   Log-Likelihood:                -8546.4\n",
              "No. Observations:                1451   AIC:                         1.710e+04\n",
              "Df Residuals:                    1448   BIC:                         1.711e+04\n",
              "Df Model:                           2                                         \n",
              "Covariance Type:            nonrobust                                         \n",
              "==============================================================================\n",
              "                 coef    std err          t      P>|t|      [0.025      0.975]\n",
              "------------------------------------------------------------------------------\n",
              "const         73.6209      4.657     15.808      0.000      64.485      82.757\n",
              "CC            22.1357      4.738      4.672      0.000      12.842      31.429\n",
              "Days           0.1637      0.017      9.784      0.000       0.131       0.197\n",
              "==============================================================================\n",
              "Omnibus:                     1310.431   Durbin-Watson:                   2.008\n",
              "Prob(Omnibus):                  0.000   Jarque-Bera (JB):            73656.633\n",
              "Skew:                           3.985   Prob(JB):                         0.00\n",
              "Kurtosis:                      36.982   Cond. No.                         578.\n",
              "==============================================================================\n",
              "\n",
              "Warnings:\n",
              "[1] Standard Errors assume that the covariance matrix of the errors is correctly specified.\n",
              "\"\"\""
            ]
          },
          "metadata": {
            "tags": []
          },
          "execution_count": 5
        }
      ]
    },
    {
      "cell_type": "code",
      "metadata": {
        "colab": {
          "base_uri": "https://localhost:8080/",
          "height": 458
        },
        "id": "99JCMEUlnqH1",
        "outputId": "30532a70-74ab-40e7-9a01-73b9e6c8ba42"
      },
      "source": [
        "X_test = pd.DataFrame(sales_test[['CC','Days']])\n",
        "X_test = sm.add_constant(X_test)\n",
        "model02_test = sm.OLS(y_test, X_test).fit()\n",
        "model02_test.summary()"
      ],
      "execution_count": 6,
      "outputs": [
        {
          "output_type": "execute_result",
          "data": {
            "text/html": [
              "<table class=\"simpletable\">\n",
              "<caption>OLS Regression Results</caption>\n",
              "<tr>\n",
              "  <th>Dep. Variable:</th>     <td>Sales per Visit</td> <th>  R-squared:         </th> <td>   0.062</td> \n",
              "</tr>\n",
              "<tr>\n",
              "  <th>Model:</th>                   <td>OLS</td>       <th>  Adj. R-squared:    </th> <td>   0.061</td> \n",
              "</tr>\n",
              "<tr>\n",
              "  <th>Method:</th>             <td>Least Squares</td>  <th>  F-statistic:       </th> <td>   46.06</td> \n",
              "</tr>\n",
              "<tr>\n",
              "  <th>Date:</th>             <td>Wed, 28 Jul 2021</td> <th>  Prob (F-statistic):</th> <td>4.29e-20</td> \n",
              "</tr>\n",
              "<tr>\n",
              "  <th>Time:</th>                 <td>00:34:53</td>     <th>  Log-Likelihood:    </th> <td> -8004.5</td> \n",
              "</tr>\n",
              "<tr>\n",
              "  <th>No. Observations:</th>      <td>  1395</td>      <th>  AIC:               </th> <td>1.602e+04</td>\n",
              "</tr>\n",
              "<tr>\n",
              "  <th>Df Residuals:</th>          <td>  1392</td>      <th>  BIC:               </th> <td>1.603e+04</td>\n",
              "</tr>\n",
              "<tr>\n",
              "  <th>Df Model:</th>              <td>     2</td>      <th>                     </th>     <td> </td>    \n",
              "</tr>\n",
              "<tr>\n",
              "  <th>Covariance Type:</th>      <td>nonrobust</td>    <th>                     </th>     <td> </td>    \n",
              "</tr>\n",
              "</table>\n",
              "<table class=\"simpletable\">\n",
              "<tr>\n",
              "    <td></td>       <th>coef</th>     <th>std err</th>      <th>t</th>      <th>P>|t|</th>  <th>[0.025</th>    <th>0.975]</th>  \n",
              "</tr>\n",
              "<tr>\n",
              "  <th>const</th> <td>   80.7656</td> <td>    3.986</td> <td>   20.260</td> <td> 0.000</td> <td>   72.946</td> <td>   88.586</td>\n",
              "</tr>\n",
              "<tr>\n",
              "  <th>CC</th>    <td>   21.5262</td> <td>    4.146</td> <td>    5.192</td> <td> 0.000</td> <td>   13.393</td> <td>   29.659</td>\n",
              "</tr>\n",
              "<tr>\n",
              "  <th>Days</th>  <td>    0.1254</td> <td>    0.014</td> <td>    9.071</td> <td> 0.000</td> <td>    0.098</td> <td>    0.152</td>\n",
              "</tr>\n",
              "</table>\n",
              "<table class=\"simpletable\">\n",
              "<tr>\n",
              "  <th>Omnibus:</th>       <td>554.457</td> <th>  Durbin-Watson:     </th> <td>   1.929</td>\n",
              "</tr>\n",
              "<tr>\n",
              "  <th>Prob(Omnibus):</th> <td> 0.000</td>  <th>  Jarque-Bera (JB):  </th> <td>2308.535</td>\n",
              "</tr>\n",
              "<tr>\n",
              "  <th>Skew:</th>          <td> 1.895</td>  <th>  Prob(JB):          </th> <td>    0.00</td>\n",
              "</tr>\n",
              "<tr>\n",
              "  <th>Kurtosis:</th>      <td> 8.036</td>  <th>  Cond. No.          </th> <td>    588.</td>\n",
              "</tr>\n",
              "</table><br/><br/>Warnings:<br/>[1] Standard Errors assume that the covariance matrix of the errors is correctly specified."
            ],
            "text/plain": [
              "<class 'statsmodels.iolib.summary.Summary'>\n",
              "\"\"\"\n",
              "                            OLS Regression Results                            \n",
              "==============================================================================\n",
              "Dep. Variable:        Sales per Visit   R-squared:                       0.062\n",
              "Model:                            OLS   Adj. R-squared:                  0.061\n",
              "Method:                 Least Squares   F-statistic:                     46.06\n",
              "Date:                Wed, 28 Jul 2021   Prob (F-statistic):           4.29e-20\n",
              "Time:                        00:34:53   Log-Likelihood:                -8004.5\n",
              "No. Observations:                1395   AIC:                         1.602e+04\n",
              "Df Residuals:                    1392   BIC:                         1.603e+04\n",
              "Df Model:                           2                                         \n",
              "Covariance Type:            nonrobust                                         \n",
              "==============================================================================\n",
              "                 coef    std err          t      P>|t|      [0.025      0.975]\n",
              "------------------------------------------------------------------------------\n",
              "const         80.7656      3.986     20.260      0.000      72.946      88.586\n",
              "CC            21.5262      4.146      5.192      0.000      13.393      29.659\n",
              "Days           0.1254      0.014      9.071      0.000       0.098       0.152\n",
              "==============================================================================\n",
              "Omnibus:                      554.457   Durbin-Watson:                   1.929\n",
              "Prob(Omnibus):                  0.000   Jarque-Bera (JB):             2308.535\n",
              "Skew:                           1.895   Prob(JB):                         0.00\n",
              "Kurtosis:                       8.036   Cond. No.                         588.\n",
              "==============================================================================\n",
              "\n",
              "Warnings:\n",
              "[1] Standard Errors assume that the covariance matrix of the errors is correctly specified.\n",
              "\"\"\""
            ]
          },
          "metadata": {
            "tags": []
          },
          "execution_count": 6
        }
      ]
    },
    {
      "cell_type": "markdown",
      "metadata": {
        "id": "wLidz2ufHuNK"
      },
      "source": [
        "### 11.6.1 Estimation Model Evaluation"
      ]
    },
    {
      "cell_type": "code",
      "metadata": {
        "colab": {
          "base_uri": "https://localhost:8080/"
        },
        "id": "pYRozn8vSzQk",
        "outputId": "467ce236-35c3-422b-a7af-c73eb1b4499a"
      },
      "source": [
        "cust01 = np.column_stack((1,0,333))\n",
        "model02.predict(cust01)"
      ],
      "execution_count": 7,
      "outputs": [
        {
          "output_type": "execute_result",
          "data": {
            "text/plain": [
              "array([128.14553784])"
            ]
          },
          "metadata": {
            "tags": []
          },
          "execution_count": 7
        }
      ]
    },
    {
      "cell_type": "code",
      "metadata": {
        "colab": {
          "base_uri": "https://localhost:8080/"
        },
        "id": "JrofZgfIWvAL",
        "outputId": "59bbb987-47c1-4255-c377-80794991d38b"
      },
      "source": [
        "ypred = model02.predict(X_test) \n",
        "ypred.sum() / len(ypred)"
      ],
      "execution_count": 86,
      "outputs": [
        {
          "output_type": "execute_result",
          "data": {
            "text/plain": [
              "929.7900502072296"
            ]
          },
          "metadata": {
            "tags": []
          },
          "execution_count": 86
        }
      ]
    },
    {
      "cell_type": "code",
      "metadata": {
        "colab": {
          "base_uri": "https://localhost:8080/"
        },
        "id": "wyoXJ94iW6ys",
        "outputId": "b70cbf80-9668-4456-e429-26b91ed5e244"
      },
      "source": [
        "# Standard error of estimate (sqrt(MSE))\n",
        "np.sqrt(model02.scale)"
      ],
      "execution_count": 9,
      "outputs": [
        {
          "output_type": "execute_result",
          "data": {
            "text/plain": [
              "87.54136112817613"
            ]
          },
          "metadata": {
            "tags": []
          },
          "execution_count": 9
        }
      ]
    },
    {
      "cell_type": "code",
      "metadata": {
        "colab": {
          "base_uri": "https://localhost:8080/"
        },
        "id": "UKs2jv8GX7Kx",
        "outputId": "b1a6d355-bfda-4911-ff96-d2e8fb42fcb6"
      },
      "source": [
        "# MAE (Mean Absolute Error)\n",
        "import sklearn.metrics as met\n",
        "\n",
        "ytrue = sales_test[['Sales per Visit']]\n",
        "met.mean_absolute_error(y_true = ytrue, y_pred = ypred)"
      ],
      "execution_count": 10,
      "outputs": [
        {
          "output_type": "execute_result",
          "data": {
            "text/plain": [
              "53.38639553029432"
            ]
          },
          "metadata": {
            "tags": []
          },
          "execution_count": 10
        }
      ]
    },
    {
      "cell_type": "markdown",
      "metadata": {
        "id": "6KQI53h7gKjo"
      },
      "source": [
        "### HANDS-ON ANALYSIS\n",
        "### 25\n",
        "Partition data into train and test containing half of records respectively"
      ]
    },
    {
      "cell_type": "code",
      "metadata": {
        "id": "XceT7dapgfdO"
      },
      "source": [
        "from sklearn.model_selection import train_test_split\n",
        "\n",
        "adult = pd.read_csv(folder + '/Adult')\n",
        "\n",
        "adult_train, adult_test = train_test_split(adult, test_size=0.5, random_state = 7)"
      ],
      "execution_count": 258,
      "outputs": []
    },
    {
      "cell_type": "markdown",
      "metadata": {
        "id": "gyuC6B2GTGkx"
      },
      "source": [
        "### 26\n",
        "Run Regression model to predict 'Hours per Week' using 'Age','Education Num' <br> Obtain summary of model \n",
        "<br> Are there any predictor variables that should not be in the model?"
      ]
    },
    {
      "cell_type": "code",
      "metadata": {
        "colab": {
          "base_uri": "https://localhost:8080/",
          "height": 239
        },
        "id": "dUrgEakRTGsb",
        "outputId": "fe0929e6-729c-4ae7-cde1-fe18879ad6dc"
      },
      "source": [
        "X = pd.DataFrame(adult_train[['age', 'education-num']])\n",
        "Y = pd.DataFrame(adult_train[['hours-per-week']])\n",
        "\n",
        "X = sm.add_constant(X)\n",
        "\n",
        "model01 = sm.OLS(Y, X).fit()\n",
        "print(model01.summary()) "
      ],
      "execution_count": 27,
      "outputs": [
        {
          "output_type": "error",
          "ename": "NameError",
          "evalue": "ignored",
          "traceback": [
            "\u001b[0;31m---------------------------------------------------------------------------\u001b[0m",
            "\u001b[0;31mNameError\u001b[0m                                 Traceback (most recent call last)",
            "\u001b[0;32m<ipython-input-27-f10367d13499>\u001b[0m in \u001b[0;36m<module>\u001b[0;34m()\u001b[0m\n\u001b[0;32m----> 1\u001b[0;31m \u001b[0mX\u001b[0m \u001b[0;34m=\u001b[0m \u001b[0mpd\u001b[0m\u001b[0;34m.\u001b[0m\u001b[0mDataFrame\u001b[0m\u001b[0;34m(\u001b[0m\u001b[0madult_train\u001b[0m\u001b[0;34m[\u001b[0m\u001b[0;34m[\u001b[0m\u001b[0;34m'age'\u001b[0m\u001b[0;34m,\u001b[0m \u001b[0;34m'education-num'\u001b[0m\u001b[0;34m]\u001b[0m\u001b[0;34m]\u001b[0m\u001b[0;34m)\u001b[0m\u001b[0;34m\u001b[0m\u001b[0;34m\u001b[0m\u001b[0m\n\u001b[0m\u001b[1;32m      2\u001b[0m \u001b[0mY\u001b[0m \u001b[0;34m=\u001b[0m \u001b[0mpd\u001b[0m\u001b[0;34m.\u001b[0m\u001b[0mDataFrame\u001b[0m\u001b[0;34m(\u001b[0m\u001b[0madult_train\u001b[0m\u001b[0;34m[\u001b[0m\u001b[0;34m[\u001b[0m\u001b[0;34m'hours-per-week'\u001b[0m\u001b[0;34m]\u001b[0m\u001b[0;34m]\u001b[0m\u001b[0;34m)\u001b[0m\u001b[0;34m\u001b[0m\u001b[0;34m\u001b[0m\u001b[0m\n\u001b[1;32m      3\u001b[0m \u001b[0;34m\u001b[0m\u001b[0m\n\u001b[1;32m      4\u001b[0m \u001b[0mX\u001b[0m \u001b[0;34m=\u001b[0m \u001b[0msm\u001b[0m\u001b[0;34m.\u001b[0m\u001b[0madd_constant\u001b[0m\u001b[0;34m(\u001b[0m\u001b[0mX\u001b[0m\u001b[0;34m)\u001b[0m\u001b[0;34m\u001b[0m\u001b[0;34m\u001b[0m\u001b[0m\n\u001b[1;32m      5\u001b[0m \u001b[0;34m\u001b[0m\u001b[0m\n",
            "\u001b[0;31mNameError\u001b[0m: name 'adult_train' is not defined"
          ]
        }
      ]
    },
    {
      "cell_type": "code",
      "metadata": {
        "id": "idh4opM1nTp1"
      },
      "source": [
        "# Both 'Age' and 'Edu-Num' are significant variable to predict 'Hour per Week'"
      ],
      "execution_count": 28,
      "outputs": []
    },
    {
      "cell_type": "markdown",
      "metadata": {
        "id": "XTM-c1PnnoB_"
      },
      "source": [
        "### 27\n",
        "Validate above Model"
      ]
    },
    {
      "cell_type": "code",
      "metadata": {
        "colab": {
          "base_uri": "https://localhost:8080/"
        },
        "id": "DtOkI_e5n5Q0",
        "outputId": "58179c8e-3b9d-48a5-cffc-2171c63c62af"
      },
      "source": [
        "X_test = pd.DataFrame(adult_test[['age', 'education-num']])\n",
        "Y_test = pd.DataFrame(adult_test[['hours-per-week']])\n",
        "\n",
        "X_test = sm.add_constant(X_test)\n",
        "\n",
        "model01_test = sm.OLS(Y_test, X_test).fit()\n",
        "print(model01_test.summary())"
      ],
      "execution_count": 261,
      "outputs": [
        {
          "output_type": "stream",
          "text": [
            "                            OLS Regression Results                            \n",
            "==============================================================================\n",
            "Dep. Variable:         hours-per-week   R-squared:                       0.028\n",
            "Model:                            OLS   Adj. R-squared:                  0.027\n",
            "Method:                 Least Squares   F-statistic:                     177.2\n",
            "Date:                Wed, 28 Jul 2021   Prob (F-statistic):           1.35e-76\n",
            "Time:                        06:07:44   Log-Likelihood:                -48763.\n",
            "No. Observations:               12500   AIC:                         9.753e+04\n",
            "Df Residuals:                   12497   BIC:                         9.755e+04\n",
            "Df Model:                           2                                         \n",
            "Covariance Type:            nonrobust                                         \n",
            "=================================================================================\n",
            "                    coef    std err          t      P>|t|      [0.025      0.975]\n",
            "---------------------------------------------------------------------------------\n",
            "const            31.0673      0.526     59.062      0.000      30.036      32.098\n",
            "age               0.0551      0.008      7.023      0.000       0.040       0.070\n",
            "education-num     0.7301      0.043     17.144      0.000       0.647       0.814\n",
            "==============================================================================\n",
            "Omnibus:                     1050.613   Durbin-Watson:                   2.011\n",
            "Prob(Omnibus):                  0.000   Jarque-Bera (JB):             5647.349\n",
            "Skew:                           0.213   Prob(JB):                         0.00\n",
            "Kurtosis:                       6.265   Cond. No.                         207.\n",
            "==============================================================================\n",
            "\n",
            "Warnings:\n",
            "[1] Standard Errors assume that the covariance matrix of the errors is correctly specified.\n"
          ],
          "name": "stdout"
        }
      ]
    },
    {
      "cell_type": "code",
      "metadata": {
        "id": "XRN20oKJn5Q1"
      },
      "source": [
        "ypred01 = model01.predict(X_test) "
      ],
      "execution_count": 262,
      "outputs": []
    },
    {
      "cell_type": "code",
      "metadata": {
        "colab": {
          "base_uri": "https://localhost:8080/"
        },
        "id": "eWY9Yp-Yn5Q2",
        "outputId": "c6540b0f-514e-43bc-977d-4917fdd7002d"
      },
      "source": [
        "# Standard error of estimate (sqrt(MSE))\n",
        "print('\\n s (root MSE): %.4f' % (np.sqrt(model01.scale)))"
      ],
      "execution_count": 263,
      "outputs": [
        {
          "output_type": "stream",
          "text": [
            "\n",
            " s (root MSE): 12.3137\n"
          ],
          "name": "stdout"
        }
      ]
    },
    {
      "cell_type": "code",
      "metadata": {
        "colab": {
          "base_uri": "https://localhost:8080/"
        },
        "id": "Rqu3TPa3n5Q2",
        "outputId": "7a26809b-625a-4222-b4c8-9e4669f98c97"
      },
      "source": [
        "# MAE (Mean Absolute Error)\n",
        "import sklearn.metrics as met\n",
        "print('\\n MAE : %.4f' % met.mean_absolute_error(y_true = Y_test, y_pred = ypred01))"
      ],
      "execution_count": 264,
      "outputs": [
        {
          "output_type": "stream",
          "text": [
            "\n",
            " MAE : 7.6294\n"
          ],
          "name": "stdout"
        }
      ]
    },
    {
      "cell_type": "code",
      "metadata": {
        "id": "dA_rcZByy6Vs"
      },
      "source": [
        "# Describe"
      ],
      "execution_count": 219,
      "outputs": []
    },
    {
      "cell_type": "markdown",
      "metadata": {
        "id": "nKsbH-5Npx9d"
      },
      "source": [
        "### 28\n",
        "Use the regression equation to complete this sentence: “The estimated Hours per Week equals….”"
      ]
    },
    {
      "cell_type": "code",
      "metadata": {
        "colab": {
          "base_uri": "https://localhost:8080/"
        },
        "id": "0rVUZHzIqSUr",
        "outputId": "15d32171-3c6c-403a-e91d-f8a05e210d49"
      },
      "source": [
        "print('The estimated Hours per Week = \\n%.4f %.4f * (Age) + %.4f * (Education Num)' % (model01.params[0],model01.params[1], model01.params[2]))"
      ],
      "execution_count": 226,
      "outputs": [
        {
          "output_type": "stream",
          "text": [
            "The estimated Hours per Week = \n",
            "31.3236 0.0604 * (Age) + 0.6552 * (Education Num)\n"
          ],
          "name": "stdout"
        }
      ]
    },
    {
      "cell_type": "markdown",
      "metadata": {
        "id": "9eKa28-Hqkyh"
      },
      "source": [
        "### 29\n",
        "Interpret coefficient for 'Age'"
      ]
    },
    {
      "cell_type": "code",
      "metadata": {
        "id": "4kIKGBBKqp8R"
      },
      "source": [
        "# Age influence on Hours per Week slightly and positively"
      ],
      "execution_count": 123,
      "outputs": []
    },
    {
      "cell_type": "markdown",
      "metadata": {
        "id": "A2uJUeM_qqQa"
      },
      "source": [
        "### 30\n",
        "Interpret coefficient for 'Edu Num'"
      ]
    },
    {
      "cell_type": "code",
      "metadata": {
        "id": "iFwE81Xdqt1p"
      },
      "source": [
        "# Edu Num also influence positively more on Hours per Week than Age"
      ],
      "execution_count": 124,
      "outputs": []
    },
    {
      "cell_type": "markdown",
      "metadata": {
        "id": "V7gvMNM7qt-c"
      },
      "source": [
        "### 31\n",
        "Find and interpret value of s"
      ]
    },
    {
      "cell_type": "code",
      "metadata": {
        "colab": {
          "base_uri": "https://localhost:8080/"
        },
        "id": "vndcidp_qlBo",
        "outputId": "ee27f22c-de57-4fc4-e630-83afffbe9a5d"
      },
      "source": [
        "print(\"s (square root of MSE): %.4f \\nThe model's typical prediction error between prediction value and actual value is %.4f hours\" % (np.sqrt(model01.scale), np.sqrt(model01.scale)))"
      ],
      "execution_count": 248,
      "outputs": [
        {
          "output_type": "stream",
          "text": [
            "s (square root of MSE): 12.3137 \n",
            "The model's typical prediction error between prediction value and actual value is 12.3137 hours\n"
          ],
          "name": "stdout"
        }
      ]
    },
    {
      "cell_type": "markdown",
      "metadata": {
        "id": "CoNvpukMq1Z5"
      },
      "source": [
        "### 32\n",
        "Find and interpret adj. R square"
      ]
    },
    {
      "cell_type": "code",
      "metadata": {
        "colab": {
          "base_uri": "https://localhost:8080/"
        },
        "id": "r98WPuLYqlKA",
        "outputId": "cb5fa54e-cff8-4fed-dedc-500fc87e5843"
      },
      "source": [
        "print(\"R_adj : %.4f \\nBased on R_adj, we don't see any corelation between predictor variables\" % (model_test.rsquared_adj))"
      ],
      "execution_count": 234,
      "outputs": [
        {
          "output_type": "stream",
          "text": [
            "R_adj : 0.0274 \n",
            "Based on R_adj, we don't see any corelation between predictor variables\n"
          ],
          "name": "stdout"
        }
      ]
    },
    {
      "cell_type": "markdown",
      "metadata": {
        "id": "fQzwN4VRq_mK"
      },
      "source": [
        "### 33\n",
        "Find MAE_base, MAE_reg \n",
        "<br> Determine whether Regression model outperform the base model"
      ]
    },
    {
      "cell_type": "code",
      "metadata": {
        "colab": {
          "base_uri": "https://localhost:8080/"
        },
        "id": "fzP-5tUhRsg5",
        "outputId": "4fb703e6-7bf5-4137-d630-5bc0fe33d3e3"
      },
      "source": [
        "print('MAE_base : %.4f,\\t MAE_reg : %.4f ' % (\n",
        "    np.mean(abs(Y_test - np.mean(Y_test))),\n",
        "    met.mean_absolute_error(y_true = Y_test, y_pred = ypred)\n",
        "))\n",
        "# Since MAE_base < MAE_reg, Baseline performs better than Regression model"
      ],
      "execution_count": 178,
      "outputs": [
        {
          "output_type": "stream",
          "text": [
            "MAE_base : 7.4805,\t MAE_reg : 7.6294 \n"
          ],
          "name": "stdout"
        }
      ]
    },
    {
      "cell_type": "markdown",
      "metadata": {
        "id": "z-X8gQEbePfW"
      },
      "source": [
        "### 34\n",
        "Using training set, run regression predicting 'Credit Score' based on 'Debt-to-Income Ratio', 'Request Amount' \n",
        "<br> Obtain summary of model\n",
        "<br> Do both predictors belong in the model?"
      ]
    },
    {
      "cell_type": "code",
      "metadata": {
        "colab": {
          "base_uri": "https://localhost:8080/"
        },
        "id": "7cTiRR8dePvh",
        "outputId": "ed27cd57-3ed5-40d0-b266-0f97f74390ea"
      },
      "source": [
        "bank_train = pd.read_csv(folder + '/bank_reg_training')\n",
        "bank_test = pd.read_csv(folder + '/bank_reg_test')\n",
        "\n",
        "X = pd.DataFrame(bank_train[['Debt-to-Income Ratio','Request Amount']])\n",
        "X = sm.add_constant(X)\n",
        "Y = pd.DataFrame(bank_train[['Credit Score']])\n",
        "\n",
        "X_test = pd.DataFrame(bank_test[['Debt-to-Income Ratio','Request Amount']])\n",
        "X_test = sm.add_constant(X_test)\n",
        "Y_test = pd.DataFrame(bank_test[['Credit Score']])\n",
        "\n",
        "model02 = sm.OLS(Y, X).fit()\n",
        "print(model02.summary())"
      ],
      "execution_count": 265,
      "outputs": [
        {
          "output_type": "stream",
          "text": [
            "                            OLS Regression Results                            \n",
            "==============================================================================\n",
            "Dep. Variable:           Credit Score   R-squared:                       0.028\n",
            "Model:                            OLS   Adj. R-squared:                  0.028\n",
            "Method:                 Least Squares   F-statistic:                     156.2\n",
            "Date:                Wed, 28 Jul 2021   Prob (F-statistic):           1.37e-67\n",
            "Time:                        06:08:02   Log-Likelihood:                -59972.\n",
            "No. Observations:               10693   AIC:                         1.199e+05\n",
            "Df Residuals:                   10690   BIC:                         1.200e+05\n",
            "Df Model:                           2                                         \n",
            "Covariance Type:            nonrobust                                         \n",
            "========================================================================================\n",
            "                           coef    std err          t      P>|t|      [0.025      0.975]\n",
            "----------------------------------------------------------------------------------------\n",
            "const                  668.4562      1.336    500.275      0.000     665.837     671.075\n",
            "Debt-to-Income Ratio   -48.1262      4.785    -10.058      0.000     -57.505     -38.747\n",
            "Request Amount           0.0011   6.84e-05     15.727      0.000       0.001       0.001\n",
            "==============================================================================\n",
            "Omnibus:                     1658.575   Durbin-Watson:                   1.991\n",
            "Prob(Omnibus):                  0.000   Jarque-Bera (JB):             2844.250\n",
            "Skew:                          -1.021   Prob(JB):                         0.00\n",
            "Kurtosis:                       4.487   Cond. No.                     1.24e+05\n",
            "==============================================================================\n",
            "\n",
            "Warnings:\n",
            "[1] Standard Errors assume that the covariance matrix of the errors is correctly specified.\n",
            "[2] The condition number is large, 1.24e+05. This might indicate that there are\n",
            "strong multicollinearity or other numerical problems.\n"
          ],
          "name": "stdout"
        }
      ]
    },
    {
      "cell_type": "code",
      "metadata": {
        "id": "hBn5ekBHeP55"
      },
      "source": [
        "# Both predictors belong in the model"
      ],
      "execution_count": 266,
      "outputs": []
    },
    {
      "cell_type": "markdown",
      "metadata": {
        "id": "VfTGnXArgCIf"
      },
      "source": [
        "### 35 \n",
        "Validate Model "
      ]
    },
    {
      "cell_type": "code",
      "metadata": {
        "colab": {
          "base_uri": "https://localhost:8080/"
        },
        "id": "JlHNZxQggCRA",
        "outputId": "95097ebd-445f-4e0c-e8c5-57b4b9221189"
      },
      "source": [
        "model02_test = sm.OLS(Y_test, X_test).fit()\n",
        "print(model02_test.summary())"
      ],
      "execution_count": 267,
      "outputs": [
        {
          "output_type": "stream",
          "text": [
            "                            OLS Regression Results                            \n",
            "==============================================================================\n",
            "Dep. Variable:           Credit Score   R-squared:                       0.038\n",
            "Model:                            OLS   Adj. R-squared:                  0.038\n",
            "Method:                 Least Squares   F-statistic:                     215.4\n",
            "Date:                Wed, 28 Jul 2021   Prob (F-statistic):           1.94e-92\n",
            "Time:                        06:08:04   Log-Likelihood:                -60395.\n",
            "No. Observations:               10775   AIC:                         1.208e+05\n",
            "Df Residuals:                   10772   BIC:                         1.208e+05\n",
            "Df Model:                           2                                         \n",
            "Covariance Type:            nonrobust                                         \n",
            "========================================================================================\n",
            "                           coef    std err          t      P>|t|      [0.025      0.975]\n",
            "----------------------------------------------------------------------------------------\n",
            "const                  665.4987      1.328    501.265      0.000     662.896     668.101\n",
            "Debt-to-Income Ratio   -52.1374      4.826    -10.803      0.000     -61.597     -42.677\n",
            "Request Amount           0.0013   6.85e-05     19.013      0.000       0.001       0.001\n",
            "==============================================================================\n",
            "Omnibus:                     1792.693   Durbin-Watson:                   1.985\n",
            "Prob(Omnibus):                  0.000   Jarque-Bera (JB):             3194.120\n",
            "Skew:                          -1.067   Prob(JB):                         0.00\n",
            "Kurtosis:                       4.600   Cond. No.                     1.25e+05\n",
            "==============================================================================\n",
            "\n",
            "Warnings:\n",
            "[1] Standard Errors assume that the covariance matrix of the errors is correctly specified.\n",
            "[2] The condition number is large, 1.25e+05. This might indicate that there are\n",
            "strong multicollinearity or other numerical problems.\n"
          ],
          "name": "stdout"
        }
      ]
    },
    {
      "cell_type": "code",
      "metadata": {
        "id": "8Ru82s7DuQC4"
      },
      "source": [
        "ypred02 = model02.predict(X_test) "
      ],
      "execution_count": 268,
      "outputs": []
    },
    {
      "cell_type": "code",
      "metadata": {
        "colab": {
          "base_uri": "https://localhost:8080/"
        },
        "id": "73kOhDpauQC5",
        "outputId": "fa86acf4-4bdd-4675-c8c6-04d6036d352d"
      },
      "source": [
        "# Standard error of estimate (sqrt(MSE))\n",
        "print('\\n s (root MSE): %.4f' % (np.sqrt(model02.scale)))"
      ],
      "execution_count": 269,
      "outputs": [
        {
          "output_type": "stream",
          "text": [
            "\n",
            " s (root MSE): 66.0020\n"
          ],
          "name": "stdout"
        }
      ]
    },
    {
      "cell_type": "code",
      "metadata": {
        "colab": {
          "base_uri": "https://localhost:8080/"
        },
        "id": "fWE2B0H_uQC6",
        "outputId": "7261c6fe-8f83-443e-fd9a-5f2533c01523"
      },
      "source": [
        "# MAE (Mean Absolute Error)\n",
        "import sklearn.metrics as met\n",
        "print('\\n MAE : %.4f' % met.mean_absolute_error(y_true = Y_test, y_pred = ypred02))"
      ],
      "execution_count": 270,
      "outputs": [
        {
          "output_type": "stream",
          "text": [
            "\n",
            " MAE : 47.7907\n"
          ],
          "name": "stdout"
        }
      ]
    },
    {
      "cell_type": "markdown",
      "metadata": {
        "id": "dOLU1Ed4gCZQ"
      },
      "source": [
        "### 36\n",
        "Use the regression equation to complete this sentence: “The estimated Credit Score equals….”"
      ]
    },
    {
      "cell_type": "code",
      "metadata": {
        "colab": {
          "base_uri": "https://localhost:8080/"
        },
        "id": "XHlECrUigzMQ",
        "outputId": "7dfd15d8-fa4e-4cd0-b785-25c0204d6f88"
      },
      "source": [
        "print('The estimated Credit Score = \\n%.4f %.4f * (Debt-to-Income Ratio) + %.4f * (Request Amount)' % (model02.params[0],model02.params[1], model02.params[2]))"
      ],
      "execution_count": 271,
      "outputs": [
        {
          "output_type": "stream",
          "text": [
            "The estimated Credit Score = \n",
            "668.4562 -48.1262 * (Debt-to-Income Ratio) + 0.0011 * (Request Amount)\n"
          ],
          "name": "stdout"
        }
      ]
    },
    {
      "cell_type": "markdown",
      "metadata": {
        "id": "xr1Z4gzugzWp"
      },
      "source": [
        "### 37\n",
        "Interpret coefficient for 'Debt-to-Income Ratio'"
      ]
    },
    {
      "cell_type": "code",
      "metadata": {
        "id": "8NtP9BK1lthG"
      },
      "source": [
        "# Negatively Significant predictor"
      ],
      "execution_count": null,
      "outputs": []
    },
    {
      "cell_type": "markdown",
      "metadata": {
        "id": "Z0-TpHj-gzgH"
      },
      "source": [
        "### 38\n",
        "Interpret coefficient for 'Request Amount'"
      ]
    },
    {
      "cell_type": "code",
      "metadata": {
        "id": "qMy54gQHl4i6"
      },
      "source": [
        "# Positively and weakly Significant predictor"
      ],
      "execution_count": 246,
      "outputs": []
    },
    {
      "cell_type": "markdown",
      "metadata": {
        "id": "MjNgV9C6gzuh"
      },
      "source": [
        "### 39\n",
        "Find and interpret value of s"
      ]
    },
    {
      "cell_type": "code",
      "metadata": {
        "colab": {
          "base_uri": "https://localhost:8080/"
        },
        "id": "9erQtxKQtn77",
        "outputId": "c92f9801-c382-4774-aa09-437f6454582f"
      },
      "source": [
        "print(\"s (square root of MSE): %.4f \\nThe model's typical prediction error between prediction value and actual value is %.4f hours\" % (np.sqrt(model02.scale), np.sqrt(model02.scale)))"
      ],
      "execution_count": 272,
      "outputs": [
        {
          "output_type": "stream",
          "text": [
            "s (square root of MSE): 66.0020 \n",
            "The model's typical prediction error between prediction value and actual value is 66.0020 hours\n"
          ],
          "name": "stdout"
        }
      ]
    },
    {
      "cell_type": "markdown",
      "metadata": {
        "id": "0EBGyxxzgz5J"
      },
      "source": [
        "### 40\n",
        "Find and interpret R_adj"
      ]
    },
    {
      "cell_type": "code",
      "metadata": {
        "colab": {
          "base_uri": "https://localhost:8080/"
        },
        "id": "26JkK3rmtz6D",
        "outputId": "4d43ee42-33f1-4549-a371-1c2faae46e3c"
      },
      "source": [
        "print(\"R_adj : %.4f \\nBased on R_adj, we don't see any corelation between predictor variables\" % (model02_test.rsquared_adj))"
      ],
      "execution_count": 273,
      "outputs": [
        {
          "output_type": "stream",
          "text": [
            "R_adj : 0.0383 \n",
            "Based on R_adj, we don't see any corelation between predictor variables\n"
          ],
          "name": "stdout"
        }
      ]
    },
    {
      "cell_type": "markdown",
      "metadata": {
        "id": "uYO8mfFvkw5F"
      },
      "source": [
        "### 41\n",
        "Find MAE_base, MAE_reg\n",
        "<br> Determine whether Regression model outperform Baseline model "
      ]
    },
    {
      "cell_type": "code",
      "metadata": {
        "colab": {
          "base_uri": "https://localhost:8080/"
        },
        "id": "dM-KPRD7t26T",
        "outputId": "8adab28e-d093-4915-99a7-d0b44ac32430"
      },
      "source": [
        "print('MAE_base : %.4f,\\t MAE_reg : %.4f ' % (\n",
        "    np.mean(abs(Y_test - np.mean(Y_test))),\n",
        "    met.mean_absolute_error(y_true = Y_test, y_pred = ypred02)\n",
        "))\n",
        "# Since MAE_base > MAE_reg, Regression model performs better than baseline model"
      ],
      "execution_count": 275,
      "outputs": [
        {
          "output_type": "stream",
          "text": [
            "MAE_base : 48.6002,\t MAE_reg : 47.7907 \n"
          ],
          "name": "stdout"
        }
      ]
    },
    {
      "cell_type": "markdown",
      "metadata": {
        "id": "y9pdFpvVkxVC"
      },
      "source": [
        "### 42\n",
        "Construct Regression model predicting 'Interest' using 'Request amount'\n",
        "<br> Obtain summary of model"
      ]
    },
    {
      "cell_type": "code",
      "metadata": {
        "colab": {
          "base_uri": "https://localhost:8080/"
        },
        "id": "NN_Yr4cWu01d",
        "outputId": "3b17e62e-bbdd-4815-e370-2d13b1f70192"
      },
      "source": [
        "bank_train = pd.read_csv(folder + '/bank_reg_training')\n",
        "bank_test = pd.read_csv(folder + '/bank_reg_test')\n",
        "\n",
        "X = pd.DataFrame(bank_train[['Request Amount']])\n",
        "X = sm.add_constant(X)\n",
        "Y = pd.DataFrame(bank_train[['Interest']])\n",
        "\n",
        "#X_test = pd.DataFrame(bank_test[['Request Amount']])\n",
        "#X_test = sm.add_constant(X_test)\n",
        "#Y_test = pd.DataFrame(bank_test[['Interest']])\n",
        "\n",
        "model03 = sm.OLS(Y, X).fit()\n",
        "print(model03.summary())"
      ],
      "execution_count": 277,
      "outputs": [
        {
          "output_type": "stream",
          "text": [
            "                            OLS Regression Results                            \n",
            "==============================================================================\n",
            "Dep. Variable:               Interest   R-squared:                       1.000\n",
            "Model:                            OLS   Adj. R-squared:                  1.000\n",
            "Method:                 Least Squares   F-statistic:                 8.508e+32\n",
            "Date:                Wed, 28 Jul 2021   Prob (F-statistic):               0.00\n",
            "Time:                        06:11:11   Log-Likelihood:             2.5131e+05\n",
            "No. Observations:               10693   AIC:                        -5.026e+05\n",
            "Df Residuals:                   10691   BIC:                        -5.026e+05\n",
            "Df Model:                           1                                         \n",
            "Covariance Type:            nonrobust                                         \n",
            "==================================================================================\n",
            "                     coef    std err          t      P>|t|      [0.025      0.975]\n",
            "----------------------------------------------------------------------------------\n",
            "const          -4.558e-12   2.52e-13    -18.100      0.000   -5.05e-12   -4.06e-12\n",
            "Request Amount     0.4500   1.54e-17   2.92e+16      0.000       0.450       0.450\n",
            "==============================================================================\n",
            "Omnibus:                     1009.164   Durbin-Watson:                   0.369\n",
            "Prob(Omnibus):                  0.000   Jarque-Bera (JB):             1302.032\n",
            "Skew:                           0.847   Prob(JB):                    1.85e-283\n",
            "Kurtosis:                       2.776   Cond. No.                     2.83e+04\n",
            "==============================================================================\n",
            "\n",
            "Warnings:\n",
            "[1] Standard Errors assume that the covariance matrix of the errors is correctly specified.\n",
            "[2] The condition number is large, 2.83e+04. This might indicate that there are\n",
            "strong multicollinearity or other numerical problems.\n"
          ],
          "name": "stdout"
        }
      ]
    },
    {
      "cell_type": "markdown",
      "metadata": {
        "id": "q4h8QnZykxgR"
      },
      "source": [
        "### 43\n",
        "Explain what is unusal with the results from previous "
      ]
    },
    {
      "cell_type": "code",
      "metadata": {
        "id": "hBN1P3tIu1cY"
      },
      "source": [
        "#It is unusual that R is equal to 1, which means they are 100% correlated with each other. "
      ],
      "execution_count": 290,
      "outputs": []
    },
    {
      "cell_type": "markdown",
      "metadata": {
        "id": "fcFyPmfmlW5p"
      },
      "source": [
        "### 44\n",
        "Construct Scatter plot of 'Interest' against 'Request amount'\n",
        "<br> Describe relationship\n",
        "<br> Explain how the relationship explains usual results from the regression model"
      ]
    },
    {
      "cell_type": "code",
      "metadata": {
        "colab": {
          "base_uri": "https://localhost:8080/",
          "height": 266
        },
        "id": "g4Wn-Df7lWwL",
        "outputId": "b3f8b888-527d-4b8d-cfe5-95b8664260a4"
      },
      "source": [
        "import matplotlib.pyplot as plt\n",
        "\n",
        "plt.scatter(X[['Request Amount']], Y)\n",
        "plt.show()"
      ],
      "execution_count": 289,
      "outputs": [
        {
          "output_type": "display_data",
          "data": {
            "image/png": "[encoded data removed]",
            "text/plain": [
              "<Figure size 432x288 with 1 Axes>"
            ]
          },
          "metadata": {
            "tags": [],
            "needs_background": "light"
          }
        }
      ]
    },
    {
      "cell_type": "code",
      "metadata": {
        "id": "6csSxRDqwO0v"
      },
      "source": [
        "# Describe"
      ],
      "execution_count": 291,
      "outputs": []
    },
    {
      "cell_type": "markdown",
      "metadata": {
        "id": "747kLqtJTG3N"
      },
      "source": [
        "### CH 12 DIMENSION REDUCTION\n",
        "### 12.3.1 Identify Multicollinearity"
      ]
    },
    {
      "cell_type": "code",
      "metadata": {
        "colab": {
          "base_uri": "https://localhost:8080/",
          "height": 462
        },
        "id": "K9OfJ3gKTVDH",
        "outputId": "f3efd9cb-1a55-4ab0-9e66-a6884d94f451"
      },
      "source": [
        "import pandas as pd\n",
        "import statsmodels.api as sm\n",
        "import statsmodels.stats.outliers_influence as inf\n",
        "cereals = pd.read_csv(folder + '/cereals.CSV')\n",
        "\n",
        "X = pd.DataFrame(cereals[['Sugars','Fiber','Potass']])\n",
        "\n",
        "pd.plotting.scatter_matrix(X)"
      ],
      "execution_count": 27,
      "outputs": [
        {
          "output_type": "execute_result",
          "data": {
            "text/plain": [
              "array([[<matplotlib.axes._subplots.AxesSubplot object at 0x7fd7d435fdd0>,\n",
              "        <matplotlib.axes._subplots.AxesSubplot object at 0x7fd7cdc644d0>,\n",
              "        <matplotlib.axes._subplots.AxesSubplot object at 0x7fd7cdc2bb50>],\n",
              "       [<matplotlib.axes._subplots.AxesSubplot object at 0x7fd7cdbea210>,\n",
              "        <matplotlib.axes._subplots.AxesSubplot object at 0x7fd7cdb9d890>,\n",
              "        <matplotlib.axes._subplots.AxesSubplot object at 0x7fd7cdb50f10>],\n",
              "       [<matplotlib.axes._subplots.AxesSubplot object at 0x7fd7cdb135d0>,\n",
              "        <matplotlib.axes._subplots.AxesSubplot object at 0x7fd7cdb48c50>,\n",
              "        <matplotlib.axes._subplots.AxesSubplot object at 0x7fd7cdad2dd0>]],\n",
              "      dtype=object)"
            ]
          },
          "metadata": {
            "tags": []
          },
          "execution_count": 27
        },
        {
          "output_type": "display_data",
          "data": {
            "image/png": "[encoded data removed]",
            "text/plain": [
              "<Figure size 432x288 with 9 Axes>"
            ]
          },
          "metadata": {
            "tags": [],
            "needs_background": "light"
          }
        }
      ]
    },
    {
      "cell_type": "code",
      "metadata": {
        "colab": {
          "base_uri": "https://localhost:8080/"
        },
        "id": "-qB9t2kBp3KK",
        "outputId": "f03214b8-9869-4d0f-a1ac-3f746db690a2"
      },
      "source": [
        "# VIF \n",
        "X = X.dropna() # remove missing value\n",
        "X = sm.add_constant(X)\n",
        "\n",
        "[inf.variance_inflation_factor(X.values,i) for i in range(X.shape[1])]"
      ],
      "execution_count": 28,
      "outputs": [
        {
          "output_type": "execute_result",
          "data": {
            "text/plain": [
              "[5.7490936686975544, 1.158760830266874, 6.8500495939437975, 6.693981514266847]"
            ]
          },
          "metadata": {
            "tags": []
          },
          "execution_count": 28
        }
      ]
    },
    {
      "cell_type": "markdown",
      "metadata": {
        "id": "1MuxhSkcf-sZ"
      },
      "source": [
        "### 12.10 Perform Principal Components Analysis (PCA)"
      ]
    },
    {
      "cell_type": "code",
      "metadata": {
        "colab": {
          "base_uri": "https://localhost:8080/",
          "height": 204
        },
        "id": "FDhOhsZ2uGwE",
        "outputId": "92a49d11-6347-438f-d3a4-194152225f71"
      },
      "source": [
        "import pandas as pd\n",
        "import numpy as np\n",
        "from sklearn.preprocessing import StandardScaler\n",
        "from sklearn.decomposition import PCA\n",
        "\n",
        "clothes_train = pd.read_csv(folder + '/clothing_store_PCA_training')\n",
        "clothes_test = pd.read_csv(folder + '/clothing_store_PCA_test')\n",
        "\n",
        "X = clothes_train.drop('Sales per Visit', 1)\n",
        "X.corr()"
      ],
      "execution_count": 29,
      "outputs": [
        {
          "output_type": "execute_result",
          "data": {
            "text/html": [
              "<div>\n",
              "<style scoped>\n",
              "    .dataframe tbody tr th:only-of-type {\n",
              "        vertical-align: middle;\n",
              "    }\n",
              "\n",
              "    .dataframe tbody tr th {\n",
              "        vertical-align: top;\n",
              "    }\n",
              "\n",
              "    .dataframe thead th {\n",
              "        text-align: right;\n",
              "    }\n",
              "</style>\n",
              "<table border=\"1\" class=\"dataframe\">\n",
              "  <thead>\n",
              "    <tr style=\"text-align: right;\">\n",
              "      <th></th>\n",
              "      <th>Days since Purchase</th>\n",
              "      <th>Purchase Visits</th>\n",
              "      <th>Days on File</th>\n",
              "      <th>Days between Purchases</th>\n",
              "      <th>Diff Items Purchased</th>\n",
              "    </tr>\n",
              "  </thead>\n",
              "  <tbody>\n",
              "    <tr>\n",
              "      <th>Days since Purchase</th>\n",
              "      <td>1.000000</td>\n",
              "      <td>-0.439821</td>\n",
              "      <td>-0.158718</td>\n",
              "      <td>0.573090</td>\n",
              "      <td>-0.378658</td>\n",
              "    </tr>\n",
              "    <tr>\n",
              "      <th>Purchase Visits</th>\n",
              "      <td>-0.439821</td>\n",
              "      <td>1.000000</td>\n",
              "      <td>0.363729</td>\n",
              "      <td>-0.453024</td>\n",
              "      <td>0.821257</td>\n",
              "    </tr>\n",
              "    <tr>\n",
              "      <th>Days on File</th>\n",
              "      <td>-0.158718</td>\n",
              "      <td>0.363729</td>\n",
              "      <td>1.000000</td>\n",
              "      <td>0.202890</td>\n",
              "      <td>0.302624</td>\n",
              "    </tr>\n",
              "    <tr>\n",
              "      <th>Days between Purchases</th>\n",
              "      <td>0.573090</td>\n",
              "      <td>-0.453024</td>\n",
              "      <td>0.202890</td>\n",
              "      <td>1.000000</td>\n",
              "      <td>-0.371018</td>\n",
              "    </tr>\n",
              "    <tr>\n",
              "      <th>Diff Items Purchased</th>\n",
              "      <td>-0.378658</td>\n",
              "      <td>0.821257</td>\n",
              "      <td>0.302624</td>\n",
              "      <td>-0.371018</td>\n",
              "      <td>1.000000</td>\n",
              "    </tr>\n",
              "  </tbody>\n",
              "</table>\n",
              "</div>"
            ],
            "text/plain": [
              "                        Days since Purchase  ...  Diff Items Purchased\n",
              "Days since Purchase                1.000000  ...             -0.378658\n",
              "Purchase Visits                   -0.439821  ...              0.821257\n",
              "Days on File                      -0.158718  ...              0.302624\n",
              "Days between Purchases             0.573090  ...             -0.371018\n",
              "Diff Items Purchased              -0.378658  ...              1.000000\n",
              "\n",
              "[5 rows x 5 columns]"
            ]
          },
          "metadata": {
            "tags": []
          },
          "execution_count": 29
        }
      ]
    },
    {
      "cell_type": "code",
      "metadata": {
        "colab": {
          "base_uri": "https://localhost:8080/"
        },
        "id": "stmfkkEze7Qk",
        "outputId": "e8dcf05b-29e8-4d95-f198-9f1feb67084e"
      },
      "source": [
        "pca01 = PCA(n_components=5)\n",
        "principComp = pca01.fit_transform(X)\n",
        "\n",
        "pca01.explained_variance_ratio_"
      ],
      "execution_count": 30,
      "outputs": [
        {
          "output_type": "execute_result",
          "data": {
            "text/plain": [
              "array([5.53607084e-01, 3.69251913e-01, 7.02843307e-02, 6.70922451e-03,\n",
              "       1.47447868e-04])"
            ]
          },
          "metadata": {
            "tags": []
          },
          "execution_count": 30
        }
      ]
    },
    {
      "cell_type": "code",
      "metadata": {
        "colab": {
          "base_uri": "https://localhost:8080/"
        },
        "id": "4nMOnpNRe7g0",
        "outputId": "3b97ab2e-c3cb-4693-91d8-32b42dc66a20"
      },
      "source": [
        "np.cumsum(pca01.explained_variance_ratio_)"
      ],
      "execution_count": 31,
      "outputs": [
        {
          "output_type": "execute_result",
          "data": {
            "text/plain": [
              "array([0.55360708, 0.922859  , 0.99314333, 0.99985255, 1.        ])"
            ]
          },
          "metadata": {
            "tags": []
          },
          "execution_count": 31
        }
      ]
    },
    {
      "cell_type": "markdown",
      "metadata": {
        "id": "sTNmohJ0taIz"
      },
      "source": [
        "### HANDS-ON ANALYSIS\n",
        "### 21\n",
        "Standardize or Normalize Predictors : Sugars, Fiber, Potass"
      ]
    },
    {
      "cell_type": "code",
      "metadata": {
        "colab": {
          "base_uri": "https://localhost:8080/",
          "height": 221
        },
        "id": "kPKh-JwkuGDx",
        "outputId": "5649877c-8acf-46c5-b70d-93afa1f19ba5"
      },
      "source": [
        "from google.colab import drive\n",
        "drive.mount('/gdrive')\n",
        "folder = \"/gdrive/My Drive/Python Practice/Datasets\"\n",
        "\n",
        "import pandas as pd\n",
        "import numpy as np\n",
        "from scipy import stats\n",
        "import statsmodels.api as sm\n",
        "import statsmodels.stats.outliers_influence as inf\n",
        "#PCA\n",
        "from sklearn.preprocessing import StandardScaler\n",
        "from sklearn.decomposition import PCA\n",
        "\n",
        "cereals = pd.read_csv(folder + '/cereals.CSV')\n",
        "cereals = cereals.dropna()\n",
        "#np.isnan(cereals['Sugars']).sum()\n",
        "#np.isnan(cereals['Fiber']).sum()\n",
        "#np.isnan(cereals['Potass']).sum()\n",
        "\n",
        "cols = ['Sugars', 'Fiber', 'Potass']\n",
        "cereals_z = pd.DataFrame(stats.zscore(cereals[cols]), columns=cols)\n",
        "cereals_z.head()"
      ],
      "execution_count": 34,
      "outputs": [
        {
          "output_type": "stream",
          "text": [
            "Drive already mounted at /gdrive; to attempt to forcibly remount, call drive.mount(\"/gdrive\", force_remount=True).\n"
          ],
          "name": "stdout"
        },
        {
          "output_type": "execute_result",
          "data": {
            "text/html": [
              "<div>\n",
              "<style scoped>\n",
              "    .dataframe tbody tr th:only-of-type {\n",
              "        vertical-align: middle;\n",
              "    }\n",
              "\n",
              "    .dataframe tbody tr th {\n",
              "        vertical-align: top;\n",
              "    }\n",
              "\n",
              "    .dataframe thead th {\n",
              "        text-align: right;\n",
              "    }\n",
              "</style>\n",
              "<table border=\"1\" class=\"dataframe\">\n",
              "  <thead>\n",
              "    <tr style=\"text-align: right;\">\n",
              "      <th></th>\n",
              "      <th>Sugars</th>\n",
              "      <th>Fiber</th>\n",
              "      <th>Potass</th>\n",
              "    </tr>\n",
              "  </thead>\n",
              "  <tbody>\n",
              "    <tr>\n",
              "      <th>0</th>\n",
              "      <td>-0.255940</td>\n",
              "      <td>3.250706</td>\n",
              "      <td>2.578001</td>\n",
              "    </tr>\n",
              "    <tr>\n",
              "      <th>1</th>\n",
              "      <td>0.206001</td>\n",
              "      <td>-0.072986</td>\n",
              "      <td>0.518288</td>\n",
              "    </tr>\n",
              "    <tr>\n",
              "      <th>2</th>\n",
              "      <td>-0.486911</td>\n",
              "      <td>2.835245</td>\n",
              "      <td>3.146198</td>\n",
              "    </tr>\n",
              "    <tr>\n",
              "      <th>3</th>\n",
              "      <td>-1.641763</td>\n",
              "      <td>4.912553</td>\n",
              "      <td>3.288247</td>\n",
              "    </tr>\n",
              "    <tr>\n",
              "      <th>4</th>\n",
              "      <td>0.667942</td>\n",
              "      <td>-0.280717</td>\n",
              "      <td>-0.405032</td>\n",
              "    </tr>\n",
              "  </tbody>\n",
              "</table>\n",
              "</div>"
            ],
            "text/plain": [
              "     Sugars     Fiber    Potass\n",
              "0 -0.255940  3.250706  2.578001\n",
              "1  0.206001 -0.072986  0.518288\n",
              "2 -0.486911  2.835245  3.146198\n",
              "3 -1.641763  4.912553  3.288247\n",
              "4  0.667942 -0.280717 -0.405032"
            ]
          },
          "metadata": {
            "tags": []
          },
          "execution_count": 34
        }
      ]
    },
    {
      "cell_type": "markdown",
      "metadata": {
        "id": "-QCSuHT54V5s"
      },
      "source": [
        "### 22\n",
        "Construct correlation matrix for 'Sugars','Fiber','Potass'\n",
        "<br> Which variables are highly correlated?"
      ]
    },
    {
      "cell_type": "code",
      "metadata": {
        "colab": {
          "base_uri": "https://localhost:8080/",
          "height": 738
        },
        "id": "vje0wHPw51P0",
        "outputId": "096ad767-e672-46f3-fedc-5bf1338fca0d"
      },
      "source": [
        "X = pd.DataFrame(cereals[cols], columns = cols)\n",
        "Y = pd.DataFrame(cereals[['Rating']])\n",
        "\n",
        "pd.plotting.scatter_matrix(X, figsize=(10,10))\n",
        "X.corr()\n",
        "#Potass and Fiber are highly correlated"
      ],
      "execution_count": 35,
      "outputs": [
        {
          "output_type": "execute_result",
          "data": {
            "text/html": [
              "<div>\n",
              "<style scoped>\n",
              "    .dataframe tbody tr th:only-of-type {\n",
              "        vertical-align: middle;\n",
              "    }\n",
              "\n",
              "    .dataframe tbody tr th {\n",
              "        vertical-align: top;\n",
              "    }\n",
              "\n",
              "    .dataframe thead th {\n",
              "        text-align: right;\n",
              "    }\n",
              "</style>\n",
              "<table border=\"1\" class=\"dataframe\">\n",
              "  <thead>\n",
              "    <tr style=\"text-align: right;\">\n",
              "      <th></th>\n",
              "      <th>Sugars</th>\n",
              "      <th>Fiber</th>\n",
              "      <th>Potass</th>\n",
              "    </tr>\n",
              "  </thead>\n",
              "  <tbody>\n",
              "    <tr>\n",
              "      <th>Sugars</th>\n",
              "      <td>1.000000</td>\n",
              "      <td>-0.150949</td>\n",
              "      <td>0.001414</td>\n",
              "    </tr>\n",
              "    <tr>\n",
              "      <th>Fiber</th>\n",
              "      <td>-0.150949</td>\n",
              "      <td>1.000000</td>\n",
              "      <td>0.911504</td>\n",
              "    </tr>\n",
              "    <tr>\n",
              "      <th>Potass</th>\n",
              "      <td>0.001414</td>\n",
              "      <td>0.911504</td>\n",
              "      <td>1.000000</td>\n",
              "    </tr>\n",
              "  </tbody>\n",
              "</table>\n",
              "</div>"
            ],
            "text/plain": [
              "          Sugars     Fiber    Potass\n",
              "Sugars  1.000000 -0.150949  0.001414\n",
              "Fiber  -0.150949  1.000000  0.911504\n",
              "Potass  0.001414  0.911504  1.000000"
            ]
          },
          "metadata": {
            "tags": []
          },
          "execution_count": 35
        },
        {
          "output_type": "display_data",
          "data": {
            "image/png": "[encoded data removed]",
            "text/plain": [
              "<Figure size 720x720 with 9 Axes>"
            ]
          },
          "metadata": {
            "tags": [],
            "needs_background": "light"
          }
        }
      ]
    },
    {
      "cell_type": "markdown",
      "metadata": {
        "id": "5r1gLhe454Xl"
      },
      "source": [
        "### 23\n",
        "Build a Regression model to estimated 'Rating' Based on 'Sugars','Fiber','Potass'\n",
        "<br> Obtain VIF \n",
        "<br> Which VIF indicates Multicollinearity problem?"
      ]
    },
    {
      "cell_type": "code",
      "metadata": {
        "colab": {
          "base_uri": "https://localhost:8080/"
        },
        "id": "hgine0vT8olc",
        "outputId": "e0583eec-af02-4f91-c4af-6543b738fcee"
      },
      "source": [
        "X = sm.add_constant(cereals[cols])\n",
        "Y = pd.DataFrame(cereals[['Rating']])\n",
        "Y.index = X.index\n",
        "\n",
        "m01 = sm.OLS(Y, X).fit()\n",
        "print(m01.summary()) "
      ],
      "execution_count": 36,
      "outputs": [
        {
          "output_type": "stream",
          "text": [
            "                            OLS Regression Results                            \n",
            "==============================================================================\n",
            "Dep. Variable:                 Rating   R-squared:                       0.827\n",
            "Model:                            OLS   Adj. R-squared:                  0.820\n",
            "Method:                 Least Squares   F-statistic:                     111.5\n",
            "Date:                Fri, 30 Jul 2021   Prob (F-statistic):           1.32e-26\n",
            "Time:                        01:54:14   Log-Likelihood:                -235.05\n",
            "No. Observations:                  74   AIC:                             478.1\n",
            "Df Residuals:                      70   BIC:                             487.3\n",
            "Df Model:                           3                                         \n",
            "Covariance Type:            nonrobust                                         \n",
            "==============================================================================\n",
            "                 coef    std err          t      P>|t|      [0.025      0.975]\n",
            "------------------------------------------------------------------------------\n",
            "const         52.8261      1.662     31.794      0.000      49.512      56.140\n",
            "Sugars        -2.0688      0.172    -12.008      0.000      -2.412      -1.725\n",
            "Fiber          4.3337      0.753      5.751      0.000       2.831       5.837\n",
            "Potass        -0.0526      0.025     -2.064      0.043      -0.103      -0.002\n",
            "==============================================================================\n",
            "Omnibus:                        6.769   Durbin-Watson:                   1.590\n",
            "Prob(Omnibus):                  0.034   Jarque-Bera (JB):                6.395\n",
            "Skew:                           0.714   Prob(JB):                       0.0409\n",
            "Kurtosis:                       3.188   Cond. No.                         292.\n",
            "==============================================================================\n",
            "\n",
            "Warnings:\n",
            "[1] Standard Errors assume that the covariance matrix of the errors is correctly specified.\n"
          ],
          "name": "stdout"
        }
      ]
    },
    {
      "cell_type": "code",
      "metadata": {
        "colab": {
          "base_uri": "https://localhost:8080/"
        },
        "id": "UIbJb9K19Kql",
        "outputId": "686b63ca-4273-44c5-cfaa-2af135340773"
      },
      "source": [
        "# VIF \n",
        "[inf.variance_inflation_factor(X.values,i) for i in range(X.shape[1])]\n",
        "# Since VIF of Fiber, Potass > 5, it has moderate multicollinearity"
      ],
      "execution_count": 37,
      "outputs": [
        {
          "output_type": "execute_result",
          "data": {
            "text/plain": [
              "[5.7490936686975544, 1.158760830266874, 6.8500495939437975, 6.693981514266847]"
            ]
          },
          "metadata": {
            "tags": []
          },
          "execution_count": 37
        }
      ]
    },
    {
      "cell_type": "markdown",
      "metadata": {
        "id": "n9JCSu_Z-gj9"
      },
      "source": [
        "### 24 \n",
        "Run PCA using varimax rotation\n",
        "<br> What percent of variability is explained by one, two, three components? "
      ]
    },
    {
      "cell_type": "code",
      "metadata": {
        "id": "VOE2sg9sNwLn"
      },
      "source": [
        "!pip install factor-analyzer"
      ],
      "execution_count": null,
      "outputs": []
    },
    {
      "cell_type": "code",
      "metadata": {
        "colab": {
          "base_uri": "https://localhost:8080/"
        },
        "id": "1VAy4wkWMNcE",
        "outputId": "52e8222f-7e1e-496b-e4f7-ee82c01fadec"
      },
      "source": [
        "# varimax rotation\n",
        "\n",
        "from factor_analyzer import FactorAnalyzer\n",
        "fa = FactorAnalyzer(n_factors=3, method='principal', rotation=\"varimax\")\n",
        "fa.fit(cereals[cols])\n",
        "\n",
        "#print(fa.loadings_.round(4))       # meaning?    ex) 1st row : [-0.0278  0.9995 -0.0149] means that Component 1 contains Fiber factor (0.9995 > 0)\n",
        "#fa.get_eigenvalues()               # meaning?\n",
        "\n",
        "fa.get_factor_variance()            # 1st row : eigenvalue / 2nd row : variance per each factor / 3rd row : cumulative variance per each factor\n",
        "\n",
        "# One component explains 63.6 % of variability\n",
        "# Two Components explain 97.4% of variability "
      ],
      "execution_count": 90,
      "outputs": [
        {
          "output_type": "execute_result",
          "data": {
            "text/plain": [
              "(array([1.90760614, 1.01431446, 0.0780794 ]),\n",
              " array([0.63586871, 0.33810482, 0.02602647]),\n",
              " array([0.63586871, 0.97397353, 1.        ]))"
            ]
          },
          "metadata": {
            "tags": []
          },
          "execution_count": 90
        }
      ]
    },
    {
      "cell_type": "code",
      "metadata": {
        "colab": {
          "base_uri": "https://localhost:8080/"
        },
        "id": "An5Oi1ZN_gvS",
        "outputId": "43469243-1a12-4851-8078-9f42a2ac4a41"
      },
      "source": [
        "#no rotation\n",
        "\n",
        "X = pd.DataFrame(cereals[cols], columns = cols)\n",
        "Y = pd.DataFrame(cereals[['Rating']])\n",
        "\n",
        "pca01 = PCA(n_components=3)\n",
        "principComp = pca01.fit_transform(X)    # principComp meaning ?\n",
        "\n",
        "print(pca01.explained_variance_ratio_)              # variability per component 1,2,3\n",
        "print(np.cumsum(pca01.explained_variance_ratio_))   # cumulative variability\n",
        "\n",
        "# Component 1 explains 99 % of variability"
      ],
      "execution_count": 85,
      "outputs": [
        {
          "output_type": "stream",
          "text": [
            "[9.96039682e-01 3.79192896e-03 1.68389061e-04]\n",
            "[0.99603968 0.99983161 1.        ]\n"
          ],
          "name": "stdout"
        }
      ]
    },
    {
      "cell_type": "markdown",
      "metadata": {
        "id": "Yp5cOzv698Wn"
      },
      "source": [
        "### 25\n",
        "Make a plot of eigenvalues of three components\n",
        "<br> Using eigen value criterion, how many components would you retain? "
      ]
    },
    {
      "cell_type": "code",
      "metadata": {
        "colab": {
          "base_uri": "https://localhost:8080/",
          "height": 279
        },
        "id": "B2vditHUJn4E",
        "outputId": "3abb6b33-465c-4038-e336-7c5fb6030ec1"
      },
      "source": [
        "import matplotlib.pyplot as plt\n",
        "\n",
        "cov_mat = np.cov(cereals_z, rowvar=False)\n",
        "evals = np.linalg.eigvals(cov_mat)              # eigen value of covariance matrix... meaning?\n",
        "comp = [1,2,3]\n",
        "\n",
        "plt.plot(comp, evals, color='black')\n",
        "plt.xlabel(\"Component\")\n",
        "plt.ylabel(\"Eigenvalues\")\n",
        "plt.xticks(np.arange(1,4,1))\n",
        "plt.show()"
      ],
      "execution_count": 205,
      "outputs": [
        {
          "output_type": "display_data",
          "data": {
            "image/png": "[encoded data removed]",
            "text/plain": [
              "<Figure size 432x288 with 1 Axes>"
            ]
          },
          "metadata": {
            "tags": [],
            "needs_background": "light"
          }
        }
      ]
    },
    {
      "cell_type": "markdown",
      "metadata": {
        "id": "0sGpp_Kw-jR1"
      },
      "source": [
        "### 26\n",
        "Say we want to explain at least 70% of variability.\n",
        "<br> How many components would you retain?"
      ]
    },
    {
      "cell_type": "code",
      "metadata": {
        "colab": {
          "base_uri": "https://localhost:8080/"
        },
        "id": "wzbmJ8T4KJ1k",
        "outputId": "e023eee3-e0dc-4f53-8031-a31cb33676ce"
      },
      "source": [
        "# eigenvalue from numpy package \n",
        "cov_mat = np.cov(X, rowvar=False)\n",
        "evals = np.linalg.eigvals(cov_mat)  \n",
        "evals\n",
        "# Based on Eigenvalue Criterion (if eigen > 1, would retain that component) , I would retain ONE COMPONENT  "
      ],
      "execution_count": 92,
      "outputs": [
        {
          "output_type": "execute_result",
          "data": {
            "text/plain": [
              "array([1.91441682e+01, 8.50139481e-01, 5.02866785e+03])"
            ]
          },
          "metadata": {
            "tags": []
          },
          "execution_count": 92
        }
      ]
    },
    {
      "cell_type": "code",
      "metadata": {
        "colab": {
          "base_uri": "https://localhost:8080/"
        },
        "id": "4thwKQYv_9uW",
        "outputId": "98cd5da7-9b29-4764-eb2f-13a03f3bf42f"
      },
      "source": [
        "# eigenvalue from Factor Analyzer package\n",
        "fa.get_eigenvalues()\n",
        "# Based on Eigenvalue Criterion, TWO COMPONENTS will be retained"
      ],
      "execution_count": 93,
      "outputs": [
        {
          "output_type": "execute_result",
          "data": {
            "text/plain": [
              "(array([1.92369129, 1.00045582, 0.07585289]),\n",
              " array([1.92369129, 1.00045582, 0.07585289]))"
            ]
          },
          "metadata": {
            "tags": []
          },
          "execution_count": 93
        }
      ]
    },
    {
      "cell_type": "markdown",
      "metadata": {
        "id": "AFMt8cs1-w2k"
      },
      "source": [
        "### 27\n",
        "Run PCA using varimax rotation and two components.\n",
        "<br> What percent of variability do two components explain?"
      ]
    },
    {
      "cell_type": "code",
      "metadata": {
        "colab": {
          "base_uri": "https://localhost:8080/"
        },
        "id": "jWHn8DZmB4V2",
        "outputId": "60dfd5b1-7f75-492f-f984-7601138d9794"
      },
      "source": [
        "# Using two components, run PCA\n",
        "\n",
        "from factor_analyzer import FactorAnalyzer\n",
        "\n",
        "fa = FactorAnalyzer(n_factors=2, method='principal', rotation=\"varimax\")\n",
        "fa.fit(cereals[cols])\n",
        "\n",
        "fa.get_factor_variance()  \n",
        "# Two components explain 97.4% of variability "
      ],
      "execution_count": 98,
      "outputs": [
        {
          "output_type": "execute_result",
          "data": {
            "text/plain": [
              "(array([1.90832867, 1.01581844]),\n",
              " array([0.63610956, 0.33860615]),\n",
              " array([0.63610956, 0.9747157 ]))"
            ]
          },
          "metadata": {
            "tags": []
          },
          "execution_count": 98
        }
      ]
    },
    {
      "cell_type": "code",
      "metadata": {
        "colab": {
          "base_uri": "https://localhost:8080/"
        },
        "id": "aFPYlVAyCg-M",
        "outputId": "7645ffb8-aedf-4891-955f-6b1c468bb208"
      },
      "source": [
        "#no rotation\n",
        "pca01 = PCA(n_components=2)\n",
        "principComp = pca01.fit_transform(X)\n",
        "\n",
        "pca01.explained_variance_ratio_ \n",
        "# One component explains 99.6% of variability if No rotation"
      ],
      "execution_count": 100,
      "outputs": [
        {
          "output_type": "execute_result",
          "data": {
            "text/plain": [
              "array([0.99603968, 0.00379193])"
            ]
          },
          "metadata": {
            "tags": []
          },
          "execution_count": 100
        }
      ]
    },
    {
      "cell_type": "markdown",
      "metadata": {
        "id": "kKUES2cT_JjB"
      },
      "source": [
        "### 28\n",
        "What variables are contained in Component 1 and Component 2 respectively?"
      ]
    },
    {
      "cell_type": "code",
      "metadata": {
        "colab": {
          "base_uri": "https://localhost:8080/"
        },
        "id": "V-4FxHWNDPiN",
        "outputId": "7084d2bd-81c0-4600-bea2-a1bb2de8a29b"
      },
      "source": [
        "fa = FactorAnalyzer(n_factors=3, method='principal', rotation=\"varimax\")\n",
        "fa.fit(cereals[cols])\n",
        "\n",
        "print(fa.loadings_.round(4)) \n",
        "\n",
        "# Components 1 : Fiber (0.9995 > 0)\n",
        "# Components 2 : Sugars (0.9708 > 0), Potass (0.2074 > 0)"
      ],
      "execution_count": 103,
      "outputs": [
        {
          "output_type": "stream",
          "text": [
            "[[-0.0278  0.9995 -0.0149]\n",
            " [ 0.9708 -0.121   0.2074]\n",
            " [ 0.9821  0.0259 -0.1867]]\n"
          ],
          "name": "stdout"
        }
      ]
    },
    {
      "cell_type": "markdown",
      "metadata": {
        "id": "dPNWlJjO_T_5"
      },
      "source": [
        "### 29\n",
        "Use two components as predictor variables in regression model\n",
        "<br> What are regression coefficient of two components?"
      ]
    },
    {
      "cell_type": "code",
      "metadata": {
        "colab": {
          "base_uri": "https://localhost:8080/"
        },
        "id": "0Ok4Tuhpbb_J",
        "outputId": "a690fc78-d8b8-4d9b-8b6a-61fd62566f31"
      },
      "source": [
        "from sklearn.linear_model import LinearRegression\n",
        "\n",
        "X_new = fa.transform(X)\n",
        "X_new = pd.DataFrame(X_new, columns=['P1','P2','P3'])\n",
        "Y_new = pd.DataFrame(cereals['Rating'])\n",
        "\n",
        "X_pca = X_new.iloc[:,:2]\n",
        "\n",
        "reg = LinearRegression().fit(X_pca, Y_new)\n",
        "reg.coef_"
      ],
      "execution_count": 117,
      "outputs": [
        {
          "output_type": "execute_result",
          "data": {
            "text/plain": [
              "array([[  6.74105031, -10.31047449]])"
            ]
          },
          "metadata": {
            "tags": []
          },
          "execution_count": 117
        }
      ]
    },
    {
      "cell_type": "code",
      "metadata": {
        "colab": {
          "base_uri": "https://localhost:8080/",
          "height": 437
        },
        "id": "vBJngKHxbS3B",
        "outputId": "4e68bea8-8689-4fb1-f86d-2cf46fc45bcc"
      },
      "source": [
        "# Linear Regression (from statsmodel pacakge) \n",
        "import statsmodels.api as sm\n",
        "\n",
        "Y_new.index = X_pca.index\n",
        "\n",
        "reg1 = sm.OLS(Y_new, X_pca).fit()\n",
        "reg1.summary()\n",
        "# coef [p1 : 6.7411, p2: -10.3105]"
      ],
      "execution_count": 131,
      "outputs": [
        {
          "output_type": "execute_result",
          "data": {
            "text/html": [
              "<table class=\"simpletable\">\n",
              "<caption>OLS Regression Results</caption>\n",
              "<tr>\n",
              "  <th>Dep. Variable:</th>         <td>Rating</td>      <th>  R-squared (uncentered):</th>      <td>   0.076</td>\n",
              "</tr>\n",
              "<tr>\n",
              "  <th>Model:</th>                   <td>OLS</td>       <th>  Adj. R-squared (uncentered):</th> <td>   0.051</td>\n",
              "</tr>\n",
              "<tr>\n",
              "  <th>Method:</th>             <td>Least Squares</td>  <th>  F-statistic:       </th>          <td>   2.972</td>\n",
              "</tr>\n",
              "<tr>\n",
              "  <th>Date:</th>             <td>Fri, 30 Jul 2021</td> <th>  Prob (F-statistic):</th>           <td>0.0575</td> \n",
              "</tr>\n",
              "<tr>\n",
              "  <th>Time:</th>                 <td>04:09:20</td>     <th>  Log-Likelihood:    </th>          <td> -383.11</td>\n",
              "</tr>\n",
              "<tr>\n",
              "  <th>No. Observations:</th>      <td>    74</td>      <th>  AIC:               </th>          <td>   770.2</td>\n",
              "</tr>\n",
              "<tr>\n",
              "  <th>Df Residuals:</th>          <td>    72</td>      <th>  BIC:               </th>          <td>   774.8</td>\n",
              "</tr>\n",
              "<tr>\n",
              "  <th>Df Model:</th>              <td>     2</td>      <th>                     </th>              <td> </td>   \n",
              "</tr>\n",
              "<tr>\n",
              "  <th>Covariance Type:</th>      <td>nonrobust</td>    <th>                     </th>              <td> </td>   \n",
              "</tr>\n",
              "</table>\n",
              "<table class=\"simpletable\">\n",
              "<tr>\n",
              "   <td></td>     <th>coef</th>     <th>std err</th>      <th>t</th>      <th>P>|t|</th>  <th>[0.025</th>    <th>0.975]</th>  \n",
              "</tr>\n",
              "<tr>\n",
              "  <th>P1</th> <td>    6.7411</td> <td>    5.052</td> <td>    1.334</td> <td> 0.186</td> <td>   -3.331</td> <td>   16.813</td>\n",
              "</tr>\n",
              "<tr>\n",
              "  <th>P2</th> <td>  -10.3105</td> <td>    5.052</td> <td>   -2.041</td> <td> 0.045</td> <td>  -20.382</td> <td>   -0.239</td>\n",
              "</tr>\n",
              "</table>\n",
              "<table class=\"simpletable\">\n",
              "<tr>\n",
              "  <th>Omnibus:</th>       <td> 5.650</td> <th>  Durbin-Watson:     </th> <td>   0.040</td>\n",
              "</tr>\n",
              "<tr>\n",
              "  <th>Prob(Omnibus):</th> <td> 0.059</td> <th>  Jarque-Bera (JB):  </th> <td>   5.697</td>\n",
              "</tr>\n",
              "<tr>\n",
              "  <th>Skew:</th>          <td> 0.648</td> <th>  Prob(JB):          </th> <td>  0.0579</td>\n",
              "</tr>\n",
              "<tr>\n",
              "  <th>Kurtosis:</th>      <td> 2.589</td> <th>  Cond. No.          </th> <td>    1.00</td>\n",
              "</tr>\n",
              "</table><br/><br/>Warnings:<br/>[1] Standard Errors assume that the covariance matrix of the errors is correctly specified."
            ],
            "text/plain": [
              "<class 'statsmodels.iolib.summary.Summary'>\n",
              "\"\"\"\n",
              "                                 OLS Regression Results                                \n",
              "=======================================================================================\n",
              "Dep. Variable:                 Rating   R-squared (uncentered):                   0.076\n",
              "Model:                            OLS   Adj. R-squared (uncentered):              0.051\n",
              "Method:                 Least Squares   F-statistic:                              2.972\n",
              "Date:                Fri, 30 Jul 2021   Prob (F-statistic):                      0.0575\n",
              "Time:                        04:09:20   Log-Likelihood:                         -383.11\n",
              "No. Observations:                  74   AIC:                                      770.2\n",
              "Df Residuals:                      72   BIC:                                      774.8\n",
              "Df Model:                           2                                                  \n",
              "Covariance Type:            nonrobust                                                  \n",
              "==============================================================================\n",
              "                 coef    std err          t      P>|t|      [0.025      0.975]\n",
              "------------------------------------------------------------------------------\n",
              "P1             6.7411      5.052      1.334      0.186      -3.331      16.813\n",
              "P2           -10.3105      5.052     -2.041      0.045     -20.382      -0.239\n",
              "==============================================================================\n",
              "Omnibus:                        5.650   Durbin-Watson:                   0.040\n",
              "Prob(Omnibus):                  0.059   Jarque-Bera (JB):                5.697\n",
              "Skew:                           0.648   Prob(JB):                       0.0579\n",
              "Kurtosis:                       2.589   Cond. No.                         1.00\n",
              "==============================================================================\n",
              "\n",
              "Warnings:\n",
              "[1] Standard Errors assume that the covariance matrix of the errors is correctly specified.\n",
              "\"\"\""
            ]
          },
          "metadata": {
            "tags": []
          },
          "execution_count": 131
        }
      ]
    },
    {
      "cell_type": "markdown",
      "metadata": {
        "id": "GQ7mbElq_lH1"
      },
      "source": [
        "### 30\n",
        "What are VIFs of two components in regression model"
      ]
    },
    {
      "cell_type": "code",
      "metadata": {
        "colab": {
          "base_uri": "https://localhost:8080/"
        },
        "id": "M-WeL8oY_siY",
        "outputId": "4d9ef66a-3c01-44f6-db4d-dcb2815edeed"
      },
      "source": [
        "# VIF \n",
        "[inf.variance_inflation_factor(X_pca.values,i) for i in range(X_pca.shape[1])] \n",
        "# VIF is very close to 1. Good\n",
        "# VIF = 1 / (1 - R^2) "
      ],
      "execution_count": 133,
      "outputs": [
        {
          "output_type": "execute_result",
          "data": {
            "text/plain": [
              "[0.9999999999999998, 1.0000000000000002]"
            ]
          },
          "metadata": {
            "tags": []
          },
          "execution_count": 133
        }
      ]
    },
    {
      "cell_type": "markdown",
      "metadata": {
        "id": "JOQLncV9oQxE"
      },
      "source": [
        "# 31 - 41\n",
        "For the following exercises, work with the red_wine_PCA_training and red_wine_PCA_test data sets. Use either Python or R to solve each problem. The target variable is the wine quality. The predictors are alcohol, residual sugar, pH, density, and fixed acidity."
      ]
    },
    {
      "cell_type": "code",
      "metadata": {
        "id": "hIxDlviModTd"
      },
      "source": [
        "red_train = pd.read_csv(folder + \"/red_wine_PCA_training\")\n",
        "red_test = pd.read_csv(folder + \"/red_wine_PCA_test\")\n",
        "\n",
        "red_train = red_train.dropna()\n",
        "red_test = red_test.dropna()\n",
        "\n",
        "Y = red_train[['quality']]\n",
        "X_names = ['alcohol', 'residual sugar', 'pH', 'density', 'fixed acidity']\n",
        "X = pd.DataFrame(red_train[X_names])"
      ],
      "execution_count": 141,
      "outputs": []
    },
    {
      "cell_type": "markdown",
      "metadata": {
        "id": "lv3SRYMBmudi"
      },
      "source": [
        "### 31\n",
        "Standardize or Normalize predictors"
      ]
    },
    {
      "cell_type": "code",
      "metadata": {
        "colab": {
          "base_uri": "https://localhost:8080/",
          "height": 204
        },
        "id": "8ZU9AskJoORa",
        "outputId": "786a8aa1-14ae-4977-bd35-d3a7281f472a"
      },
      "source": [
        "red_z = pd.DataFrame(stats.zscore(X), columns=X_names)\n",
        "red_z.head()"
      ],
      "execution_count": 143,
      "outputs": [
        {
          "output_type": "execute_result",
          "data": {
            "text/html": [
              "<div>\n",
              "<style scoped>\n",
              "    .dataframe tbody tr th:only-of-type {\n",
              "        vertical-align: middle;\n",
              "    }\n",
              "\n",
              "    .dataframe tbody tr th {\n",
              "        vertical-align: top;\n",
              "    }\n",
              "\n",
              "    .dataframe thead th {\n",
              "        text-align: right;\n",
              "    }\n",
              "</style>\n",
              "<table border=\"1\" class=\"dataframe\">\n",
              "  <thead>\n",
              "    <tr style=\"text-align: right;\">\n",
              "      <th></th>\n",
              "      <th>alcohol</th>\n",
              "      <th>residual sugar</th>\n",
              "      <th>pH</th>\n",
              "      <th>density</th>\n",
              "      <th>fixed acidity</th>\n",
              "    </tr>\n",
              "  </thead>\n",
              "  <tbody>\n",
              "    <tr>\n",
              "      <th>0</th>\n",
              "      <td>-1.808389</td>\n",
              "      <td>-0.707123</td>\n",
              "      <td>-1.060163</td>\n",
              "      <td>1.313986</td>\n",
              "      <td>1.013511</td>\n",
              "    </tr>\n",
              "    <tr>\n",
              "      <th>1</th>\n",
              "      <td>-1.338012</td>\n",
              "      <td>-0.470293</td>\n",
              "      <td>-1.673988</td>\n",
              "      <td>2.006631</td>\n",
              "      <td>3.002391</td>\n",
              "    </tr>\n",
              "    <tr>\n",
              "      <th>2</th>\n",
              "      <td>-1.338012</td>\n",
              "      <td>-0.707123</td>\n",
              "      <td>0.440298</td>\n",
              "      <td>-0.632017</td>\n",
              "      <td>-0.613755</td>\n",
              "    </tr>\n",
              "    <tr>\n",
              "      <th>3</th>\n",
              "      <td>-1.338012</td>\n",
              "      <td>-0.470293</td>\n",
              "      <td>0.576703</td>\n",
              "      <td>0.231041</td>\n",
              "      <td>-0.191871</td>\n",
              "    </tr>\n",
              "    <tr>\n",
              "      <th>4</th>\n",
              "      <td>-1.338012</td>\n",
              "      <td>-0.549236</td>\n",
              "      <td>1.190528</td>\n",
              "      <td>0.577363</td>\n",
              "      <td>-0.794562</td>\n",
              "    </tr>\n",
              "  </tbody>\n",
              "</table>\n",
              "</div>"
            ],
            "text/plain": [
              "    alcohol  residual sugar        pH   density  fixed acidity\n",
              "0 -1.808389       -0.707123 -1.060163  1.313986       1.013511\n",
              "1 -1.338012       -0.470293 -1.673988  2.006631       3.002391\n",
              "2 -1.338012       -0.707123  0.440298 -0.632017      -0.613755\n",
              "3 -1.338012       -0.470293  0.576703  0.231041      -0.191871\n",
              "4 -1.338012       -0.549236  1.190528  0.577363      -0.794562"
            ]
          },
          "metadata": {
            "tags": []
          },
          "execution_count": 143
        }
      ]
    },
    {
      "cell_type": "markdown",
      "metadata": {
        "id": "tRsjQET7pub2"
      },
      "source": [
        "### 32\n",
        "Construct the correlation matrix for the predictors. Between which predictors do you find the highest correlations?"
      ]
    },
    {
      "cell_type": "code",
      "metadata": {
        "colab": {
          "base_uri": "https://localhost:8080/",
          "height": 204
        },
        "id": "DS4ZCvTup4Si",
        "outputId": "ba192c07-130b-4524-82fb-cc482ca1250f"
      },
      "source": [
        "X.corr()\n",
        "# pH and fixed acidity has the highest correlation (66%)"
      ],
      "execution_count": 145,
      "outputs": [
        {
          "output_type": "execute_result",
          "data": {
            "text/html": [
              "<div>\n",
              "<style scoped>\n",
              "    .dataframe tbody tr th:only-of-type {\n",
              "        vertical-align: middle;\n",
              "    }\n",
              "\n",
              "    .dataframe tbody tr th {\n",
              "        vertical-align: top;\n",
              "    }\n",
              "\n",
              "    .dataframe thead th {\n",
              "        text-align: right;\n",
              "    }\n",
              "</style>\n",
              "<table border=\"1\" class=\"dataframe\">\n",
              "  <thead>\n",
              "    <tr style=\"text-align: right;\">\n",
              "      <th></th>\n",
              "      <th>alcohol</th>\n",
              "      <th>residual sugar</th>\n",
              "      <th>pH</th>\n",
              "      <th>density</th>\n",
              "      <th>fixed acidity</th>\n",
              "    </tr>\n",
              "  </thead>\n",
              "  <tbody>\n",
              "    <tr>\n",
              "      <th>alcohol</th>\n",
              "      <td>1.000000</td>\n",
              "      <td>0.023698</td>\n",
              "      <td>0.167717</td>\n",
              "      <td>-0.519857</td>\n",
              "      <td>-0.038576</td>\n",
              "    </tr>\n",
              "    <tr>\n",
              "      <th>residual sugar</th>\n",
              "      <td>0.023698</td>\n",
              "      <td>1.000000</td>\n",
              "      <td>-0.074161</td>\n",
              "      <td>0.317020</td>\n",
              "      <td>0.077262</td>\n",
              "    </tr>\n",
              "    <tr>\n",
              "      <th>pH</th>\n",
              "      <td>0.167717</td>\n",
              "      <td>-0.074161</td>\n",
              "      <td>1.000000</td>\n",
              "      <td>-0.307740</td>\n",
              "      <td>-0.663826</td>\n",
              "    </tr>\n",
              "    <tr>\n",
              "      <th>density</th>\n",
              "      <td>-0.519857</td>\n",
              "      <td>0.317020</td>\n",
              "      <td>-0.307740</td>\n",
              "      <td>1.000000</td>\n",
              "      <td>0.646620</td>\n",
              "    </tr>\n",
              "    <tr>\n",
              "      <th>fixed acidity</th>\n",
              "      <td>-0.038576</td>\n",
              "      <td>0.077262</td>\n",
              "      <td>-0.663826</td>\n",
              "      <td>0.646620</td>\n",
              "      <td>1.000000</td>\n",
              "    </tr>\n",
              "  </tbody>\n",
              "</table>\n",
              "</div>"
            ],
            "text/plain": [
              "                 alcohol  residual sugar        pH   density  fixed acidity\n",
              "alcohol         1.000000        0.023698  0.167717 -0.519857      -0.038576\n",
              "residual sugar  0.023698        1.000000 -0.074161  0.317020       0.077262\n",
              "pH              0.167717       -0.074161  1.000000 -0.307740      -0.663826\n",
              "density        -0.519857        0.317020 -0.307740  1.000000       0.646620\n",
              "fixed acidity  -0.038576        0.077262 -0.663826  0.646620       1.000000"
            ]
          },
          "metadata": {
            "tags": []
          },
          "execution_count": 145
        }
      ]
    },
    {
      "cell_type": "markdown",
      "metadata": {
        "id": "HGcWaaFPp6rK"
      },
      "source": [
        "### 33\n",
        "Build a regression model to estimate quality based on the predictors. \n",
        "<br>Obtain the VIFs from the model. \n",
        "<br>Which VIFs indicate that multicollinearity is a problem? \n",
        "<br>Compare the variables with high VIF to the correlated variables from the previous exercise."
      ]
    },
    {
      "cell_type": "code",
      "metadata": {
        "colab": {
          "base_uri": "https://localhost:8080/"
        },
        "id": "-3FLKSWxqM8S",
        "outputId": "ead567b5-1535-4137-ca62-7e991d300654"
      },
      "source": [
        "# Linear Regression (from sklearn pacakge) \n",
        "from sklearn.linear_model import LinearRegression\n",
        "\n",
        "X_const = sm.add_constant(X)\n",
        "reg = LinearRegression().fit(X_const, Y)\n",
        "reg.coef_"
      ],
      "execution_count": 175,
      "outputs": [
        {
          "output_type": "execute_result",
          "data": {
            "text/plain": [
              "array([[ 0.00000000e+00,  3.61168543e-01, -1.37820567e-02,\n",
              "        -4.92275923e-01, -5.25576342e+01,  9.11597197e-02]])"
            ]
          },
          "metadata": {
            "tags": []
          },
          "execution_count": 175
        }
      ]
    },
    {
      "cell_type": "code",
      "metadata": {
        "colab": {
          "base_uri": "https://localhost:8080/",
          "height": 554
        },
        "id": "AIQda57rvjbg",
        "outputId": "72070df1-85c9-4c62-f468-7ee051a8745f"
      },
      "source": [
        "# Linear Regression (from statsmodel pacakge) \n",
        "import statsmodels.api as sm\n",
        "\n",
        "X_const = sm.add_constant(X)\n",
        "reg1 = sm.OLS(Y, X_const).fit()\n",
        "reg1.summary()"
      ],
      "execution_count": 181,
      "outputs": [
        {
          "output_type": "execute_result",
          "data": {
            "text/html": [
              "<table class=\"simpletable\">\n",
              "<caption>OLS Regression Results</caption>\n",
              "<tr>\n",
              "  <th>Dep. Variable:</th>         <td>quality</td>     <th>  R-squared:         </th> <td>   0.302</td>\n",
              "</tr>\n",
              "<tr>\n",
              "  <th>Model:</th>                   <td>OLS</td>       <th>  Adj. R-squared:    </th> <td>   0.297</td>\n",
              "</tr>\n",
              "<tr>\n",
              "  <th>Method:</th>             <td>Least Squares</td>  <th>  F-statistic:       </th> <td>   53.32</td>\n",
              "</tr>\n",
              "<tr>\n",
              "  <th>Date:</th>             <td>Fri, 30 Jul 2021</td> <th>  Prob (F-statistic):</th> <td>5.59e-46</td>\n",
              "</tr>\n",
              "<tr>\n",
              "  <th>Time:</th>                 <td>04:56:45</td>     <th>  Log-Likelihood:    </th> <td> -642.54</td>\n",
              "</tr>\n",
              "<tr>\n",
              "  <th>No. Observations:</th>      <td>   621</td>      <th>  AIC:               </th> <td>   1297.</td>\n",
              "</tr>\n",
              "<tr>\n",
              "  <th>Df Residuals:</th>          <td>   615</td>      <th>  BIC:               </th> <td>   1324.</td>\n",
              "</tr>\n",
              "<tr>\n",
              "  <th>Df Model:</th>              <td>     5</td>      <th>                     </th>     <td> </td>   \n",
              "</tr>\n",
              "<tr>\n",
              "  <th>Covariance Type:</th>      <td>nonrobust</td>    <th>                     </th>     <td> </td>   \n",
              "</tr>\n",
              "</table>\n",
              "<table class=\"simpletable\">\n",
              "<tr>\n",
              "         <td></td>           <th>coef</th>     <th>std err</th>      <th>t</th>      <th>P>|t|</th>  <th>[0.025</th>    <th>0.975]</th>  \n",
              "</tr>\n",
              "<tr>\n",
              "  <th>const</th>          <td>   55.1426</td> <td>   34.633</td> <td>    1.592</td> <td> 0.112</td> <td>  -12.870</td> <td>  123.155</td>\n",
              "</tr>\n",
              "<tr>\n",
              "  <th>alcohol</th>        <td>    0.3612</td> <td>    0.043</td> <td>    8.469</td> <td> 0.000</td> <td>    0.277</td> <td>    0.445</td>\n",
              "</tr>\n",
              "<tr>\n",
              "  <th>residual sugar</th> <td>   -0.0138</td> <td>    0.026</td> <td>   -0.524</td> <td> 0.601</td> <td>   -0.065</td> <td>    0.038</td>\n",
              "</tr>\n",
              "<tr>\n",
              "  <th>pH</th>             <td>   -0.4923</td> <td>    0.302</td> <td>   -1.629</td> <td> 0.104</td> <td>   -1.086</td> <td>    0.101</td>\n",
              "</tr>\n",
              "<tr>\n",
              "  <th>density</th>        <td>  -52.5576</td> <td>   35.229</td> <td>   -1.492</td> <td> 0.136</td> <td> -121.741</td> <td>   16.626</td>\n",
              "</tr>\n",
              "<tr>\n",
              "  <th>fixed acidity</th>  <td>    0.0912</td> <td>    0.040</td> <td>    2.301</td> <td> 0.022</td> <td>    0.013</td> <td>    0.169</td>\n",
              "</tr>\n",
              "</table>\n",
              "<table class=\"simpletable\">\n",
              "<tr>\n",
              "  <th>Omnibus:</th>       <td> 5.509</td> <th>  Durbin-Watson:     </th> <td>   1.896</td>\n",
              "</tr>\n",
              "<tr>\n",
              "  <th>Prob(Omnibus):</th> <td> 0.064</td> <th>  Jarque-Bera (JB):  </th> <td>   7.011</td>\n",
              "</tr>\n",
              "<tr>\n",
              "  <th>Skew:</th>          <td>-0.062</td> <th>  Prob(JB):          </th> <td>  0.0300</td>\n",
              "</tr>\n",
              "<tr>\n",
              "  <th>Kurtosis:</th>      <td> 3.506</td> <th>  Cond. No.          </th> <td>2.53e+04</td>\n",
              "</tr>\n",
              "</table><br/><br/>Warnings:<br/>[1] Standard Errors assume that the covariance matrix of the errors is correctly specified.<br/>[2] The condition number is large, 2.53e+04. This might indicate that there are<br/>strong multicollinearity or other numerical problems."
            ],
            "text/plain": [
              "<class 'statsmodels.iolib.summary.Summary'>\n",
              "\"\"\"\n",
              "                            OLS Regression Results                            \n",
              "==============================================================================\n",
              "Dep. Variable:                quality   R-squared:                       0.302\n",
              "Model:                            OLS   Adj. R-squared:                  0.297\n",
              "Method:                 Least Squares   F-statistic:                     53.32\n",
              "Date:                Fri, 30 Jul 2021   Prob (F-statistic):           5.59e-46\n",
              "Time:                        04:56:45   Log-Likelihood:                -642.54\n",
              "No. Observations:                 621   AIC:                             1297.\n",
              "Df Residuals:                     615   BIC:                             1324.\n",
              "Df Model:                           5                                         \n",
              "Covariance Type:            nonrobust                                         \n",
              "==================================================================================\n",
              "                     coef    std err          t      P>|t|      [0.025      0.975]\n",
              "----------------------------------------------------------------------------------\n",
              "const             55.1426     34.633      1.592      0.112     -12.870     123.155\n",
              "alcohol            0.3612      0.043      8.469      0.000       0.277       0.445\n",
              "residual sugar    -0.0138      0.026     -0.524      0.601      -0.065       0.038\n",
              "pH                -0.4923      0.302     -1.629      0.104      -1.086       0.101\n",
              "density          -52.5576     35.229     -1.492      0.136    -121.741      16.626\n",
              "fixed acidity      0.0912      0.040      2.301      0.022       0.013       0.169\n",
              "==============================================================================\n",
              "Omnibus:                        5.509   Durbin-Watson:                   1.896\n",
              "Prob(Omnibus):                  0.064   Jarque-Bera (JB):                7.011\n",
              "Skew:                          -0.062   Prob(JB):                       0.0300\n",
              "Kurtosis:                       3.506   Cond. No.                     2.53e+04\n",
              "==============================================================================\n",
              "\n",
              "Warnings:\n",
              "[1] Standard Errors assume that the covariance matrix of the errors is correctly specified.\n",
              "[2] The condition number is large, 2.53e+04. This might indicate that there are\n",
              "strong multicollinearity or other numerical problems.\n",
              "\"\"\""
            ]
          },
          "metadata": {
            "tags": []
          },
          "execution_count": 181
        }
      ]
    },
    {
      "cell_type": "code",
      "metadata": {
        "colab": {
          "base_uri": "https://localhost:8080/"
        },
        "id": "55cjeJPYqeIK",
        "outputId": "5671b7c7-ff04-4e5b-94ee-7b7e045e4aa7"
      },
      "source": [
        "# VIF \n",
        "X_const = sm.add_constant(X)\n",
        "[inf.variance_inflation_factor(X_const.values,i) for i in range(X_const.shape[1])] \n",
        "# (VIF_density, VIF_fixed acidity) have high VIF\n",
        "# Corr(density, fixed acidity) also has the highest (0.6466)"
      ],
      "execution_count": 183,
      "outputs": [
        {
          "output_type": "execute_result",
          "data": {
            "text/plain": [
              "[1590733.3571037701,\n",
              " 2.7251326972759715,\n",
              " 1.4728548708001044,\n",
              " 2.6049882952512537,\n",
              " 5.446835149159644,\n",
              " 5.729267807828775]"
            ]
          },
          "metadata": {
            "tags": []
          },
          "execution_count": 183
        }
      ]
    },
    {
      "cell_type": "markdown",
      "metadata": {
        "id": "ThXVysztq_7y"
      },
      "source": [
        "###34\n",
        "Perform PCA using varimax rotation. \n",
        "<br>Show the rotated proportions of variance explained for extracting up to five components. \n",
        "<br>What percent of the variability is explained by one component? By two components? By three components? By four components? By all five components?"
      ]
    },
    {
      "cell_type": "code",
      "metadata": {
        "colab": {
          "base_uri": "https://localhost:8080/"
        },
        "id": "TxCGMzCWyiDy",
        "outputId": "0a9214d1-de37-469a-d0db-e58082e41c35"
      },
      "source": [
        "# varimax rotation\n",
        "\n",
        "from factor_analyzer import FactorAnalyzer\n",
        "fa = FactorAnalyzer(n_factors=5, method='principal', rotation=\"varimax\")\n",
        "fa.fit(X)\n",
        "\n",
        "#print(fa.loadings_.round(4))       # meaning?    ex) 1st row : [-0.0278  0.9995 -0.0149] means that Component 1 contains Fiber factor (0.9995 > 0)\n",
        "#fa.get_eigenvalues()               # meaning?\n",
        "\n",
        "fa.get_factor_variance()            # 1st row : eigenvalue / 2nd row : variance per each factor / 3rd row : cumulative variance per each factor\n",
        "\n",
        "# One component explains 29.21 % of variability\n",
        "# Two Components explain 53.79% of variability \n",
        "# Three Components explain 77.01% of variability \n",
        "# Four Components explain 97.87% of variability \n",
        "# All five Components explain 100.00% of variability "
      ],
      "execution_count": 184,
      "outputs": [
        {
          "output_type": "execute_result",
          "data": {
            "text/plain": [
              "(array([1.46070534, 1.22911707, 1.16079218, 1.04303778, 0.10634762]),\n",
              " array([0.29214107, 0.24582341, 0.23215844, 0.20860756, 0.02126952]),\n",
              " array([0.29214107, 0.53796448, 0.77012292, 0.97873048, 1.        ]))"
            ]
          },
          "metadata": {
            "tags": []
          },
          "execution_count": 184
        }
      ]
    },
    {
      "cell_type": "code",
      "metadata": {
        "colab": {
          "base_uri": "https://localhost:8080/"
        },
        "id": "oK6f7U0xz81m",
        "outputId": "abbe1be8-d058-40f3-b9bd-3440ae0f6c7f"
      },
      "source": [
        "#no rotation\n",
        "\n",
        "pca02 = PCA(n_components=5)\n",
        "principComp = pca02.fit_transform(X)\n",
        "\n",
        "print(pca02.explained_variance_ratio_)              # variability per components\n",
        "print(np.cumsum(pca02.explained_variance_ratio_))   # cumulative variability\n",
        "\n",
        "# 3 components explain 99.79 % of variability"
      ],
      "execution_count": 190,
      "outputs": [
        {
          "output_type": "stream",
          "text": [
            "[5.05992647e-01 2.87852894e-01 2.04061243e-01 2.09310562e-03\n",
            " 1.10277987e-07]\n",
            "[0.50599265 0.79384554 0.99790678 0.99999989 1.        ]\n"
          ],
          "name": "stdout"
        }
      ]
    },
    {
      "cell_type": "markdown",
      "metadata": {
        "id": "NtfmbWh1ylTC"
      },
      "source": [
        "### 35\n",
        "Say we want to explain at least 90% of the variability. \n",
        "<br>How many components does the proportion of variance explained criterion suggest we extract?"
      ]
    },
    {
      "cell_type": "code",
      "metadata": {
        "id": "vDtwANZ-ylak"
      },
      "source": [
        "# 4 components "
      ],
      "execution_count": 185,
      "outputs": []
    },
    {
      "cell_type": "markdown",
      "metadata": {
        "id": "qYGFy3hMyliK"
      },
      "source": [
        "### 36\n",
        "Make a plot of the eigenvalues of the five components. \n",
        "<br>According to the eigenvalue cri- terion, how many components should we extract?"
      ]
    },
    {
      "cell_type": "code",
      "metadata": {
        "colab": {
          "base_uri": "https://localhost:8080/",
          "height": 279
        },
        "id": "gg5rLvMDylqD",
        "outputId": "e07abd1d-eab7-4950-9d5b-e3d377441178"
      },
      "source": [
        "import matplotlib.pyplot as plt\n",
        "\n",
        "cov_mat = np.cov(red_z, rowvar=False)\n",
        "evals = np.linalg.eigvals(cov_mat)              # eigen value of covariance matrix... meaning?\n",
        "comp = [1,2,3,4,5]\n",
        "\n",
        "plt.plot(comp, evals, color='black')\n",
        "plt.xlabel(\"Component\")\n",
        "plt.ylabel(\"Eigenvalues\")\n",
        "plt.xticks(np.arange(1,6,1))\n",
        "plt.axhline(y=1.0, color='r',linestyle='dashed')\n",
        "plt.show()\n",
        "\n",
        "# 3 components should be extracted based on the eigenvalue criterion"
      ],
      "execution_count": 210,
      "outputs": [
        {
          "output_type": "display_data",
          "data": {
            "image/png": "[encoded data removed]",
            "text/plain": [
              "<Figure size 432x288 with 1 Axes>"
            ]
          },
          "metadata": {
            "tags": [],
            "needs_background": "light"
          }
        }
      ]
    },
    {
      "cell_type": "markdown",
      "metadata": {
        "id": "V1os4PPoFPg7"
      },
      "source": [
        "### 37\n",
        "Combine the recommendations from the two criteria to reach a consensus as to how many components we should extract."
      ]
    },
    {
      "cell_type": "code",
      "metadata": {
        "id": "fIPmIERrEfpn"
      },
      "source": [
        "# The Proportion of Variance Explained Criterion : Extract 4 components \n",
        "# The Eigenvalue Criterion : Extract 3 components\n",
        "# Combine these two criterion : Extract 4 components"
      ],
      "execution_count": 212,
      "outputs": []
    },
    {
      "cell_type": "markdown",
      "metadata": {
        "id": "2B_sL5yUHfli"
      },
      "source": [
        "### 38\n",
        "Profile each of your components, stating which variables are included, and noting their within‐component correlation (positive or negative).\n",
        "<br>For simplicity, consider components weights greater than 0.5 only."
      ]
    },
    {
      "cell_type": "code",
      "metadata": {
        "colab": {
          "base_uri": "https://localhost:8080/"
        },
        "id": "fWHuKjNzHw2U",
        "outputId": "c187928d-24c3-446b-90a8-66dacd5222fb"
      },
      "source": [
        "# varimax rotation\n",
        "\n",
        "from factor_analyzer import FactorAnalyzer\n",
        "fa = FactorAnalyzer(n_factors=5, method='principal', rotation=\"varimax\")\n",
        "fa.fit(X)\n",
        "\n",
        "print(fa.loadings_.round(4))       # meaning?    ex) 1st row : [-0.0278  0.9995 -0.0149] means that Component 1 contains Fiber factor (0.9995 > 0)\n",
        "#fa.get_factor_variance()            # 1st row : eigenvalue / 2nd row : variance per each factor / 3rd row : cumulative variance per each factor\n",
        "\n",
        "# Principal Component 1 contains pH \n",
        "# Principal Component 2 contains density\n",
        "# Principal Component 3 contains residual sugar\n",
        "# Principal Component 4 contains alcohol\n",
        "# Principal Component 5 contains alcohol"
      ],
      "execution_count": 223,
      "outputs": [
        {
          "output_type": "stream",
          "text": [
            "[[-1.325e-01  5.910e-02  9.890e-01  2.470e-02  1.700e-02]\n",
            " [ 1.049e-01 -2.330e-02  1.480e-02  9.940e-01 -1.050e-02]\n",
            " [-2.083e-01  9.739e-01  8.420e-02 -3.100e-02  8.000e-04]\n",
            " [ 8.596e-01 -8.930e-02 -4.077e-01  2.303e-01 -1.839e-01]\n",
            " [ 8.061e-01 -5.182e-01  9.580e-02 -1.810e-02  2.686e-01]]\n"
          ],
          "name": "stdout"
        }
      ]
    },
    {
      "cell_type": "markdown",
      "metadata": {
        "id": "vKXSTxk4HlE6"
      },
      "source": [
        "### 39\n",
        "Produce the correlation matrix for the components. \n",
        "<br>What do these values mean?"
      ]
    },
    {
      "cell_type": "code",
      "metadata": {
        "colab": {
          "base_uri": "https://localhost:8080/",
          "height": 204
        },
        "id": "y5vm0C9dHwNy",
        "outputId": "a6617920-5b32-48b2-eb1a-9746f7472a3a"
      },
      "source": [
        "pca02 = PCA(n_components=5)\n",
        "X_pca = pca02.fit_transform(X)\n",
        "X_pca = pd.DataFrame(X_pca, columns=X_names)\n",
        "X_pca.corr()\n",
        "\n",
        "# No correlation between predictor variables.\n",
        "# orthogonal to each other"
      ],
      "execution_count": 229,
      "outputs": [
        {
          "output_type": "execute_result",
          "data": {
            "text/html": [
              "<div>\n",
              "<style scoped>\n",
              "    .dataframe tbody tr th:only-of-type {\n",
              "        vertical-align: middle;\n",
              "    }\n",
              "\n",
              "    .dataframe tbody tr th {\n",
              "        vertical-align: top;\n",
              "    }\n",
              "\n",
              "    .dataframe thead th {\n",
              "        text-align: right;\n",
              "    }\n",
              "</style>\n",
              "<table border=\"1\" class=\"dataframe\">\n",
              "  <thead>\n",
              "    <tr style=\"text-align: right;\">\n",
              "      <th></th>\n",
              "      <th>alcohol</th>\n",
              "      <th>residual sugar</th>\n",
              "      <th>pH</th>\n",
              "      <th>density</th>\n",
              "      <th>fixed acidity</th>\n",
              "    </tr>\n",
              "  </thead>\n",
              "  <tbody>\n",
              "    <tr>\n",
              "      <th>alcohol</th>\n",
              "      <td>1.000000e+00</td>\n",
              "      <td>-4.540732e-16</td>\n",
              "      <td>-7.756233e-17</td>\n",
              "      <td>-1.126815e-16</td>\n",
              "      <td>-2.048635e-16</td>\n",
              "    </tr>\n",
              "    <tr>\n",
              "      <th>residual sugar</th>\n",
              "      <td>-4.540732e-16</td>\n",
              "      <td>1.000000e+00</td>\n",
              "      <td>-9.506809e-18</td>\n",
              "      <td>-4.833893e-17</td>\n",
              "      <td>3.008293e-17</td>\n",
              "    </tr>\n",
              "    <tr>\n",
              "      <th>pH</th>\n",
              "      <td>-7.756233e-17</td>\n",
              "      <td>-9.506809e-18</td>\n",
              "      <td>1.000000e+00</td>\n",
              "      <td>-5.024770e-17</td>\n",
              "      <td>5.492761e-18</td>\n",
              "    </tr>\n",
              "    <tr>\n",
              "      <th>density</th>\n",
              "      <td>-1.126815e-16</td>\n",
              "      <td>-4.833893e-17</td>\n",
              "      <td>-5.024770e-17</td>\n",
              "      <td>1.000000e+00</td>\n",
              "      <td>-1.368899e-17</td>\n",
              "    </tr>\n",
              "    <tr>\n",
              "      <th>fixed acidity</th>\n",
              "      <td>-2.048635e-16</td>\n",
              "      <td>3.008293e-17</td>\n",
              "      <td>5.492761e-18</td>\n",
              "      <td>-1.368899e-17</td>\n",
              "      <td>1.000000e+00</td>\n",
              "    </tr>\n",
              "  </tbody>\n",
              "</table>\n",
              "</div>"
            ],
            "text/plain": [
              "                     alcohol  residual sugar  ...       density  fixed acidity\n",
              "alcohol         1.000000e+00   -4.540732e-16  ... -1.126815e-16  -2.048635e-16\n",
              "residual sugar -4.540732e-16    1.000000e+00  ... -4.833893e-17   3.008293e-17\n",
              "pH             -7.756233e-17   -9.506809e-18  ... -5.024770e-17   5.492761e-18\n",
              "density        -1.126815e-16   -4.833893e-17  ...  1.000000e+00  -1.368899e-17\n",
              "fixed acidity  -2.048635e-16    3.008293e-17  ... -1.368899e-17   1.000000e+00\n",
              "\n",
              "[5 rows x 5 columns]"
            ]
          },
          "metadata": {
            "tags": []
          },
          "execution_count": 229
        }
      ]
    },
    {
      "cell_type": "markdown",
      "metadata": {
        "id": "ezoZ8QSuSHTK"
      },
      "source": [
        "### 40\n",
        "Next, use only the components you extracted to estimate wine quality using a regression model. Do not include the original predictors.\n",
        "<br>a.  Compare the values of s and Radj  2    between the PCA regression and the original regression model.\n",
        "<br>b.  Explain why the original model slightly outperformed the PCA model.\n",
        "<br>c.  Explain how the PCA model may be considered superior, even though slightly outperformed?"
      ]
    },
    {
      "cell_type": "code",
      "metadata": {
        "colab": {
          "base_uri": "https://localhost:8080/"
        },
        "id": "Dr-r-LcOSsOq",
        "outputId": "ecd20208-98a9-44a0-c3ef-92dce0250ea6"
      },
      "source": [
        "from sklearn.linear_model import LinearRegression\n",
        "\n",
        "X_new = fa.transform(X)\n",
        "X_new = pd.DataFrame(X_new, columns=['P1','P2','P3', 'P4', 'P5'])\n",
        "Y_new = pd.DataFrame(red_train['quality'])\n",
        "\n",
        "X_pca = X_new.iloc[:,:4]\n",
        "\n",
        "reg = LinearRegression().fit(X_pca, Y_new)\n",
        "reg.coef_"
      ],
      "execution_count": 235,
      "outputs": [
        {
          "output_type": "execute_result",
          "data": {
            "text/plain": [
              "array([[ 0.00208193, -0.11704762,  0.42680992, -0.03039964]])"
            ]
          },
          "metadata": {
            "tags": []
          },
          "execution_count": 235
        }
      ]
    },
    {
      "cell_type": "code",
      "metadata": {
        "colab": {
          "base_uri": "https://localhost:8080/"
        },
        "id": "Jx5R-L9zUSlI",
        "outputId": "b3eb9909-709f-423b-9ad3-82902d586836"
      },
      "source": [
        "# Linear Regression (from statsmodel pacakge) \n",
        "import statsmodels.api as sm\n",
        "\n",
        "Y_new.index = X_pca.index\n",
        "\n",
        "reg2 = sm.OLS(Y_new, X_pca).fit()\n",
        "\n",
        "print(\"PCA Regression Model\\ns: %.4f \\nR: %.4f\" % (np.sqrt(reg2.scale), reg2.rsquared_adj) )  # s, R_adj \n",
        "print(reg2.summary())  # summary \n",
        "# R: -0.0003\n",
        "# s: 5.6766"
      ],
      "execution_count": 248,
      "outputs": [
        {
          "output_type": "stream",
          "text": [
            "PCA Regression Model\n",
            "s: 5.6766 \n",
            "R: -0.0003\n",
            "                                 OLS Regression Results                                \n",
            "=======================================================================================\n",
            "Dep. Variable:                quality   R-squared (uncentered):                   0.006\n",
            "Model:                            OLS   Adj. R-squared (uncentered):             -0.000\n",
            "Method:                 Least Squares   F-statistic:                             0.9481\n",
            "Date:                Fri, 30 Jul 2021   Prob (F-statistic):                       0.436\n",
            "Time:                        07:59:42   Log-Likelihood:                         -1957.4\n",
            "No. Observations:                 621   AIC:                                      3923.\n",
            "Df Residuals:                     617   BIC:                                      3941.\n",
            "Df Model:                           4                                                  \n",
            "Covariance Type:            nonrobust                                                  \n",
            "==============================================================================\n",
            "                 coef    std err          t      P>|t|      [0.025      0.975]\n",
            "------------------------------------------------------------------------------\n",
            "P1             0.0021      0.228      0.009      0.993      -0.445       0.449\n",
            "P2            -0.1170      0.228     -0.514      0.608      -0.564       0.330\n",
            "P3             0.4268      0.228      1.874      0.061      -0.021       0.874\n",
            "P4            -0.0304      0.228     -0.133      0.894      -0.478       0.417\n",
            "==============================================================================\n",
            "Omnibus:                        4.600   Durbin-Watson:                   0.028\n",
            "Prob(Omnibus):                  0.100   Jarque-Bera (JB):                5.611\n",
            "Skew:                          -0.049   Prob(JB):                       0.0605\n",
            "Kurtosis:                       3.455   Cond. No.                         1.00\n",
            "==============================================================================\n",
            "\n",
            "Warnings:\n",
            "[1] Standard Errors assume that the covariance matrix of the errors is correctly specified.\n"
          ],
          "name": "stdout"
        }
      ]
    },
    {
      "cell_type": "code",
      "metadata": {
        "colab": {
          "base_uri": "https://localhost:8080/"
        },
        "id": "C9d1sufJYVt7",
        "outputId": "4e215354-7e77-4ae2-8717-1c126d45866f"
      },
      "source": [
        "# Original Regression model \n",
        "reg_orig = sm.OLS(Y, X).fit()\n",
        "\n",
        "print(\"Original Regression Model\\ns: %.4f \\nR: %.4f\" % (np.sqrt(reg_orig.scale), reg_orig.rsquared_adj) )  # s, R_adj \n",
        "print(reg_orig.summary())  # summary\n",
        "# s: 0.6851\n",
        "# R: 0.986"
      ],
      "execution_count": 247,
      "outputs": [
        {
          "output_type": "stream",
          "text": [
            "Original Regression Model\n",
            "s: 0.6851 \n",
            "R: 0.9854\n",
            "                                 OLS Regression Results                                \n",
            "=======================================================================================\n",
            "Dep. Variable:                quality   R-squared (uncentered):                   0.986\n",
            "Model:                            OLS   Adj. R-squared (uncentered):              0.985\n",
            "Method:                 Least Squares   F-statistic:                              8400.\n",
            "Date:                Fri, 30 Jul 2021   Prob (F-statistic):                        0.00\n",
            "Time:                        07:59:21   Log-Likelihood:                         -643.82\n",
            "No. Observations:                 621   AIC:                                      1298.\n",
            "Df Residuals:                     616   BIC:                                      1320.\n",
            "Df Model:                           5                                                  \n",
            "Covariance Type:            nonrobust                                                  \n",
            "==================================================================================\n",
            "                     coef    std err          t      P>|t|      [0.025      0.975]\n",
            "----------------------------------------------------------------------------------\n",
            "alcohol            0.4147      0.026     15.763      0.000       0.363       0.466\n",
            "residual sugar    -0.0372      0.022     -1.706      0.089      -0.080       0.006\n",
            "pH                -0.7393      0.260     -2.846      0.005      -1.249      -0.229\n",
            "density            3.5125      0.985      3.565      0.000       1.577       5.448\n",
            "fixed acidity      0.0397      0.023      1.730      0.084      -0.005       0.085\n",
            "==============================================================================\n",
            "Omnibus:                        5.272   Durbin-Watson:                   1.900\n",
            "Prob(Omnibus):                  0.072   Jarque-Bera (JB):                6.616\n",
            "Skew:                          -0.061   Prob(JB):                       0.0366\n",
            "Kurtosis:                       3.491   Cond. No.                         519.\n",
            "==============================================================================\n",
            "\n",
            "Warnings:\n",
            "[1] Standard Errors assume that the covariance matrix of the errors is correctly specified.\n"
          ],
          "name": "stdout"
        }
      ]
    },
    {
      "cell_type": "code",
      "metadata": {
        "id": "7qvBQE1vb0TY"
      },
      "source": [
        "# Why original model outperform ?   s of original model is very smaller than PCA model"
      ],
      "execution_count": null,
      "outputs": []
    },
    {
      "cell_type": "markdown",
      "metadata": {
        "id": "PNtd_JBES3Oo"
      },
      "source": [
        "# 41\n",
        "In your regression from the previous exercise, what are the VIFs of the two components in the regression model? \n",
        "<br>What do these values mean?"
      ]
    },
    {
      "cell_type": "code",
      "metadata": {
        "colab": {
          "base_uri": "https://localhost:8080/",
          "height": 204
        },
        "id": "0dBF12DLcTGi",
        "outputId": "f8ae0b14-536d-4170-8c08-70775435fc05"
      },
      "source": [
        "X_pca.head()"
      ],
      "execution_count": 249,
      "outputs": [
        {
          "output_type": "execute_result",
          "data": {
            "text/html": [
              "<div>\n",
              "<style scoped>\n",
              "    .dataframe tbody tr th:only-of-type {\n",
              "        vertical-align: middle;\n",
              "    }\n",
              "\n",
              "    .dataframe tbody tr th {\n",
              "        vertical-align: top;\n",
              "    }\n",
              "\n",
              "    .dataframe thead th {\n",
              "        text-align: right;\n",
              "    }\n",
              "</style>\n",
              "<table border=\"1\" class=\"dataframe\">\n",
              "  <thead>\n",
              "    <tr style=\"text-align: right;\">\n",
              "      <th></th>\n",
              "      <th>P1</th>\n",
              "      <th>P2</th>\n",
              "      <th>P3</th>\n",
              "      <th>P4</th>\n",
              "    </tr>\n",
              "  </thead>\n",
              "  <tbody>\n",
              "    <tr>\n",
              "      <th>0</th>\n",
              "      <td>0.902598</td>\n",
              "      <td>-0.778908</td>\n",
              "      <td>-1.642782</td>\n",
              "      <td>-0.799415</td>\n",
              "    </tr>\n",
              "    <tr>\n",
              "      <th>1</th>\n",
              "      <td>2.389233</td>\n",
              "      <td>-1.147261</td>\n",
              "      <td>-0.982535</td>\n",
              "      <td>-0.715414</td>\n",
              "    </tr>\n",
              "    <tr>\n",
              "      <th>2</th>\n",
              "      <td>-0.908038</td>\n",
              "      <td>0.369059</td>\n",
              "      <td>-1.510947</td>\n",
              "      <td>-0.566963</td>\n",
              "    </tr>\n",
              "    <tr>\n",
              "      <th>3</th>\n",
              "      <td>0.018199</td>\n",
              "      <td>0.702649</td>\n",
              "      <td>-1.400046</td>\n",
              "      <td>-0.426556</td>\n",
              "    </tr>\n",
              "    <tr>\n",
              "      <th>4</th>\n",
              "      <td>0.199163</td>\n",
              "      <td>1.368627</td>\n",
              "      <td>-1.387089</td>\n",
              "      <td>-0.525587</td>\n",
              "    </tr>\n",
              "  </tbody>\n",
              "</table>\n",
              "</div>"
            ],
            "text/plain": [
              "         P1        P2        P3        P4\n",
              "0  0.902598 -0.778908 -1.642782 -0.799415\n",
              "1  2.389233 -1.147261 -0.982535 -0.715414\n",
              "2 -0.908038  0.369059 -1.510947 -0.566963\n",
              "3  0.018199  0.702649 -1.400046 -0.426556\n",
              "4  0.199163  1.368627 -1.387089 -0.525587"
            ]
          },
          "metadata": {
            "tags": []
          },
          "execution_count": 249
        }
      ]
    },
    {
      "cell_type": "code",
      "metadata": {
        "colab": {
          "base_uri": "https://localhost:8080/"
        },
        "id": "mePwmZZSS5ja",
        "outputId": "f4d95f85-7e94-4847-a983-eb5782cb5c50"
      },
      "source": [
        "# VIF \n",
        "[inf.variance_inflation_factor(X_pca.values,i) for i in range(X_pca.shape[1])] \n",
        "# VIF is very close to 1. Good\n",
        "# VIF = 1 / (1 - R^2) "
      ],
      "execution_count": 250,
      "outputs": [
        {
          "output_type": "execute_result",
          "data": {
            "text/plain": [
              "[0.9999999999999993, 1.0000000000000002, 1.0, 0.9999999999999998]"
            ]
          },
          "metadata": {
            "tags": []
          },
          "execution_count": 250
        }
      ]
    },
    {
      "cell_type": "code",
      "metadata": {
        "id": "CsmnbFj8cV0U"
      },
      "source": [
        ""
      ],
      "execution_count": null,
      "outputs": []
    }
  ]
}